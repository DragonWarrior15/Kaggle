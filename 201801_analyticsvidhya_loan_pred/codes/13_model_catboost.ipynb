{
 "cells": [
  {
   "cell_type": "code",
   "execution_count": 1,
   "metadata": {
    "collapsed": true
   },
   "outputs": [],
   "source": [
    "import pandas as pd\n",
    "import numpy as np\n",
    "from datetime import datetime\n",
    "import matplotlib.pyplot as plt\n",
    "import seaborn as sns\n",
    "\n",
    "%matplotlib inline\n",
    "\n",
    "import warnings\n",
    "warnings.filterwarnings(action='once')"
   ]
  },
  {
   "cell_type": "code",
   "execution_count": 17,
   "metadata": {},
   "outputs": [],
   "source": [
    "from sklearn.linear_model import LinearRegression\n",
    "from sklearn.preprocessing import StandardScaler\n",
    "from sklearn.preprocessing import LabelEncoder\n",
    "\n",
    "from sklearn.ensemble import RandomForestClassifier\n",
    "from sklearn.ensemble import GradientBoostingClassifier\n",
    "\n",
    "from xgboost import XGBRegressor, plot_tree, XGBClassifier\n",
    "from catboost import CatBoostClassifier\n",
    "from lightgbm import LGBMClassifier\n",
    "\n",
    "from sklearn.metrics import r2_score, roc_auc_score\n",
    "from sklearn.model_selection import KFold, cross_val_score, GridSearchCV\n",
    "from scipy import stats"
   ]
  },
  {
   "cell_type": "code",
   "execution_count": 3,
   "metadata": {
    "collapsed": true
   },
   "outputs": [],
   "source": [
    "def etl_pipeline(df, is_train = False, create_interactions = False, fillna_dict = None,\\\n",
    "                 single_interaction_vars = None, higher_interaction_vars = None, df_grouping_train = None,\\\n",
    "                 target = None):\n",
    "    assert target != None\n",
    "    columns = [x.lower() for x in df.columns.tolist()]\n",
    "    df.columns = columns\n",
    "    df_etl = df.loc[:,:]\n",
    "    if is_train == True:\n",
    "        # apply some filter here\n",
    "        # df_etl = df_etl.loc[(~df_etl['dob'].isnull()) & (~df_etl['loan_period'].isnull())]\n",
    "        df_etl = df_etl.loc[(~df_etl['dob'].isnull())]\n",
    "        \n",
    "    # create new variables\n",
    "    df_etl['dob_year'] = df_etl['dob'].apply(lambda x: datetime.strptime(x, '%d/%m/%y').year if int(x[-2:]) > 16 else 2000 + int(x[-2:]))\n",
    "    df_etl['dob_month'] = df_etl['dob'].apply(lambda x: datetime.strptime(x, '%d/%m/%y').month)\n",
    "    df_etl['creation_month'] = df_etl['lead_creation_date'].apply(lambda x: datetime.strptime(x, '%d/%m/%y').month)\n",
    "    df_etl['creation_day'] = df_etl['lead_creation_date'].apply(lambda x: datetime.strptime(x, '%d/%m/%y').day)\n",
    "    df_etl['creation_is_weekday'] = df_etl['lead_creation_date'].apply(lambda x: 1 if datetime.strptime(x, '%d/%m/%y').weekday() >= 5 else 0)\n",
    "    df_etl['age'] = df_etl['dob_year'].apply(lambda x: 2016 - x)\n",
    "    df_etl['int_rate_missing'] = df_etl['interest_rate'].apply(lambda x: 1 if pd.isnull(x) else 0)\n",
    "    df_etl['bank_missing'] = df_etl['primary_bank_type'].apply(lambda x: 1 if pd.isnull(x) else 0)\n",
    "    df_etl['employer_missing'] = df_etl['employer_code'].apply(lambda x: 1 if pd.isnull(x) else 0)\n",
    "    df_etl['total_income_minus_total_loan'] = df_etl.apply(lambda x: x['loan_period'] * 12 * x['monthly_income'] * 0.2 - \\\n",
    "                                                           x['loan_amount'] * (1 + np.power(1.1, x['loan_period'])), axis = 1)\n",
    "    df_etl['monthly_income'] = df_etl['monthly_income'].apply(lambda x: 15000 if x > 15000 else x)\n",
    "    df_etl['is_income_zero'] = df_etl['monthly_income'].apply(lambda x: 1 if x == 0 else 0)\n",
    "    df_etl['existing_emi'] = df_etl['existing_emi'].apply(lambda x: 30000 if x >= 30000 else x)\n",
    "    df_etl['existing_emi'] = df_etl['existing_emi'].apply(lambda x: 2 if x <= 2 else x)\n",
    "    df_etl['existing_loan'] = df_etl['existing_emi'].apply(lambda x: 0 if pd.isnull(x) or x == 0 else 1)\n",
    "\n",
    "    # encode basic variables\n",
    "    employer_category1_dict = {'A':1, 'B':2, 'C':3, 'D':4, 'E':5, 'F':6, 'G':7}\n",
    "    df_etl['employer_category1'] = df_etl['employer_category1'].apply(lambda x: employer_category1_dict[x] if x in employer_category1_dict else x)\n",
    "    df_etl['city_category'] = df_etl['city_category'].apply(lambda x: employer_category1_dict[x] if x in employer_category1_dict else x)\n",
    "    df_etl['source_category'] = df_etl['source_category'].apply(lambda x: employer_category1_dict[x] if x in employer_category1_dict else x)\n",
    "    city_list = ['C10001','C10002','C10003','C10004','C10005','C10006','C10007','C10008','C10009','C10010','C10011','C10012','C10013','C10014','C10015','C10016']\n",
    "    df_etl['city_code_1d'] = df_etl['city_code'].apply(lambda x: int(x[-1:]) if x in city_list else len(city_list) + 1)\n",
    "    df_etl['city_code_2d'] = df_etl['city_code'].apply(lambda x: int(x[-2:]) if x in city_list else len(city_list) + 1)\n",
    "    df_etl['city_code_3d'] = df_etl['city_code'].apply(lambda x: int(x[-3:]) if x in city_list else len(city_list) + 1)\n",
    "    df_etl['contacted'] = df_etl['contacted'].apply(lambda x: 1 if x == 'Y' else 0)\n",
    "    df_etl['gender'] = df_etl['gender'].apply(lambda x: 1 if x == 'Male' else 0)\n",
    "    source_code_list = ['S134','S137','S127','S143','S159','S133','S122']\n",
    "    df_etl['source'] = df_etl['source'].apply(lambda x: int(x[-3:]) if x in source_code_list else 1)\n",
    "\n",
    "    # fill missing values\n",
    "    if fillna_dict is not None:\n",
    "        df_etl.fillna(fillna_dict, inplace = True)\n",
    "    \n",
    "    if create_interactions == True and is_train == True:\n",
    "        if single_interaction_vars is not None:\n",
    "            df_grouping = {}\n",
    "            for var_to_group in single_interaction_vars:\n",
    "                print (var_to_group)\n",
    "                df_grouping[var_to_group] = df_etl.groupby([var_to_group])\\\n",
    "                                                  .agg({target:[np.mean, 'count']})\n",
    "                new_col_names =  [df_grouping[var_to_group].index.name] + ['_'.join([df_grouping[var_to_group].index.name] + list(x)) \\\n",
    "                                  for x in (df_grouping[var_to_group].columns.ravel())]\n",
    "                # print (new_col_names)\n",
    "                df_grouping[var_to_group].reset_index(inplace = True)\n",
    "                df_grouping[var_to_group].columns = new_col_names\n",
    "                for col in df_grouping[var_to_group].columns:\n",
    "                    if '_count' in col:\n",
    "                        df_grouping[var_to_group][col] = df_grouping[var_to_group][col]/len(df)\n",
    "\n",
    "                df_etl = pd.merge(left = df_etl, right = df_grouping[var_to_group], on = var_to_group, how = 'left')\n",
    "\n",
    "        if higher_interaction_vars is not None:\n",
    "            for var_to_group in higher_interaction_vars:\n",
    "                print (var_to_group)\n",
    "                df_grouping[var_to_group] = df_etl.groupby(list(var_to_group))\\\n",
    "                                              .agg({target:[np.mean, 'count']})\n",
    "                new_col_names =  list(var_to_group) + ['_'.join(['_'.join(var_to_group)] + list(x)) \\\n",
    "                                  for x in (df_grouping[var_to_group].columns.ravel())]\n",
    "                df_grouping[var_to_group].reset_index(inplace = True)\n",
    "                df_grouping[var_to_group].columns = new_col_names\n",
    "                for col in df_grouping[var_to_group].columns:\n",
    "                    if '_count' in col[-6:]:\n",
    "                        df_grouping[var_to_group][col] = df_grouping[var_to_group][col]/len(df)\n",
    "\n",
    "                df_etl = pd.merge(left = df_etl, right = df_grouping[var_to_group], on = list(var_to_group), how = 'left')\n",
    "            \n",
    "    if is_train == False and create_interactions == True:\n",
    "        assert df_grouping_train is not None\n",
    "        for var_to_group in df_grouping_train.keys():\n",
    "            df_etl = pd.merge(left = df_etl, right = df_grouping_train[var_to_group], on = var_to_group, how = 'left')\n",
    "        \n",
    "    if is_train == True:\n",
    "        if (len(df_grouping) > 0):\n",
    "            return (df_etl, df_grouping)\n",
    "    return (df_etl)\n",
    "    "
   ]
  },
  {
   "cell_type": "code",
   "execution_count": 4,
   "metadata": {
    "collapsed": true
   },
   "outputs": [],
   "source": [
    "df = pd.read_csv('../inputs/train.csv')\n",
    "fillna_dict = {'employer_category1':-1, 'employer_category2':-1,\\\n",
    "               'customer_existing_primary_bank_code':-1, 'primary_bank_type':-1,\\\n",
    "               'existing_emi':0, 'loan_period':-1, 'loan_amount':-1}\n",
    "single_interaction_vars = ['city_category','employer_category1','employer_category2',\\\n",
    "                           'customer_existing_primary_bank_code','primary_bank_type','source',\\\n",
    "                           'source_category','var1']\n",
    "higher_interaction_vars = [('employer_category1','employer_category2'), ('source', 'city_category'),\\\n",
    "                           ('var1', 'source'), ('existing_loan', 'var1')]"
   ]
  },
  {
   "cell_type": "code",
   "execution_count": 5,
   "metadata": {},
   "outputs": [
    {
     "name": "stderr",
     "output_type": "stream",
     "text": [
      "C:\\ProgramData\\Anaconda3\\lib\\site-packages\\ipykernel_launcher.py:12: SettingWithCopyWarning: \n",
      "A value is trying to be set on a copy of a slice from a DataFrame.\n",
      "Try using .loc[row_indexer,col_indexer] = value instead\n",
      "\n",
      "See the caveats in the documentation: http://pandas.pydata.org/pandas-docs/stable/indexing.html#indexing-view-versus-copy\n",
      "  if sys.path[0] == '':\n",
      "C:\\ProgramData\\Anaconda3\\lib\\site-packages\\pandas\\core\\generic.py:3549: SettingWithCopyWarning: \n",
      "A value is trying to be set on a copy of a slice from a DataFrame\n",
      "\n",
      "See the caveats in the documentation: http://pandas.pydata.org/pandas-docs/stable/indexing.html#indexing-view-versus-copy\n",
      "  self._update_inplace(new_data)\n"
     ]
    },
    {
     "name": "stdout",
     "output_type": "stream",
     "text": [
      "city_category\n",
      "employer_category1\n",
      "employer_category2\n",
      "customer_existing_primary_bank_code\n",
      "primary_bank_type\n",
      "source\n",
      "source_category\n",
      "var1\n",
      "('employer_category1', 'employer_category2')\n",
      "('source', 'city_category')\n",
      "('var1', 'source')\n",
      "('existing_loan', 'var1')\n"
     ]
    }
   ],
   "source": [
    "df, df_grouping_train = etl_pipeline(df, is_train = True, create_interactions = True, fillna_dict = fillna_dict,\\\n",
    "                                     single_interaction_vars = single_interaction_vars, \\\n",
    "                                     higher_interaction_vars = higher_interaction_vars, \\\n",
    "                                     target = 'approved')"
   ]
  },
  {
   "cell_type": "code",
   "execution_count": 6,
   "metadata": {},
   "outputs": [
    {
     "name": "stdout",
     "output_type": "stream",
     "text": [
      "id                                                       object\n",
      "gender                                                    int64\n",
      "dob                                                      object\n",
      "lead_creation_date                                       object\n",
      "city_code                                                object\n",
      "city_category                                           float64\n",
      "employer_code                                            object\n",
      "employer_category1                                      float64\n",
      "employer_category2                                      float64\n",
      "monthly_income                                          float64\n",
      "customer_existing_primary_bank_code                      object\n",
      "primary_bank_type                                        object\n",
      "contacted                                                 int64\n",
      "source                                                    int64\n",
      "source_category                                           int64\n",
      "existing_emi                                            float64\n",
      "loan_amount                                             float64\n",
      "loan_period                                             float64\n",
      "interest_rate                                           float64\n",
      "emi                                                     float64\n",
      "var1                                                      int64\n",
      "approved                                                  int64\n",
      "dob_year                                                  int64\n",
      "dob_month                                                 int64\n",
      "creation_month                                            int64\n",
      "creation_day                                              int64\n",
      "creation_is_weekday                                       int64\n",
      "age                                                       int64\n",
      "int_rate_missing                                          int64\n",
      "bank_missing                                              int64\n",
      "                                                         ...   \n",
      "total_income_minus_total_loan                           float64\n",
      "is_income_zero                                            int64\n",
      "existing_loan                                             int64\n",
      "city_code_1d                                              int64\n",
      "city_code_2d                                              int64\n",
      "city_code_3d                                              int64\n",
      "city_category_approved_mean                             float64\n",
      "city_category_approved_count                            float64\n",
      "employer_category1_approved_mean                        float64\n",
      "employer_category1_approved_count                       float64\n",
      "employer_category2_approved_mean                        float64\n",
      "employer_category2_approved_count                       float64\n",
      "customer_existing_primary_bank_code_approved_mean       float64\n",
      "customer_existing_primary_bank_code_approved_count      float64\n",
      "primary_bank_type_approved_mean                         float64\n",
      "primary_bank_type_approved_count                        float64\n",
      "source_approved_mean                                    float64\n",
      "source_approved_count                                   float64\n",
      "source_category_approved_mean                           float64\n",
      "source_category_approved_count                          float64\n",
      "var1_approved_mean                                      float64\n",
      "var1_approved_count                                     float64\n",
      "employer_category1_employer_category2_approved_mean     float64\n",
      "employer_category1_employer_category2_approved_count    float64\n",
      "source_city_category_approved_mean                      float64\n",
      "source_city_category_approved_count                     float64\n",
      "var1_source_approved_mean                               float64\n",
      "var1_source_approved_count                              float64\n",
      "existing_loan_var1_approved_mean                        float64\n",
      "existing_loan_var1_approved_count                       float64\n",
      "Length: 61, dtype: object\n"
     ]
    }
   ],
   "source": [
    "print (df.dtypes)"
   ]
  },
  {
   "cell_type": "code",
   "execution_count": 7,
   "metadata": {
    "collapsed": true
   },
   "outputs": [],
   "source": [
    "input_cols_xgb_encode = [] \n",
    "input_cols_xgb_numeric = df.dtypes[(df.dtypes == np.int64) | (df.dtypes == np.float64)].index.tolist()\n",
    "# print (input_cols_xgb_numeric)\n",
    "input_cols_xgb_numeric.remove('approved')\n",
    "target_cols_xgb = ['approved']"
   ]
  },
  {
   "cell_type": "code",
   "execution_count": 8,
   "metadata": {},
   "outputs": [
    {
     "name": "stdout",
     "output_type": "stream",
     "text": [
      "['gender', 'city_category', 'monthly_income', 'source', 'source_category', 'existing_emi', 'loan_amount', 'loan_period', 'interest_rate', 'emi', 'dob_year', 'dob_month', 'creation_month', 'creation_day', 'age', 'int_rate_missing', 'total_income_minus_total_loan', 'city_code_1d', 'city_code_2d', 'city_category_approved_mean', 'city_category_approved_count', 'customer_existing_primary_bank_code_approved_mean', 'source_category_approved_mean', 'employer_category1_employer_category2_approved_mean', 'employer_category1_employer_category2_approved_count', 'source_city_category_approved_mean', 'source_city_category_approved_count', 'var1_source_approved_mean', 'var1_source_approved_count', 'existing_loan_var1_approved_mean']\n"
     ]
    }
   ],
   "source": [
    "# remove low feature importance columns\n",
    "low_importance_cols = ['var1_approved_mean','source_category_approved_count','var1_approved_count',\\\n",
    "                       'source_approved_mean','existing_loan_var1_approved_count','gender_source_approved_mean',\\\n",
    "                       'source_approved_count','city_code_3d','primary_bank_type_approved_count','employer_missing',\\\n",
    "                       'employer_category1','employer_category2','contacted','var1','creation_is_weekday',\\\n",
    "                       'bank_missing','is_income_zero','primary_bank_type_approved_mean','existing_loan',\\\n",
    "                       'employer_category1_approved_mean','employer_category1_approved_count',\\\n",
    "                       'employer_category2_approved_mean','employer_category2_approved_count',\\\n",
    "                       'customer_existing_primary_bank_code_approved_count','gender_source_approved_count']\n",
    "for col in list(low_importance_cols):\n",
    "    if col in input_cols_xgb_encode:\n",
    "        input_cols_xgb_encode.remove(col)\n",
    "    if col in input_cols_xgb_numeric:\n",
    "        input_cols_xgb_numeric.remove(col)\n",
    "        \n",
    "print (input_cols_xgb_numeric)"
   ]
  },
  {
   "cell_type": "code",
   "execution_count": 20,
   "metadata": {
    "collapsed": true
   },
   "outputs": [],
   "source": [
    "X_xgb = df[input_cols_xgb_encode + input_cols_xgb_numeric].fillna(-1).as_matrix()\n",
    "label_enc = [LabelEncoder() for i in range(len(input_cols_xgb_encode))]\n",
    "\n",
    "for i in range(len(label_enc)):\n",
    "    print (input_cols_xgb_encode[i])\n",
    "    label_enc[i].fit(X_xgb[:, i])\n",
    "    X_xgb[:, i] = label_enc[i].transform(X_xgb[:, i])\n",
    "\n",
    "y_xgb = df[target_cols_xgb].as_matrix().reshape(-1,)"
   ]
  },
  {
   "cell_type": "code",
   "execution_count": 21,
   "metadata": {},
   "outputs": [
    {
     "name": "stdout",
     "output_type": "stream",
     "text": [
      "(69698, 30) (69698,) 1020\n"
     ]
    }
   ],
   "source": [
    "print (X_xgb.shape, y_xgb.shape, y_xgb.sum())"
   ]
  },
  {
   "cell_type": "code",
   "execution_count": 22,
   "metadata": {},
   "outputs": [
    {
     "data": {
      "text/plain": [
       "68.3313725490196"
      ]
     },
     "execution_count": 22,
     "metadata": {},
     "output_type": "execute_result"
    }
   ],
   "source": [
    "69698/1020"
   ]
  },
  {
   "cell_type": "code",
   "execution_count": 23,
   "metadata": {
    "collapsed": true
   },
   "outputs": [],
   "source": [
    "y_xgb_weights = (y_xgb * 8) + 1"
   ]
  },
  {
   "cell_type": "code",
   "execution_count": 24,
   "metadata": {},
   "outputs": [
    {
     "name": "stdout",
     "output_type": "stream",
     "text": [
      "1, Train : 0.83087 , Test : 0.84572\n",
      "2, Train : 0.83706 , Test : 0.8267\n",
      "3, Train : 0.83952 , Test : 0.8193\n",
      "4, Train : 0.83058 , Test : 0.84585\n"
     ]
    }
   ],
   "source": [
    "model_list = []\n",
    "kf = KFold(n_splits = 4, shuffle = True)\n",
    "kf_index = 0\n",
    "for train_indices, test_indices in kf.split(X_xgb):\n",
    "    X_train, X_test = X_xgb[train_indices], X_xgb[test_indices]\n",
    "    y_train, y_test = y_xgb[train_indices], y_xgb[test_indices]\n",
    "    \n",
    "    xgb_clf = RandomForestClassifier(random_state=100, n_estimators = 500, \\\n",
    "                                     max_depth = 3, min_samples_leaf = 10)\n",
    "        \n",
    "    xgb_clf.fit(X_xgb, y_xgb, sample_weight = y_xgb_weights)\n",
    "    model_list.append(xgb_clf)\n",
    "    kf_index += 1\n",
    "    \n",
    "    print(str(kf_index) + ',' + ' Train : ' + str(round(roc_auc_score(y_train, xgb_clf.predict_proba(X_train)[:,1]), 5)) + \\\n",
    "          ' , Test : ' + str(round(roc_auc_score(y_test, xgb_clf.predict_proba(X_test)[:,1]), 5)))"
   ]
  },
  {
   "cell_type": "code",
   "execution_count": 25,
   "metadata": {},
   "outputs": [
    {
     "name": "stdout",
     "output_type": "stream",
     "text": [
      "266 0\n"
     ]
    }
   ],
   "source": [
    "print (y_test.sum(), xgb_clf.predict(X_test).sum())"
   ]
  },
  {
   "cell_type": "code",
   "execution_count": 26,
   "metadata": {},
   "outputs": [
    {
     "name": "stderr",
     "output_type": "stream",
     "text": [
      "C:\\ProgramData\\Anaconda3\\lib\\site-packages\\seaborn\\categorical.py:342: DeprecationWarning: pandas.core.common.is_categorical_dtype is deprecated. import from the public API: pandas.api.types.is_categorical_dtype instead\n",
      "  elif is_categorical(y):\n"
     ]
    },
    {
     "data": {
      "text/plain": [
       "<matplotlib.axes._subplots.AxesSubplot at 0x201e97bc6a0>"
      ]
     },
     "execution_count": 26,
     "metadata": {},
     "output_type": "execute_result"
    },
    {
     "data": {
      "image/png": "[encoded data removed]",
      "text/plain": [
       "<matplotlib.figure.Figure at 0x201e97bceb8>"
      ]
     },
     "metadata": {},
     "output_type": "display_data"
    }
   ],
   "source": [
    "# plot the feature importances\n",
    "df_feature_importance = pd.DataFrame(list(zip((input_cols_xgb_encode + input_cols_xgb_numeric), \\\n",
    "                                              xgb_clf.feature_importances_)),\\\n",
    "                                     columns = ['column_name', 'feature_importance'])\n",
    "df_feature_importance = df_feature_importance.sort_values(by = 'feature_importance', ascending = False).reset_index()\n",
    "df_feature_importance['feature_importance'] *= 100\n",
    "fig, axs = plt.subplots(nrows = 1, ncols = 1, figsize=(12 , 10))\n",
    "sns.barplot(x = 'feature_importance', y = 'column_name', data = df_feature_importance)"
   ]
  },
  {
   "cell_type": "code",
   "execution_count": 193,
   "metadata": {
    "collapsed": true
   },
   "outputs": [
    {
     "data": {
      "text/html": [
       "<div>\n",
       "<style>\n",
       "    .dataframe thead tr:only-child th {\n",
       "        text-align: right;\n",
       "    }\n",
       "\n",
       "    .dataframe thead th {\n",
       "        text-align: left;\n",
       "    }\n",
       "\n",
       "    .dataframe tbody tr th {\n",
       "        vertical-align: top;\n",
       "    }\n",
       "</style>\n",
       "<table border=\"1\" class=\"dataframe\">\n",
       "  <thead>\n",
       "    <tr style=\"text-align: right;\">\n",
       "      <th></th>\n",
       "      <th>index</th>\n",
       "      <th>column_name</th>\n",
       "      <th>feature_importance</th>\n",
       "    </tr>\n",
       "  </thead>\n",
       "  <tbody>\n",
       "    <tr>\n",
       "      <th>0</th>\n",
       "      <td>27</td>\n",
       "      <td>source_city_code_approved_mean</td>\n",
       "      <td>14800</td>\n",
       "    </tr>\n",
       "    <tr>\n",
       "      <th>1</th>\n",
       "      <td>2</td>\n",
       "      <td>monthly_income</td>\n",
       "      <td>12900</td>\n",
       "    </tr>\n",
       "    <tr>\n",
       "      <th>2</th>\n",
       "      <td>21</td>\n",
       "      <td>customer_existing_primary_bank_code_approved_mean</td>\n",
       "      <td>4500</td>\n",
       "    </tr>\n",
       "    <tr>\n",
       "      <th>3</th>\n",
       "      <td>5</td>\n",
       "      <td>existing_emi</td>\n",
       "      <td>4500</td>\n",
       "    </tr>\n",
       "    <tr>\n",
       "      <th>4</th>\n",
       "      <td>8</td>\n",
       "      <td>interest_rate</td>\n",
       "      <td>3500</td>\n",
       "    </tr>\n",
       "    <tr>\n",
       "      <th>5</th>\n",
       "      <td>16</td>\n",
       "      <td>total_income_minus_total_loan</td>\n",
       "      <td>2700</td>\n",
       "    </tr>\n",
       "    <tr>\n",
       "      <th>6</th>\n",
       "      <td>29</td>\n",
       "      <td>var1_source_approved_mean</td>\n",
       "      <td>2600</td>\n",
       "    </tr>\n",
       "    <tr>\n",
       "      <th>7</th>\n",
       "      <td>9</td>\n",
       "      <td>emi</td>\n",
       "      <td>2400</td>\n",
       "    </tr>\n",
       "    <tr>\n",
       "      <th>8</th>\n",
       "      <td>10</td>\n",
       "      <td>dob_year</td>\n",
       "      <td>2200</td>\n",
       "    </tr>\n",
       "    <tr>\n",
       "      <th>9</th>\n",
       "      <td>23</td>\n",
       "      <td>employer_category1_employer_category2_approved...</td>\n",
       "      <td>1900</td>\n",
       "    </tr>\n",
       "    <tr>\n",
       "      <th>10</th>\n",
       "      <td>7</td>\n",
       "      <td>loan_period</td>\n",
       "      <td>700</td>\n",
       "    </tr>\n",
       "    <tr>\n",
       "      <th>11</th>\n",
       "      <td>28</td>\n",
       "      <td>source_city_code_approved_count</td>\n",
       "      <td>600</td>\n",
       "    </tr>\n",
       "    <tr>\n",
       "      <th>12</th>\n",
       "      <td>18</td>\n",
       "      <td>city_code_2d</td>\n",
       "      <td>600</td>\n",
       "    </tr>\n",
       "    <tr>\n",
       "      <th>13</th>\n",
       "      <td>17</td>\n",
       "      <td>city_code_1d</td>\n",
       "      <td>600</td>\n",
       "    </tr>\n",
       "    <tr>\n",
       "      <th>14</th>\n",
       "      <td>1</td>\n",
       "      <td>city_category</td>\n",
       "      <td>600</td>\n",
       "    </tr>\n",
       "    <tr>\n",
       "      <th>15</th>\n",
       "      <td>11</td>\n",
       "      <td>dob_month</td>\n",
       "      <td>600</td>\n",
       "    </tr>\n",
       "    <tr>\n",
       "      <th>16</th>\n",
       "      <td>14</td>\n",
       "      <td>age</td>\n",
       "      <td>400</td>\n",
       "    </tr>\n",
       "    <tr>\n",
       "      <th>17</th>\n",
       "      <td>13</td>\n",
       "      <td>creation_day</td>\n",
       "      <td>400</td>\n",
       "    </tr>\n",
       "    <tr>\n",
       "      <th>18</th>\n",
       "      <td>6</td>\n",
       "      <td>loan_amount</td>\n",
       "      <td>300</td>\n",
       "    </tr>\n",
       "    <tr>\n",
       "      <th>19</th>\n",
       "      <td>30</td>\n",
       "      <td>var1_source_approved_count</td>\n",
       "      <td>200</td>\n",
       "    </tr>\n",
       "    <tr>\n",
       "      <th>20</th>\n",
       "      <td>3</td>\n",
       "      <td>source</td>\n",
       "      <td>200</td>\n",
       "    </tr>\n",
       "    <tr>\n",
       "      <th>21</th>\n",
       "      <td>24</td>\n",
       "      <td>employer_category1_employer_category2_approved...</td>\n",
       "      <td>200</td>\n",
       "    </tr>\n",
       "    <tr>\n",
       "      <th>22</th>\n",
       "      <td>25</td>\n",
       "      <td>source_city_category_approved_mean</td>\n",
       "      <td>100</td>\n",
       "    </tr>\n",
       "    <tr>\n",
       "      <th>23</th>\n",
       "      <td>31</td>\n",
       "      <td>existing_loan_var1_approved_mean</td>\n",
       "      <td>100</td>\n",
       "    </tr>\n",
       "    <tr>\n",
       "      <th>24</th>\n",
       "      <td>22</td>\n",
       "      <td>source_category_approved_mean</td>\n",
       "      <td>100</td>\n",
       "    </tr>\n",
       "    <tr>\n",
       "      <th>25</th>\n",
       "      <td>19</td>\n",
       "      <td>city_category_approved_mean</td>\n",
       "      <td>100</td>\n",
       "    </tr>\n",
       "    <tr>\n",
       "      <th>26</th>\n",
       "      <td>4</td>\n",
       "      <td>source_category</td>\n",
       "      <td>100</td>\n",
       "    </tr>\n",
       "    <tr>\n",
       "      <th>27</th>\n",
       "      <td>20</td>\n",
       "      <td>city_category_approved_count</td>\n",
       "      <td>0</td>\n",
       "    </tr>\n",
       "    <tr>\n",
       "      <th>28</th>\n",
       "      <td>26</td>\n",
       "      <td>source_city_category_approved_count</td>\n",
       "      <td>0</td>\n",
       "    </tr>\n",
       "    <tr>\n",
       "      <th>29</th>\n",
       "      <td>15</td>\n",
       "      <td>int_rate_missing</td>\n",
       "      <td>0</td>\n",
       "    </tr>\n",
       "    <tr>\n",
       "      <th>30</th>\n",
       "      <td>12</td>\n",
       "      <td>creation_month</td>\n",
       "      <td>0</td>\n",
       "    </tr>\n",
       "    <tr>\n",
       "      <th>31</th>\n",
       "      <td>0</td>\n",
       "      <td>gender</td>\n",
       "      <td>0</td>\n",
       "    </tr>\n",
       "  </tbody>\n",
       "</table>\n",
       "</div>"
      ],
      "text/plain": [
       "    index                                        column_name  \\\n",
       "0      27                     source_city_code_approved_mean   \n",
       "1       2                                     monthly_income   \n",
       "2      21  customer_existing_primary_bank_code_approved_mean   \n",
       "3       5                                       existing_emi   \n",
       "4       8                                      interest_rate   \n",
       "5      16                      total_income_minus_total_loan   \n",
       "6      29                          var1_source_approved_mean   \n",
       "7       9                                                emi   \n",
       "8      10                                           dob_year   \n",
       "9      23  employer_category1_employer_category2_approved...   \n",
       "10      7                                        loan_period   \n",
       "11     28                    source_city_code_approved_count   \n",
       "12     18                                       city_code_2d   \n",
       "13     17                                       city_code_1d   \n",
       "14      1                                      city_category   \n",
       "15     11                                          dob_month   \n",
       "16     14                                                age   \n",
       "17     13                                       creation_day   \n",
       "18      6                                        loan_amount   \n",
       "19     30                         var1_source_approved_count   \n",
       "20      3                                             source   \n",
       "21     24  employer_category1_employer_category2_approved...   \n",
       "22     25                 source_city_category_approved_mean   \n",
       "23     31                   existing_loan_var1_approved_mean   \n",
       "24     22                      source_category_approved_mean   \n",
       "25     19                        city_category_approved_mean   \n",
       "26      4                                    source_category   \n",
       "27     20                       city_category_approved_count   \n",
       "28     26                source_city_category_approved_count   \n",
       "29     15                                   int_rate_missing   \n",
       "30     12                                     creation_month   \n",
       "31      0                                             gender   \n",
       "\n",
       "    feature_importance  \n",
       "0                14800  \n",
       "1                12900  \n",
       "2                 4500  \n",
       "3                 4500  \n",
       "4                 3500  \n",
       "5                 2700  \n",
       "6                 2600  \n",
       "7                 2400  \n",
       "8                 2200  \n",
       "9                 1900  \n",
       "10                 700  \n",
       "11                 600  \n",
       "12                 600  \n",
       "13                 600  \n",
       "14                 600  \n",
       "15                 600  \n",
       "16                 400  \n",
       "17                 400  \n",
       "18                 300  \n",
       "19                 200  \n",
       "20                 200  \n",
       "21                 200  \n",
       "22                 100  \n",
       "23                 100  \n",
       "24                 100  \n",
       "25                 100  \n",
       "26                 100  \n",
       "27                   0  \n",
       "28                   0  \n",
       "29                   0  \n",
       "30                   0  \n",
       "31                   0  "
      ]
     },
     "execution_count": 193,
     "metadata": {},
     "output_type": "execute_result"
    }
   ],
   "source": [
    "df_feature_importance"
   ]
  },
  {
   "cell_type": "code",
   "execution_count": null,
   "metadata": {
    "collapsed": true
   },
   "outputs": [],
   "source": []
  },
  {
   "cell_type": "code",
   "execution_count": 249,
   "metadata": {
    "collapsed": true
   },
   "outputs": [],
   "source": [
    "# make predictions on the test set\n",
    "df_test = pd.read_csv('../inputs/test.csv')"
   ]
  },
  {
   "cell_type": "code",
   "execution_count": 250,
   "metadata": {},
   "outputs": [
    {
     "name": "stderr",
     "output_type": "stream",
     "text": [
      "C:\\ProgramData\\Anaconda3\\lib\\site-packages\\ipykernel_launcher.py:4: SettingWithCopyWarning: \n",
      "A value is trying to be set on a copy of a slice from a DataFrame.\n",
      "Try using .loc[row_indexer,col_indexer] = value instead\n",
      "\n",
      "See the caveats in the documentation: http://pandas.pydata.org/pandas-docs/stable/indexing.html#indexing-view-versus-copy\n",
      "  after removing the cwd from sys.path.\n"
     ]
    }
   ],
   "source": [
    "# test_filter = (df_test['DOB'].isnull()) | (df_test['Loan_Period'].isnull())\n",
    "test_filter = (df_test['DOB'].isnull())\n",
    "df_test_1 = df_test.loc[test_filter, :]\n",
    "df_test_1['Approved'] = 0\n",
    "df_test = df_test.loc[~test_filter, :]"
   ]
  },
  {
   "cell_type": "code",
   "execution_count": 251,
   "metadata": {
    "collapsed": true
   },
   "outputs": [],
   "source": [
    "df_test = etl_pipeline(df_test, is_train=False, create_interactions=True, fillna_dict=fillna_dict,\\\n",
    "                      df_grouping_train=df_grouping_train, target = 'approved')"
   ]
  },
  {
   "cell_type": "code",
   "execution_count": 260,
   "metadata": {
    "collapsed": true
   },
   "outputs": [],
   "source": [
    "# make predictions on the test set with the optimum parameters\n",
    "X_xgb_test = df_test[input_cols_xgb_encode + input_cols_xgb_numeric].as_matrix()\n",
    "\n",
    "for i in range(len(label_enc)):\n",
    "    X_xgb_test[:, i] = label_enc[i].transform(X_xgb_test[:, i])\n",
    "\n",
    "df_submit = pd.DataFrame(df_test['id'])\n",
    "df_submit.rename(columns = {'id':'ID'}, inplace = True)\n",
    "df_submit['Approved'] = np.mean([clf.predict_proba(X_xgb_test)[:,1] for clf in model_list], axis = 0)\n",
    "df_submit = pd.concat([df_submit, df_test_1[['ID', 'Approved']]])\n",
    "\n",
    "df_submit.to_csv('../submissions/submit_20180121_0229_rf_s100.csv', index=False)\n"
   ]
  },
  {
   "cell_type": "code",
   "execution_count": null,
   "metadata": {
    "collapsed": true
   },
   "outputs": [],
   "source": []
  }
 ],
 "metadata": {
  "kernelspec": {
   "display_name": "Python 3",
   "language": "python",
   "name": "python3"
  },
  "language_info": {
   "codemirror_mode": {
    "name": "ipython",
    "version": 3
   },
   "file_extension": ".py",
   "mimetype": "text/x-python",
   "name": "python",
   "nbconvert_exporter": "python",
   "pygments_lexer": "ipython3",
   "version": "3.6.1"
  }
 },
 "nbformat": 4,
 "nbformat_minor": 2
}
