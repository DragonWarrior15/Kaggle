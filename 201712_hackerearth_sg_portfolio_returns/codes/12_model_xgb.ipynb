{
 "cells": [
  {
   "cell_type": "code",
   "execution_count": 1,
   "metadata": {
    "collapsed": true
   },
   "outputs": [],
   "source": [
    "import pandas as pd\n",
    "import numpy as np\n",
    "from datetime import datetime\n",
    "import matplotlib.pyplot as plt\n",
    "import seaborn as sns\n",
    "\n",
    "%matplotlib inline"
   ]
  },
  {
   "cell_type": "code",
   "execution_count": 2,
   "metadata": {
    "collapsed": true
   },
   "outputs": [],
   "source": [
    "from sklearn.linear_model import LinearRegression\n",
    "from sklearn.preprocessing import StandardScaler\n",
    "from sklearn.preprocessing import LabelEncoder\n",
    "\n",
    "from sklearn.ensemble import RandomForestRegressor\n",
    "from sklearn.ensemble import GradientBoostingClassifier\n",
    "\n",
    "from xgboost import XGBRegressor, plot_tree\n",
    "\n",
    "from sklearn.metrics import r2_score\n",
    "from sklearn.model_selection import GridSearchCV"
   ]
  },
  {
   "cell_type": "code",
   "execution_count": 3,
   "metadata": {
    "collapsed": true
   },
   "outputs": [],
   "source": [
    "df = pd.read_csv('../inputs/train.csv')"
   ]
  },
  {
   "cell_type": "code",
   "execution_count": 4,
   "metadata": {
    "collapsed": true
   },
   "outputs": [],
   "source": [
    "global_filter = (df['return'] < 0.1) & (df['pf_category'] != 'E') & (df['type'] != 'G') & (df['bought'] < 1e10)"
   ]
  },
  {
   "cell_type": "code",
   "execution_count": 5,
   "metadata": {
    "collapsed": true
   },
   "outputs": [],
   "source": [
    "df = df.loc[global_filter, :]"
   ]
  },
  {
   "cell_type": "code",
   "execution_count": 6,
   "metadata": {
    "collapsed": true
   },
   "outputs": [],
   "source": [
    "df['indicator_code'] = df['indicator_code'].isnull().apply(lambda x: int(x))\n",
    "hedge_value_dict = {True:1, False:0}\n",
    "df['hedge_value'] = df['hedge_value'].apply(lambda x: hedge_value_dict[x] if x in hedge_value_dict else 2)"
   ]
  },
  {
   "cell_type": "code",
   "execution_count": 7,
   "metadata": {
    "collapsed": true
   },
   "outputs": [],
   "source": [
    "df['has_desk_id'] = df['desk_id'].isnull().apply(lambda x: int(x))\n",
    "df['has_hedge_value'] = df['hedge_value'].apply(lambda x: 0 if x != 2 else 2)\n",
    "df['status'] = df['status'].apply(lambda x: 1 if x == True else 0)"
   ]
  },
  {
   "cell_type": "code",
   "execution_count": 8,
   "metadata": {
    "collapsed": true
   },
   "outputs": [],
   "source": [
    "df['sell_year'] = df['sell_date'].apply(lambda x: x//10000)\n",
    "df['sell_month'] = df['sell_date'].apply(lambda x: (x//100)%100)\n",
    "df['sold_bought'] = df['sold'] - df['bought']"
   ]
  },
  {
   "cell_type": "code",
   "execution_count": 9,
   "metadata": {
    "collapsed": true
   },
   "outputs": [],
   "source": [
    "df_grouping = {}"
   ]
  },
  {
   "cell_type": "code",
   "execution_count": 10,
   "metadata": {},
   "outputs": [
    {
     "name": "stdout",
     "output_type": "stream",
     "text": [
      "Index(['portfolio_id', 'desk_id', 'office_id', 'pf_category', 'start_date',\n",
      "       'sold', 'country_code', 'euribor_rate', 'currency', 'libor_rate',\n",
      "       'bought', 'creation_date', 'indicator_code', 'sell_date', 'type',\n",
      "       'hedge_value', 'status', 'return', 'has_desk_id', 'has_hedge_value',\n",
      "       'sell_year', 'sell_month', 'sold_bought'],\n",
      "      dtype='object')\n"
     ]
    }
   ],
   "source": [
    "print (df.columns)"
   ]
  },
  {
   "cell_type": "code",
   "execution_count": 11,
   "metadata": {},
   "outputs": [
    {
     "name": "stdout",
     "output_type": "stream",
     "text": [
      "pf_category\n",
      "country_code\n",
      "type\n",
      "indicator_code\n",
      "hedge_value\n",
      "status\n",
      "sell_year\n",
      "sell_month\n"
     ]
    }
   ],
   "source": [
    "for var_to_group in ['pf_category', 'country_code', 'type', 'indicator_code', 'hedge_value',\\\n",
    "                     'status', 'sell_year', 'sell_month']:\n",
    "    print (var_to_group)\n",
    "    df_grouping[var_to_group] = df.groupby([var_to_group])\\\n",
    "                                  .agg({'return':[np.mean, np.median, np.max, np.min, 'count']})\n",
    "                                  # .reset_index()\n",
    "    # print (df_grouping[var_to_group].index.name)\n",
    "    # print (df_grouping[var_to_group].columns)\n",
    "    new_col_names =  [df_grouping[var_to_group].index.name] + ['_'.join([df_grouping[var_to_group].index.name] + list(x)) \\\n",
    "                      for x in (df_grouping[var_to_group].columns.ravel())]\n",
    "    # print (new_col_names)\n",
    "    df_grouping[var_to_group].reset_index(inplace = True)\n",
    "    df_grouping[var_to_group].columns = new_col_names\n",
    "    # df_grouping[var_to_group].columns = df_grouping[var_to_group].columns.get_level_values(0)\n",
    "    # print (df_grouping[var_to_group].columns)\n",
    "    # print (df_grouping[var_to_group])\n",
    "    for col in df_grouping[var_to_group].columns:\n",
    "        if '_count' in col:\n",
    "            df_grouping[var_to_group][col] = df_grouping[var_to_group][col]/len(df)\n",
    "\n",
    "    df = pd.merge(left = df, right = df_grouping[var_to_group], on = var_to_group, how = 'left')"
   ]
  },
  {
   "cell_type": "code",
   "execution_count": 12,
   "metadata": {},
   "outputs": [
    {
     "name": "stdout",
     "output_type": "stream",
     "text": [
      "portfolio_id                     object\n",
      "desk_id                          object\n",
      "office_id                        object\n",
      "pf_category                      object\n",
      "start_date                        int64\n",
      "sold                            float64\n",
      "country_code                     object\n",
      "euribor_rate                    float64\n",
      "currency                         object\n",
      "libor_rate                      float64\n",
      "bought                          float64\n",
      "creation_date                     int64\n",
      "indicator_code                    int64\n",
      "sell_date                         int64\n",
      "type                             object\n",
      "hedge_value                       int64\n",
      "status                            int64\n",
      "return                          float64\n",
      "has_desk_id                       int64\n",
      "has_hedge_value                   int64\n",
      "sell_year                         int64\n",
      "sell_month                        int64\n",
      "sold_bought                     float64\n",
      "pf_category_return_mean         float64\n",
      "pf_category_return_median       float64\n",
      "pf_category_return_amax         float64\n",
      "pf_category_return_amin         float64\n",
      "pf_category_return_count        float64\n",
      "country_code_return_mean        float64\n",
      "country_code_return_median      float64\n",
      "                                 ...   \n",
      "type_return_mean                float64\n",
      "type_return_median              float64\n",
      "type_return_amax                float64\n",
      "type_return_amin                float64\n",
      "type_return_count               float64\n",
      "indicator_code_return_mean      float64\n",
      "indicator_code_return_median    float64\n",
      "indicator_code_return_amax      float64\n",
      "indicator_code_return_amin      float64\n",
      "indicator_code_return_count     float64\n",
      "hedge_value_return_mean         float64\n",
      "hedge_value_return_median       float64\n",
      "hedge_value_return_amax         float64\n",
      "hedge_value_return_amin         float64\n",
      "hedge_value_return_count        float64\n",
      "status_return_mean              float64\n",
      "status_return_median            float64\n",
      "status_return_amax              float64\n",
      "status_return_amin              float64\n",
      "status_return_count             float64\n",
      "sell_year_return_mean           float64\n",
      "sell_year_return_median         float64\n",
      "sell_year_return_amax           float64\n",
      "sell_year_return_amin           float64\n",
      "sell_year_return_count          float64\n",
      "sell_month_return_mean          float64\n",
      "sell_month_return_median        float64\n",
      "sell_month_return_amax          float64\n",
      "sell_month_return_amin          float64\n",
      "sell_month_return_count         float64\n",
      "Length: 63, dtype: object\n"
     ]
    }
   ],
   "source": [
    "print (df.dtypes)"
   ]
  },
  {
   "cell_type": "code",
   "execution_count": 13,
   "metadata": {
    "collapsed": true
   },
   "outputs": [],
   "source": [
    "df['euribor_rate'].fillna(df['euribor_rate'].median(), inplace = True)\n",
    "df['libor_rate'].fillna(df['libor_rate'].median(), inplace = True)\n",
    "df['desk_id'].fillna('NA', inplace = True)"
   ]
  },
  {
   "cell_type": "code",
   "execution_count": 21,
   "metadata": {},
   "outputs": [
    {
     "name": "stdout",
     "output_type": "stream",
     "text": [
      "portfolio_id                    False\n",
      "desk_id                         False\n",
      "office_id                       False\n",
      "pf_category                     False\n",
      "start_date                      False\n",
      "sold                            False\n",
      "country_code                    False\n",
      "euribor_rate                    False\n",
      "currency                        False\n",
      "libor_rate                      False\n",
      "bought                          False\n",
      "creation_date                   False\n",
      "indicator_code                  False\n",
      "sell_date                       False\n",
      "type                            False\n",
      "hedge_value                     False\n",
      "status                          False\n",
      "return                          False\n",
      "has_desk_id                     False\n",
      "has_hedge_value                 False\n",
      "sell_year                       False\n",
      "sell_month                      False\n",
      "sold_bought                     False\n",
      "pf_category_return_mean         False\n",
      "pf_category_return_median       False\n",
      "pf_category_return_amax         False\n",
      "pf_category_return_amin         False\n",
      "pf_category_return_count        False\n",
      "country_code_return_mean        False\n",
      "country_code_return_median      False\n",
      "                                ...  \n",
      "type_return_mean                False\n",
      "type_return_median              False\n",
      "type_return_amax                False\n",
      "type_return_amin                False\n",
      "type_return_count               False\n",
      "indicator_code_return_mean      False\n",
      "indicator_code_return_median    False\n",
      "indicator_code_return_amax      False\n",
      "indicator_code_return_amin      False\n",
      "indicator_code_return_count     False\n",
      "hedge_value_return_mean         False\n",
      "hedge_value_return_median       False\n",
      "hedge_value_return_amax         False\n",
      "hedge_value_return_amin         False\n",
      "hedge_value_return_count        False\n",
      "status_return_mean              False\n",
      "status_return_median            False\n",
      "status_return_amax              False\n",
      "status_return_amin              False\n",
      "status_return_count             False\n",
      "sell_year_return_mean           False\n",
      "sell_year_return_median         False\n",
      "sell_year_return_amax           False\n",
      "sell_year_return_amin           False\n",
      "sell_year_return_count          False\n",
      "sell_month_return_mean          False\n",
      "sell_month_return_median        False\n",
      "sell_month_return_amax          False\n",
      "sell_month_return_amin          False\n",
      "sell_month_return_count         False\n",
      "Length: 63, dtype: bool\n"
     ]
    }
   ],
   "source": [
    "print (df.dtypes.isin([np.float64]))"
   ]
  },
  {
   "cell_type": "code",
   "execution_count": 14,
   "metadata": {
    "collapsed": true
   },
   "outputs": [],
   "source": [
    "# xgboost parameter tuning"
   ]
  },
  {
   "cell_type": "code",
   "execution_count": 23,
   "metadata": {},
   "outputs": [],
   "source": [
    "input_cols_xgb_encode = ['office_id', 'pf_category', 'country_code', 'type'] \n",
    "input_cols_xgb_numeric = df.dtypes[(df.dtypes == np.int64) | (df.dtypes == np.float64)].index.tolist()\n",
    "# print (input_cols_xgb_numeric)\n",
    "input_cols_xgb_numeric.remove('return')\n",
    "target_cols_xgb = ['return']"
   ]
  },
  {
   "cell_type": "code",
   "execution_count": 24,
   "metadata": {},
   "outputs": [
    {
     "name": "stdout",
     "output_type": "stream",
     "text": [
      "['start_date', 'sold', 'euribor_rate', 'libor_rate', 'bought', 'creation_date', 'indicator_code', 'sell_date', 'hedge_value', 'status', 'has_desk_id', 'has_hedge_value', 'sell_year', 'sell_month', 'sold_bought', 'pf_category_return_mean', 'pf_category_return_median', 'pf_category_return_amax', 'pf_category_return_amin', 'pf_category_return_count', 'country_code_return_mean', 'country_code_return_median', 'country_code_return_amax', 'country_code_return_amin', 'country_code_return_count', 'type_return_mean', 'type_return_median', 'type_return_amax', 'type_return_amin', 'type_return_count', 'indicator_code_return_mean', 'indicator_code_return_median', 'indicator_code_return_amax', 'indicator_code_return_amin', 'indicator_code_return_count', 'hedge_value_return_mean', 'hedge_value_return_median', 'hedge_value_return_amax', 'hedge_value_return_amin', 'hedge_value_return_count', 'status_return_mean', 'status_return_median', 'status_return_amax', 'status_return_amin', 'status_return_count', 'sell_year_return_mean', 'sell_year_return_median', 'sell_year_return_amax', 'sell_year_return_amin', 'sell_year_return_count', 'sell_month_return_mean', 'sell_month_return_median', 'sell_month_return_amax', 'sell_month_return_amin', 'sell_month_return_count']\n"
     ]
    }
   ],
   "source": [
    "print (input_cols_xgb_numeric)"
   ]
  },
  {
   "cell_type": "code",
   "execution_count": 25,
   "metadata": {},
   "outputs": [
    {
     "name": "stdout",
     "output_type": "stream",
     "text": [
      "office_id\n",
      "pf_category\n",
      "country_code\n",
      "type\n"
     ]
    }
   ],
   "source": [
    "X_xgb = df[input_cols_xgb_encode + input_cols_xgb_numeric].as_matrix()\n",
    "label_enc = [LabelEncoder() for i in range(len(input_cols_xgb_encode))]\n",
    "\n",
    "for i in range(len(label_enc)):\n",
    "    print (input_cols_xgb_encode[i])\n",
    "    label_enc[i].fit(X_xgb[:, i])\n",
    "    X_xgb[:, i] = label_enc[i].transform(X_xgb[:, i])\n",
    "\n",
    "y_xgb = df[target_cols_xgb].as_matrix()"
   ]
  },
  {
   "cell_type": "code",
   "execution_count": 28,
   "metadata": {},
   "outputs": [
    {
     "name": "stdout",
     "output_type": "stream",
     "text": [
      "{'n_estimators': 200}\n"
     ]
    }
   ],
   "source": [
    "# get the optimum no of trees for learning rate of 0.1\n",
    "parameters = {'n_estimators' : [10, 50, 100, 150, 200, 250, 500]}\n",
    "xgb_reg = XGBRegressor(random_state=42)\n",
    "clf = GridSearchCV(xgb_reg, parameters, cv = 3, scoring = 'r2')\n",
    "clf.fit(X_xgb, y_xgb)\n",
    "print (clf.best_params_)"
   ]
  },
  {
   "cell_type": "code",
   "execution_count": 29,
   "metadata": {
    "collapsed": true
   },
   "outputs": [
    {
     "data": {
      "text/html": [
       "<div>\n",
       "<style>\n",
       "    .dataframe thead tr:only-child th {\n",
       "        text-align: right;\n",
       "    }\n",
       "\n",
       "    .dataframe thead th {\n",
       "        text-align: left;\n",
       "    }\n",
       "\n",
       "    .dataframe tbody tr th {\n",
       "        vertical-align: top;\n",
       "    }\n",
       "</style>\n",
       "<table border=\"1\" class=\"dataframe\">\n",
       "  <thead>\n",
       "    <tr style=\"text-align: right;\">\n",
       "      <th></th>\n",
       "      <th>mean_fit_time</th>\n",
       "      <th>mean_score_time</th>\n",
       "      <th>mean_test_score</th>\n",
       "      <th>mean_train_score</th>\n",
       "      <th>param_n_estimators</th>\n",
       "      <th>params</th>\n",
       "      <th>rank_test_score</th>\n",
       "      <th>split0_test_score</th>\n",
       "      <th>split0_train_score</th>\n",
       "      <th>split1_test_score</th>\n",
       "      <th>split1_train_score</th>\n",
       "      <th>split2_test_score</th>\n",
       "      <th>split2_train_score</th>\n",
       "      <th>std_fit_time</th>\n",
       "      <th>std_score_time</th>\n",
       "      <th>std_test_score</th>\n",
       "      <th>std_train_score</th>\n",
       "    </tr>\n",
       "  </thead>\n",
       "  <tbody>\n",
       "    <tr>\n",
       "      <th>0</th>\n",
       "      <td>0.082728</td>\n",
       "      <td>0.006354</td>\n",
       "      <td>-420.546320</td>\n",
       "      <td>-101.193229</td>\n",
       "      <td>10</td>\n",
       "      <td>{'n_estimators': 10}</td>\n",
       "      <td>7</td>\n",
       "      <td>-49.415194</td>\n",
       "      <td>-164.055446</td>\n",
       "      <td>-93.436154</td>\n",
       "      <td>-77.333211</td>\n",
       "      <td>-1119.011553</td>\n",
       "      <td>-62.191030</td>\n",
       "      <td>0.005315</td>\n",
       "      <td>0.004022</td>\n",
       "      <td>494.137271</td>\n",
       "      <td>44.878095</td>\n",
       "    </tr>\n",
       "    <tr>\n",
       "      <th>1</th>\n",
       "      <td>0.317845</td>\n",
       "      <td>0.006517</td>\n",
       "      <td>0.408810</td>\n",
       "      <td>0.947391</td>\n",
       "      <td>50</td>\n",
       "      <td>{'n_estimators': 50}</td>\n",
       "      <td>6</td>\n",
       "      <td>0.215982</td>\n",
       "      <td>0.944098</td>\n",
       "      <td>0.933016</td>\n",
       "      <td>0.942945</td>\n",
       "      <td>0.077325</td>\n",
       "      <td>0.955130</td>\n",
       "      <td>0.025563</td>\n",
       "      <td>0.001084</td>\n",
       "      <td>0.374996</td>\n",
       "      <td>0.005493</td>\n",
       "    </tr>\n",
       "    <tr>\n",
       "      <th>2</th>\n",
       "      <td>0.703956</td>\n",
       "      <td>0.011530</td>\n",
       "      <td>0.440948</td>\n",
       "      <td>0.976554</td>\n",
       "      <td>100</td>\n",
       "      <td>{'n_estimators': 100}</td>\n",
       "      <td>5</td>\n",
       "      <td>0.161055</td>\n",
       "      <td>0.985433</td>\n",
       "      <td>0.966057</td>\n",
       "      <td>0.969359</td>\n",
       "      <td>0.195655</td>\n",
       "      <td>0.974870</td>\n",
       "      <td>0.053722</td>\n",
       "      <td>0.001785</td>\n",
       "      <td>0.371606</td>\n",
       "      <td>0.006669</td>\n",
       "    </tr>\n",
       "    <tr>\n",
       "      <th>3</th>\n",
       "      <td>0.934315</td>\n",
       "      <td>0.014372</td>\n",
       "      <td>0.458961</td>\n",
       "      <td>0.979360</td>\n",
       "      <td>150</td>\n",
       "      <td>{'n_estimators': 150}</td>\n",
       "      <td>4</td>\n",
       "      <td>0.165317</td>\n",
       "      <td>0.987562</td>\n",
       "      <td>0.965779</td>\n",
       "      <td>0.973169</td>\n",
       "      <td>0.245718</td>\n",
       "      <td>0.977348</td>\n",
       "      <td>0.040039</td>\n",
       "      <td>0.000626</td>\n",
       "      <td>0.359903</td>\n",
       "      <td>0.006046</td>\n",
       "    </tr>\n",
       "    <tr>\n",
       "      <th>4</th>\n",
       "      <td>1.182500</td>\n",
       "      <td>0.019553</td>\n",
       "      <td>0.482377</td>\n",
       "      <td>0.980689</td>\n",
       "      <td>200</td>\n",
       "      <td>{'n_estimators': 200}</td>\n",
       "      <td>1</td>\n",
       "      <td>0.229711</td>\n",
       "      <td>0.987946</td>\n",
       "      <td>0.965543</td>\n",
       "      <td>0.975213</td>\n",
       "      <td>0.251803</td>\n",
       "      <td>0.978909</td>\n",
       "      <td>0.039225</td>\n",
       "      <td>0.002556</td>\n",
       "      <td>0.341797</td>\n",
       "      <td>0.005348</td>\n",
       "    </tr>\n",
       "    <tr>\n",
       "      <th>5</th>\n",
       "      <td>1.525731</td>\n",
       "      <td>0.027896</td>\n",
       "      <td>0.480679</td>\n",
       "      <td>0.981037</td>\n",
       "      <td>250</td>\n",
       "      <td>{'n_estimators': 250}</td>\n",
       "      <td>2</td>\n",
       "      <td>0.223695</td>\n",
       "      <td>0.988056</td>\n",
       "      <td>0.965539</td>\n",
       "      <td>0.975629</td>\n",
       "      <td>0.252729</td>\n",
       "      <td>0.979426</td>\n",
       "      <td>0.074521</td>\n",
       "      <td>0.007745</td>\n",
       "      <td>0.343080</td>\n",
       "      <td>0.005200</td>\n",
       "    </tr>\n",
       "    <tr>\n",
       "      <th>6</th>\n",
       "      <td>2.801490</td>\n",
       "      <td>0.032921</td>\n",
       "      <td>0.479362</td>\n",
       "      <td>0.981196</td>\n",
       "      <td>500</td>\n",
       "      <td>{'n_estimators': 500}</td>\n",
       "      <td>3</td>\n",
       "      <td>0.219745</td>\n",
       "      <td>0.988107</td>\n",
       "      <td>0.965539</td>\n",
       "      <td>0.975939</td>\n",
       "      <td>0.252729</td>\n",
       "      <td>0.979541</td>\n",
       "      <td>0.040583</td>\n",
       "      <td>0.002896</td>\n",
       "      <td>0.344070</td>\n",
       "      <td>0.005104</td>\n",
       "    </tr>\n",
       "  </tbody>\n",
       "</table>\n",
       "</div>"
      ],
      "text/plain": [
       "   mean_fit_time  mean_score_time  mean_test_score  mean_train_score  \\\n",
       "0       0.082728         0.006354      -420.546320       -101.193229   \n",
       "1       0.317845         0.006517         0.408810          0.947391   \n",
       "2       0.703956         0.011530         0.440948          0.976554   \n",
       "3       0.934315         0.014372         0.458961          0.979360   \n",
       "4       1.182500         0.019553         0.482377          0.980689   \n",
       "5       1.525731         0.027896         0.480679          0.981037   \n",
       "6       2.801490         0.032921         0.479362          0.981196   \n",
       "\n",
       "  param_n_estimators                 params  rank_test_score  \\\n",
       "0                 10   {'n_estimators': 10}                7   \n",
       "1                 50   {'n_estimators': 50}                6   \n",
       "2                100  {'n_estimators': 100}                5   \n",
       "3                150  {'n_estimators': 150}                4   \n",
       "4                200  {'n_estimators': 200}                1   \n",
       "5                250  {'n_estimators': 250}                2   \n",
       "6                500  {'n_estimators': 500}                3   \n",
       "\n",
       "   split0_test_score  split0_train_score  split1_test_score  \\\n",
       "0         -49.415194         -164.055446         -93.436154   \n",
       "1           0.215982            0.944098           0.933016   \n",
       "2           0.161055            0.985433           0.966057   \n",
       "3           0.165317            0.987562           0.965779   \n",
       "4           0.229711            0.987946           0.965543   \n",
       "5           0.223695            0.988056           0.965539   \n",
       "6           0.219745            0.988107           0.965539   \n",
       "\n",
       "   split1_train_score  split2_test_score  split2_train_score  std_fit_time  \\\n",
       "0          -77.333211       -1119.011553          -62.191030      0.005315   \n",
       "1            0.942945           0.077325            0.955130      0.025563   \n",
       "2            0.969359           0.195655            0.974870      0.053722   \n",
       "3            0.973169           0.245718            0.977348      0.040039   \n",
       "4            0.975213           0.251803            0.978909      0.039225   \n",
       "5            0.975629           0.252729            0.979426      0.074521   \n",
       "6            0.975939           0.252729            0.979541      0.040583   \n",
       "\n",
       "   std_score_time  std_test_score  std_train_score  \n",
       "0        0.004022      494.137271        44.878095  \n",
       "1        0.001084        0.374996         0.005493  \n",
       "2        0.001785        0.371606         0.006669  \n",
       "3        0.000626        0.359903         0.006046  \n",
       "4        0.002556        0.341797         0.005348  \n",
       "5        0.007745        0.343080         0.005200  \n",
       "6        0.002896        0.344070         0.005104  "
      ]
     },
     "execution_count": 29,
     "metadata": {},
     "output_type": "execute_result"
    }
   ],
   "source": [
    "pd.DataFrame(clf.cv_results_)\n",
    "# take 200 trees as the optimum number for now"
   ]
  },
  {
   "cell_type": "code",
   "execution_count": 30,
   "metadata": {},
   "outputs": [
    {
     "name": "stdout",
     "output_type": "stream",
     "text": [
      "{'max_depth': 5, 'min_child_weight': 1}\n"
     ]
    }
   ],
   "source": [
    "# now tune the max_depth and min_child_weight\n",
    "parameters = {\n",
    " 'max_depth':range(3,10,2),\n",
    " 'min_child_weight':range(1,6,2)\n",
    "}\n",
    "xgb_reg = XGBRegressor(random_state=42, learning_rate = 0.1, n_estimators = 200)\n",
    "clf = GridSearchCV(xgb_reg, parameters, cv = 3, scoring = 'r2')\n",
    "clf.fit(X_xgb, y_xgb)\n",
    "print (clf.best_params_)"
   ]
  },
  {
   "cell_type": "code",
   "execution_count": 31,
   "metadata": {
    "collapsed": true
   },
   "outputs": [
    {
     "data": {
      "text/html": [
       "<div>\n",
       "<style>\n",
       "    .dataframe thead tr:only-child th {\n",
       "        text-align: right;\n",
       "    }\n",
       "\n",
       "    .dataframe thead th {\n",
       "        text-align: left;\n",
       "    }\n",
       "\n",
       "    .dataframe tbody tr th {\n",
       "        vertical-align: top;\n",
       "    }\n",
       "</style>\n",
       "<table border=\"1\" class=\"dataframe\">\n",
       "  <thead>\n",
       "    <tr style=\"text-align: right;\">\n",
       "      <th></th>\n",
       "      <th>mean_fit_time</th>\n",
       "      <th>mean_score_time</th>\n",
       "      <th>mean_test_score</th>\n",
       "      <th>mean_train_score</th>\n",
       "      <th>param_max_depth</th>\n",
       "      <th>param_min_child_weight</th>\n",
       "      <th>params</th>\n",
       "      <th>rank_test_score</th>\n",
       "      <th>split0_test_score</th>\n",
       "      <th>split0_train_score</th>\n",
       "      <th>split1_test_score</th>\n",
       "      <th>split1_train_score</th>\n",
       "      <th>split2_test_score</th>\n",
       "      <th>split2_train_score</th>\n",
       "      <th>std_fit_time</th>\n",
       "      <th>std_score_time</th>\n",
       "      <th>std_test_score</th>\n",
       "      <th>std_train_score</th>\n",
       "    </tr>\n",
       "  </thead>\n",
       "  <tbody>\n",
       "    <tr>\n",
       "      <th>0</th>\n",
       "      <td>1.333236</td>\n",
       "      <td>0.018716</td>\n",
       "      <td>0.482377</td>\n",
       "      <td>0.980689</td>\n",
       "      <td>3</td>\n",
       "      <td>1</td>\n",
       "      <td>{'max_depth': 3, 'min_child_weight': 1}</td>\n",
       "      <td>3</td>\n",
       "      <td>0.229711</td>\n",
       "      <td>0.987946</td>\n",
       "      <td>0.965543</td>\n",
       "      <td>0.975213</td>\n",
       "      <td>0.251803</td>\n",
       "      <td>0.978909</td>\n",
       "      <td>0.160905</td>\n",
       "      <td>0.000947</td>\n",
       "      <td>0.341797</td>\n",
       "      <td>0.005348</td>\n",
       "    </tr>\n",
       "    <tr>\n",
       "      <th>1</th>\n",
       "      <td>1.227346</td>\n",
       "      <td>0.017382</td>\n",
       "      <td>0.445351</td>\n",
       "      <td>0.981016</td>\n",
       "      <td>3</td>\n",
       "      <td>3</td>\n",
       "      <td>{'max_depth': 3, 'min_child_weight': 3}</td>\n",
       "      <td>7</td>\n",
       "      <td>0.124797</td>\n",
       "      <td>0.988913</td>\n",
       "      <td>0.968023</td>\n",
       "      <td>0.975942</td>\n",
       "      <td>0.243167</td>\n",
       "      <td>0.978194</td>\n",
       "      <td>0.100648</td>\n",
       "      <td>0.000626</td>\n",
       "      <td>0.372760</td>\n",
       "      <td>0.005659</td>\n",
       "    </tr>\n",
       "    <tr>\n",
       "      <th>2</th>\n",
       "      <td>1.148464</td>\n",
       "      <td>0.019375</td>\n",
       "      <td>0.420186</td>\n",
       "      <td>0.980671</td>\n",
       "      <td>3</td>\n",
       "      <td>5</td>\n",
       "      <td>{'max_depth': 3, 'min_child_weight': 5}</td>\n",
       "      <td>8</td>\n",
       "      <td>0.056560</td>\n",
       "      <td>0.987735</td>\n",
       "      <td>0.965060</td>\n",
       "      <td>0.975746</td>\n",
       "      <td>0.238881</td>\n",
       "      <td>0.978531</td>\n",
       "      <td>0.012245</td>\n",
       "      <td>0.000860</td>\n",
       "      <td>0.392437</td>\n",
       "      <td>0.005123</td>\n",
       "    </tr>\n",
       "    <tr>\n",
       "      <th>3</th>\n",
       "      <td>1.795918</td>\n",
       "      <td>0.022572</td>\n",
       "      <td>0.549120</td>\n",
       "      <td>0.990334</td>\n",
       "      <td>5</td>\n",
       "      <td>1</td>\n",
       "      <td>{'max_depth': 5, 'min_child_weight': 1}</td>\n",
       "      <td>1</td>\n",
       "      <td>0.446040</td>\n",
       "      <td>0.992286</td>\n",
       "      <td>0.964814</td>\n",
       "      <td>0.988490</td>\n",
       "      <td>0.236406</td>\n",
       "      <td>0.990225</td>\n",
       "      <td>0.035752</td>\n",
       "      <td>0.004621</td>\n",
       "      <td>0.306167</td>\n",
       "      <td>0.001551</td>\n",
       "    </tr>\n",
       "    <tr>\n",
       "      <th>4</th>\n",
       "      <td>1.817431</td>\n",
       "      <td>0.024239</td>\n",
       "      <td>0.475706</td>\n",
       "      <td>0.989838</td>\n",
       "      <td>5</td>\n",
       "      <td>3</td>\n",
       "      <td>{'max_depth': 5, 'min_child_weight': 3}</td>\n",
       "      <td>4</td>\n",
       "      <td>0.181076</td>\n",
       "      <td>0.992135</td>\n",
       "      <td>0.949113</td>\n",
       "      <td>0.988334</td>\n",
       "      <td>0.296871</td>\n",
       "      <td>0.989044</td>\n",
       "      <td>0.034287</td>\n",
       "      <td>0.004392</td>\n",
       "      <td>0.338098</td>\n",
       "      <td>0.001650</td>\n",
       "    </tr>\n",
       "    <tr>\n",
       "      <th>5</th>\n",
       "      <td>1.814201</td>\n",
       "      <td>0.024398</td>\n",
       "      <td>0.445938</td>\n",
       "      <td>0.988466</td>\n",
       "      <td>5</td>\n",
       "      <td>5</td>\n",
       "      <td>{'max_depth': 5, 'min_child_weight': 5}</td>\n",
       "      <td>6</td>\n",
       "      <td>0.068233</td>\n",
       "      <td>0.990038</td>\n",
       "      <td>0.965832</td>\n",
       "      <td>0.987685</td>\n",
       "      <td>0.303705</td>\n",
       "      <td>0.987675</td>\n",
       "      <td>0.054948</td>\n",
       "      <td>0.007046</td>\n",
       "      <td>0.380009</td>\n",
       "      <td>0.001111</td>\n",
       "    </tr>\n",
       "    <tr>\n",
       "      <th>6</th>\n",
       "      <td>2.475634</td>\n",
       "      <td>0.025590</td>\n",
       "      <td>0.494213</td>\n",
       "      <td>0.994608</td>\n",
       "      <td>7</td>\n",
       "      <td>1</td>\n",
       "      <td>{'max_depth': 7, 'min_child_weight': 1}</td>\n",
       "      <td>2</td>\n",
       "      <td>0.270376</td>\n",
       "      <td>0.992854</td>\n",
       "      <td>0.947598</td>\n",
       "      <td>0.995263</td>\n",
       "      <td>0.264592</td>\n",
       "      <td>0.995707</td>\n",
       "      <td>0.037540</td>\n",
       "      <td>0.009694</td>\n",
       "      <td>0.320626</td>\n",
       "      <td>0.001253</td>\n",
       "    </tr>\n",
       "    <tr>\n",
       "      <th>7</th>\n",
       "      <td>2.438971</td>\n",
       "      <td>0.025566</td>\n",
       "      <td>0.374179</td>\n",
       "      <td>0.992531</td>\n",
       "      <td>7</td>\n",
       "      <td>3</td>\n",
       "      <td>{'max_depth': 7, 'min_child_weight': 3}</td>\n",
       "      <td>11</td>\n",
       "      <td>-0.060164</td>\n",
       "      <td>0.992487</td>\n",
       "      <td>0.943189</td>\n",
       "      <td>0.992622</td>\n",
       "      <td>0.239470</td>\n",
       "      <td>0.992484</td>\n",
       "      <td>0.054513</td>\n",
       "      <td>0.007198</td>\n",
       "      <td>0.420565</td>\n",
       "      <td>0.000064</td>\n",
       "    </tr>\n",
       "    <tr>\n",
       "      <th>8</th>\n",
       "      <td>2.396100</td>\n",
       "      <td>0.029090</td>\n",
       "      <td>0.416092</td>\n",
       "      <td>0.991056</td>\n",
       "      <td>7</td>\n",
       "      <td>5</td>\n",
       "      <td>{'max_depth': 7, 'min_child_weight': 5}</td>\n",
       "      <td>9</td>\n",
       "      <td>0.018426</td>\n",
       "      <td>0.990872</td>\n",
       "      <td>0.950862</td>\n",
       "      <td>0.991599</td>\n",
       "      <td>0.278943</td>\n",
       "      <td>0.990695</td>\n",
       "      <td>0.058911</td>\n",
       "      <td>0.010252</td>\n",
       "      <td>0.392840</td>\n",
       "      <td>0.000391</td>\n",
       "    </tr>\n",
       "    <tr>\n",
       "      <th>9</th>\n",
       "      <td>2.481369</td>\n",
       "      <td>0.023072</td>\n",
       "      <td>0.459825</td>\n",
       "      <td>0.996360</td>\n",
       "      <td>9</td>\n",
       "      <td>1</td>\n",
       "      <td>{'max_depth': 9, 'min_child_weight': 1}</td>\n",
       "      <td>5</td>\n",
       "      <td>0.225109</td>\n",
       "      <td>0.995767</td>\n",
       "      <td>0.900107</td>\n",
       "      <td>0.996104</td>\n",
       "      <td>0.254194</td>\n",
       "      <td>0.997209</td>\n",
       "      <td>0.410769</td>\n",
       "      <td>0.006575</td>\n",
       "      <td>0.311577</td>\n",
       "      <td>0.000616</td>\n",
       "    </tr>\n",
       "    <tr>\n",
       "      <th>10</th>\n",
       "      <td>3.048048</td>\n",
       "      <td>0.031579</td>\n",
       "      <td>0.354618</td>\n",
       "      <td>0.993949</td>\n",
       "      <td>9</td>\n",
       "      <td>3</td>\n",
       "      <td>{'max_depth': 9, 'min_child_weight': 3}</td>\n",
       "      <td>12</td>\n",
       "      <td>-0.084123</td>\n",
       "      <td>0.993928</td>\n",
       "      <td>0.894527</td>\n",
       "      <td>0.994215</td>\n",
       "      <td>0.253417</td>\n",
       "      <td>0.993705</td>\n",
       "      <td>0.099250</td>\n",
       "      <td>0.011149</td>\n",
       "      <td>0.405909</td>\n",
       "      <td>0.000209</td>\n",
       "    </tr>\n",
       "    <tr>\n",
       "      <th>11</th>\n",
       "      <td>2.717628</td>\n",
       "      <td>0.024543</td>\n",
       "      <td>0.380668</td>\n",
       "      <td>0.992890</td>\n",
       "      <td>9</td>\n",
       "      <td>5</td>\n",
       "      <td>{'max_depth': 9, 'min_child_weight': 5}</td>\n",
       "      <td>10</td>\n",
       "      <td>-0.100712</td>\n",
       "      <td>0.993053</td>\n",
       "      <td>0.953062</td>\n",
       "      <td>0.993292</td>\n",
       "      <td>0.289625</td>\n",
       "      <td>0.992325</td>\n",
       "      <td>0.206677</td>\n",
       "      <td>0.007787</td>\n",
       "      <td>0.435013</td>\n",
       "      <td>0.000411</td>\n",
       "    </tr>\n",
       "  </tbody>\n",
       "</table>\n",
       "</div>"
      ],
      "text/plain": [
       "    mean_fit_time  mean_score_time  mean_test_score  mean_train_score  \\\n",
       "0        1.333236         0.018716         0.482377          0.980689   \n",
       "1        1.227346         0.017382         0.445351          0.981016   \n",
       "2        1.148464         0.019375         0.420186          0.980671   \n",
       "3        1.795918         0.022572         0.549120          0.990334   \n",
       "4        1.817431         0.024239         0.475706          0.989838   \n",
       "5        1.814201         0.024398         0.445938          0.988466   \n",
       "6        2.475634         0.025590         0.494213          0.994608   \n",
       "7        2.438971         0.025566         0.374179          0.992531   \n",
       "8        2.396100         0.029090         0.416092          0.991056   \n",
       "9        2.481369         0.023072         0.459825          0.996360   \n",
       "10       3.048048         0.031579         0.354618          0.993949   \n",
       "11       2.717628         0.024543         0.380668          0.992890   \n",
       "\n",
       "   param_max_depth param_min_child_weight  \\\n",
       "0                3                      1   \n",
       "1                3                      3   \n",
       "2                3                      5   \n",
       "3                5                      1   \n",
       "4                5                      3   \n",
       "5                5                      5   \n",
       "6                7                      1   \n",
       "7                7                      3   \n",
       "8                7                      5   \n",
       "9                9                      1   \n",
       "10               9                      3   \n",
       "11               9                      5   \n",
       "\n",
       "                                     params  rank_test_score  \\\n",
       "0   {'max_depth': 3, 'min_child_weight': 1}                3   \n",
       "1   {'max_depth': 3, 'min_child_weight': 3}                7   \n",
       "2   {'max_depth': 3, 'min_child_weight': 5}                8   \n",
       "3   {'max_depth': 5, 'min_child_weight': 1}                1   \n",
       "4   {'max_depth': 5, 'min_child_weight': 3}                4   \n",
       "5   {'max_depth': 5, 'min_child_weight': 5}                6   \n",
       "6   {'max_depth': 7, 'min_child_weight': 1}                2   \n",
       "7   {'max_depth': 7, 'min_child_weight': 3}               11   \n",
       "8   {'max_depth': 7, 'min_child_weight': 5}                9   \n",
       "9   {'max_depth': 9, 'min_child_weight': 1}                5   \n",
       "10  {'max_depth': 9, 'min_child_weight': 3}               12   \n",
       "11  {'max_depth': 9, 'min_child_weight': 5}               10   \n",
       "\n",
       "    split0_test_score  split0_train_score  split1_test_score  \\\n",
       "0            0.229711            0.987946           0.965543   \n",
       "1            0.124797            0.988913           0.968023   \n",
       "2            0.056560            0.987735           0.965060   \n",
       "3            0.446040            0.992286           0.964814   \n",
       "4            0.181076            0.992135           0.949113   \n",
       "5            0.068233            0.990038           0.965832   \n",
       "6            0.270376            0.992854           0.947598   \n",
       "7           -0.060164            0.992487           0.943189   \n",
       "8            0.018426            0.990872           0.950862   \n",
       "9            0.225109            0.995767           0.900107   \n",
       "10          -0.084123            0.993928           0.894527   \n",
       "11          -0.100712            0.993053           0.953062   \n",
       "\n",
       "    split1_train_score  split2_test_score  split2_train_score  std_fit_time  \\\n",
       "0             0.975213           0.251803            0.978909      0.160905   \n",
       "1             0.975942           0.243167            0.978194      0.100648   \n",
       "2             0.975746           0.238881            0.978531      0.012245   \n",
       "3             0.988490           0.236406            0.990225      0.035752   \n",
       "4             0.988334           0.296871            0.989044      0.034287   \n",
       "5             0.987685           0.303705            0.987675      0.054948   \n",
       "6             0.995263           0.264592            0.995707      0.037540   \n",
       "7             0.992622           0.239470            0.992484      0.054513   \n",
       "8             0.991599           0.278943            0.990695      0.058911   \n",
       "9             0.996104           0.254194            0.997209      0.410769   \n",
       "10            0.994215           0.253417            0.993705      0.099250   \n",
       "11            0.993292           0.289625            0.992325      0.206677   \n",
       "\n",
       "    std_score_time  std_test_score  std_train_score  \n",
       "0         0.000947        0.341797         0.005348  \n",
       "1         0.000626        0.372760         0.005659  \n",
       "2         0.000860        0.392437         0.005123  \n",
       "3         0.004621        0.306167         0.001551  \n",
       "4         0.004392        0.338098         0.001650  \n",
       "5         0.007046        0.380009         0.001111  \n",
       "6         0.009694        0.320626         0.001253  \n",
       "7         0.007198        0.420565         0.000064  \n",
       "8         0.010252        0.392840         0.000391  \n",
       "9         0.006575        0.311577         0.000616  \n",
       "10        0.011149        0.405909         0.000209  \n",
       "11        0.007787        0.435013         0.000411  "
      ]
     },
     "execution_count": 31,
     "metadata": {},
     "output_type": "execute_result"
    }
   ],
   "source": [
    "pd.DataFrame(clf.cv_results_)"
   ]
  },
  {
   "cell_type": "code",
   "execution_count": 32,
   "metadata": {},
   "outputs": [
    {
     "name": "stdout",
     "output_type": "stream",
     "text": [
      "{'max_depth': 5, 'min_child_weight': 1}\n"
     ]
    }
   ],
   "source": [
    "# check the values in the neighbourhood of the above values\n",
    "parameters = {\n",
    " 'max_depth':[4, 5, 6],\n",
    " 'min_child_weight':[1,2]\n",
    "}\n",
    "xgb_reg = XGBRegressor(random_state=42, learning_rate = 0.1, n_estimators = 200)\n",
    "clf = GridSearchCV(xgb_reg, parameters, cv = 3, scoring = 'r2')\n",
    "clf.fit(X_xgb, y_xgb)\n",
    "print (clf.best_params_)"
   ]
  },
  {
   "cell_type": "code",
   "execution_count": 33,
   "metadata": {},
   "outputs": [
    {
     "name": "stdout",
     "output_type": "stream",
     "text": [
      "{'gamma': 0.0}\n"
     ]
    }
   ],
   "source": [
    "# tune the value of gamma\n",
    "parameters = {\n",
    " 'gamma':[x/10.0 for x in range(6)]\n",
    "}\n",
    "xgb_reg = XGBRegressor(random_state=42, learning_rate = 0.1, n_estimators = 200, \\\n",
    "                       max_depth = 5, min_child_weight = 1)\n",
    "clf = GridSearchCV(xgb_reg, parameters, cv = 3, scoring = 'r2')\n",
    "clf.fit(X_xgb, y_xgb)\n",
    "print (clf.best_params_)"
   ]
  },
  {
   "cell_type": "code",
   "execution_count": 34,
   "metadata": {},
   "outputs": [
    {
     "name": "stdout",
     "output_type": "stream",
     "text": [
      "{'colsample_bytree': 0.8, 'subsample': 1.0}\n"
     ]
    }
   ],
   "source": [
    "# tune the value of subsample and colsample_bytree\n",
    "parameters = {\n",
    " 'subsample':[x/10.0 for x in range(6,11)],\n",
    " 'colsample_bytree':[x/10.0 for x in range(6,11)]\n",
    "}\n",
    "xgb_reg = XGBRegressor(random_state=42, learning_rate = 0.1, n_estimators = 200, \\\n",
    "                       max_depth = 5, min_child_weight = 1, gamma = 0)\n",
    "clf = GridSearchCV(xgb_reg, parameters, cv = 3, scoring = 'r2')\n",
    "clf.fit(X_xgb, y_xgb)\n",
    "print (clf.best_params_)"
   ]
  },
  {
   "cell_type": "code",
   "execution_count": 36,
   "metadata": {},
   "outputs": [
    {
     "name": "stdout",
     "output_type": "stream",
     "text": [
      "{'colsample_bytree': 0.8, 'subsample': 1.0}\n"
     ]
    }
   ],
   "source": [
    "# tune the value of subsample and colsample_bytree with more tight intervals\n",
    "parameters = {\n",
    " 'colsample_bytree':[0.75, 0.8, 0.85],\n",
    " 'subsample':[0.95, 1.0]\n",
    "}\n",
    "xgb_reg = XGBRegressor(random_state=42, learning_rate = 0.1, n_estimators = 200, \\\n",
    "                       max_depth = 5, min_child_weight = 1, gamma = 0)\n",
    "clf = GridSearchCV(xgb_reg, parameters, cv = 3, scoring = 'r2')\n",
    "clf.fit(X_xgb, y_xgb)\n",
    "print (clf.best_params_)"
   ]
  },
  {
   "cell_type": "code",
   "execution_count": 39,
   "metadata": {},
   "outputs": [
    {
     "name": "stdout",
     "output_type": "stream",
     "text": [
      "{'reg_alpha': 0}\n"
     ]
    }
   ],
   "source": [
    "# tune regularization value alpha\n",
    "parameters = {\n",
    " 'reg_alpha':[0, 1e-5, 1e-2, 0.1, 1, 100]\n",
    "}\n",
    "xgb_reg = XGBRegressor(random_state=42, learning_rate = 0.1, n_estimators = 200, \\\n",
    "                       max_depth = 5, min_child_weight = 1, gamma = 0, \\\n",
    "                       colsample_bytree = 0.8, subsample = 1.0)\n",
    "clf = GridSearchCV(xgb_reg, parameters, cv = 3, scoring = 'r2')\n",
    "clf.fit(X_xgb, y_xgb)\n",
    "print (clf.best_params_)"
   ]
  },
  {
   "cell_type": "code",
   "execution_count": 40,
   "metadata": {},
   "outputs": [
    {
     "name": "stdout",
     "output_type": "stream",
     "text": [
      "{'learning_rate': 0.05}\n"
     ]
    }
   ],
   "source": [
    "# tune the learning rate\n",
    "parameters = {\n",
    " 'learning_rate':[0.001, 0.01, 0.05, 0.1, 0.3]\n",
    "}\n",
    "xgb_reg = XGBRegressor(random_state=42, n_estimators = 500, \\\n",
    "                       max_depth = 5, min_child_weight = 1, gamma = 0, \\\n",
    "                       colsample_bytree = 0.8, subsample = 1.0, reg_alpha = 0)\n",
    "clf = GridSearchCV(xgb_reg, parameters, cv = 3, scoring = 'r2')\n",
    "clf.fit(X_xgb, y_xgb)\n",
    "print (clf.best_params_)"
   ]
  },
  {
   "cell_type": "code",
   "execution_count": null,
   "metadata": {
    "collapsed": true
   },
   "outputs": [],
   "source": []
  },
  {
   "cell_type": "code",
   "execution_count": 26,
   "metadata": {},
   "outputs": [
    {
     "data": {
      "text/plain": [
       "XGBRegressor(base_score=0.5, booster='gbtree', colsample_bylevel=1,\n",
       "       colsample_bytree=0.8, gamma=0, learning_rate=0.05, max_delta_step=0,\n",
       "       max_depth=5, min_child_weight=1, missing=None, n_estimators=1000,\n",
       "       n_jobs=1, nthread=None, objective='reg:linear', random_state=42,\n",
       "       reg_alpha=0, reg_lambda=1, scale_pos_weight=1, seed=None,\n",
       "       silent=True, subsample=1.0)"
      ]
     },
     "execution_count": 26,
     "metadata": {},
     "output_type": "execute_result"
    }
   ],
   "source": [
    "# train the final classifier\n",
    "xgb_reg = XGBRegressor(random_state=42, learning_rate = 0.05, n_estimators = 1000, \\\n",
    "                       max_depth = 5, min_child_weight = 1, gamma = 0, \\\n",
    "                       colsample_bytree = 0.8, subsample = 1.0, reg_alpha = 0)\n",
    "xgb_reg.fit(X_xgb, y_xgb)"
   ]
  },
  {
   "cell_type": "code",
   "execution_count": 27,
   "metadata": {},
   "outputs": [
    {
     "name": "stdout",
     "output_type": "stream",
     "text": [
      "0.996348888112\n"
     ]
    }
   ],
   "source": [
    "y_xgb_pred = xgb_reg.predict(X_xgb)\n",
    "print (r2_score(y_xgb, y_xgb_pred))"
   ]
  },
  {
   "cell_type": "code",
   "execution_count": 28,
   "metadata": {},
   "outputs": [
    {
     "data": {
      "text/plain": [
       "<matplotlib.axes._subplots.AxesSubplot at 0x1c46f4f5668>"
      ]
     },
     "execution_count": 28,
     "metadata": {},
     "output_type": "execute_result"
    },
    {
     "data": {
      "image/png": "[encoded data removed]",
      "text/plain": [
       "<matplotlib.figure.Figure at 0x1c470eff390>"
      ]
     },
     "metadata": {},
     "output_type": "display_data"
    }
   ],
   "source": [
    "# plot the feature importances\n",
    "df_feature_importance = pd.DataFrame(list(zip((input_cols_xgb_encode + input_cols_xgb_numeric), \\\n",
    "                                              xgb_reg.feature_importances_)),\\\n",
    "                                     columns = ['column_name', 'feature_importance'])\n",
    "df_feature_importance = df_feature_importance.sort_values(by = 'feature_importance', ascending = False).reset_index()\n",
    "df_feature_importance['feature_importance'] *= 100\n",
    "fig, axs = plt.subplots(nrows = 1, ncols = 1, figsize=(10 , 10))\n",
    "sns.barplot(x = 'feature_importance', y = 'column_name', data = df_feature_importance)"
   ]
  },
  {
   "cell_type": "code",
   "execution_count": 29,
   "metadata": {},
   "outputs": [
    {
     "ename": "ExecutableNotFound",
     "evalue": "failed to execute ['dot', '-Tpng'], make sure the Graphviz executables are on your systems' PATH",
     "output_type": "error",
     "traceback": [
      "\u001b[1;31m---------------------------------------------------------------------------\u001b[0m",
      "\u001b[1;31mFileNotFoundError\u001b[0m                         Traceback (most recent call last)",
      "\u001b[1;32mC:\\ProgramData\\Anaconda3\\lib\\site-packages\\graphviz\\backend.py\u001b[0m in \u001b[0;36mpipe\u001b[1;34m(engine, format, data, quiet)\u001b[0m\n\u001b[0;32m    153\u001b[0m             \u001b[0mstdout\u001b[0m\u001b[1;33m=\u001b[0m\u001b[0msubprocess\u001b[0m\u001b[1;33m.\u001b[0m\u001b[0mPIPE\u001b[0m\u001b[1;33m,\u001b[0m \u001b[0mstderr\u001b[0m\u001b[1;33m=\u001b[0m\u001b[0msubprocess\u001b[0m\u001b[1;33m.\u001b[0m\u001b[0mPIPE\u001b[0m\u001b[1;33m,\u001b[0m\u001b[1;33m\u001b[0m\u001b[0m\n\u001b[1;32m--> 154\u001b[1;33m             startupinfo=STARTUPINFO)\n\u001b[0m\u001b[0;32m    155\u001b[0m     \u001b[1;32mexcept\u001b[0m \u001b[0mOSError\u001b[0m \u001b[1;32mas\u001b[0m \u001b[0me\u001b[0m\u001b[1;33m:\u001b[0m\u001b[1;33m\u001b[0m\u001b[0m\n",
      "\u001b[1;32mC:\\ProgramData\\Anaconda3\\lib\\subprocess.py\u001b[0m in \u001b[0;36m__init__\u001b[1;34m(self, args, bufsize, executable, stdin, stdout, stderr, preexec_fn, close_fds, shell, cwd, env, universal_newlines, startupinfo, creationflags, restore_signals, start_new_session, pass_fds, encoding, errors)\u001b[0m\n\u001b[0;32m    706\u001b[0m                                 \u001b[0merrread\u001b[0m\u001b[1;33m,\u001b[0m \u001b[0merrwrite\u001b[0m\u001b[1;33m,\u001b[0m\u001b[1;33m\u001b[0m\u001b[0m\n\u001b[1;32m--> 707\u001b[1;33m                                 restore_signals, start_new_session)\n\u001b[0m\u001b[0;32m    708\u001b[0m         \u001b[1;32mexcept\u001b[0m\u001b[1;33m:\u001b[0m\u001b[1;33m\u001b[0m\u001b[0m\n",
      "\u001b[1;32mC:\\ProgramData\\Anaconda3\\lib\\subprocess.py\u001b[0m in \u001b[0;36m_execute_child\u001b[1;34m(self, args, executable, preexec_fn, close_fds, pass_fds, cwd, env, startupinfo, creationflags, shell, p2cread, p2cwrite, c2pread, c2pwrite, errread, errwrite, unused_restore_signals, unused_start_new_session)\u001b[0m\n\u001b[0;32m    989\u001b[0m                                          \u001b[0mcwd\u001b[0m\u001b[1;33m,\u001b[0m\u001b[1;33m\u001b[0m\u001b[0m\n\u001b[1;32m--> 990\u001b[1;33m                                          startupinfo)\n\u001b[0m\u001b[0;32m    991\u001b[0m             \u001b[1;32mfinally\u001b[0m\u001b[1;33m:\u001b[0m\u001b[1;33m\u001b[0m\u001b[0m\n",
      "\u001b[1;31mFileNotFoundError\u001b[0m: [WinError 2] The system cannot find the file specified",
      "\nDuring handling of the above exception, another exception occurred:\n",
      "\u001b[1;31mExecutableNotFound\u001b[0m                        Traceback (most recent call last)",
      "\u001b[1;32m<ipython-input-29-ddda84f1b94f>\u001b[0m in \u001b[0;36m<module>\u001b[1;34m()\u001b[0m\n\u001b[0;32m      1\u001b[0m \u001b[1;31m# plot the tree\u001b[0m\u001b[1;33m\u001b[0m\u001b[1;33m\u001b[0m\u001b[0m\n\u001b[1;32m----> 2\u001b[1;33m \u001b[0mplot_tree\u001b[0m\u001b[1;33m(\u001b[0m\u001b[0mxgb_reg\u001b[0m\u001b[1;33m)\u001b[0m\u001b[1;33m\u001b[0m\u001b[0m\n\u001b[0m",
      "\u001b[1;32mC:\\ProgramData\\Anaconda3\\lib\\site-packages\\xgboost-0.6-py3.6.egg\\xgboost\\plotting.py\u001b[0m in \u001b[0;36mplot_tree\u001b[1;34m(booster, fmap, num_trees, rankdir, ax, **kwargs)\u001b[0m\n\u001b[0;32m    258\u001b[0m \u001b[1;33m\u001b[0m\u001b[0m\n\u001b[0;32m    259\u001b[0m     \u001b[0ms\u001b[0m \u001b[1;33m=\u001b[0m \u001b[0mBytesIO\u001b[0m\u001b[1;33m(\u001b[0m\u001b[1;33m)\u001b[0m\u001b[1;33m\u001b[0m\u001b[0m\n\u001b[1;32m--> 260\u001b[1;33m     \u001b[0ms\u001b[0m\u001b[1;33m.\u001b[0m\u001b[0mwrite\u001b[0m\u001b[1;33m(\u001b[0m\u001b[0mg\u001b[0m\u001b[1;33m.\u001b[0m\u001b[0mpipe\u001b[0m\u001b[1;33m(\u001b[0m\u001b[0mformat\u001b[0m\u001b[1;33m=\u001b[0m\u001b[1;34m'png'\u001b[0m\u001b[1;33m)\u001b[0m\u001b[1;33m)\u001b[0m\u001b[1;33m\u001b[0m\u001b[0m\n\u001b[0m\u001b[0;32m    261\u001b[0m     \u001b[0ms\u001b[0m\u001b[1;33m.\u001b[0m\u001b[0mseek\u001b[0m\u001b[1;33m(\u001b[0m\u001b[1;36m0\u001b[0m\u001b[1;33m)\u001b[0m\u001b[1;33m\u001b[0m\u001b[0m\n\u001b[0;32m    262\u001b[0m     \u001b[0mimg\u001b[0m \u001b[1;33m=\u001b[0m \u001b[0mimage\u001b[0m\u001b[1;33m.\u001b[0m\u001b[0mimread\u001b[0m\u001b[1;33m(\u001b[0m\u001b[0ms\u001b[0m\u001b[1;33m)\u001b[0m\u001b[1;33m\u001b[0m\u001b[0m\n",
      "\u001b[1;32mC:\\ProgramData\\Anaconda3\\lib\\site-packages\\graphviz\\files.py\u001b[0m in \u001b[0;36mpipe\u001b[1;34m(self, format)\u001b[0m\n\u001b[0;32m    122\u001b[0m         \u001b[0mdata\u001b[0m \u001b[1;33m=\u001b[0m \u001b[0mtext_type\u001b[0m\u001b[1;33m(\u001b[0m\u001b[0mself\u001b[0m\u001b[1;33m.\u001b[0m\u001b[0msource\u001b[0m\u001b[1;33m)\u001b[0m\u001b[1;33m.\u001b[0m\u001b[0mencode\u001b[0m\u001b[1;33m(\u001b[0m\u001b[0mself\u001b[0m\u001b[1;33m.\u001b[0m\u001b[0m_encoding\u001b[0m\u001b[1;33m)\u001b[0m\u001b[1;33m\u001b[0m\u001b[0m\n\u001b[0;32m    123\u001b[0m \u001b[1;33m\u001b[0m\u001b[0m\n\u001b[1;32m--> 124\u001b[1;33m         \u001b[0mouts\u001b[0m \u001b[1;33m=\u001b[0m \u001b[0mbackend\u001b[0m\u001b[1;33m.\u001b[0m\u001b[0mpipe\u001b[0m\u001b[1;33m(\u001b[0m\u001b[0mself\u001b[0m\u001b[1;33m.\u001b[0m\u001b[0m_engine\u001b[0m\u001b[1;33m,\u001b[0m \u001b[0mformat\u001b[0m\u001b[1;33m,\u001b[0m \u001b[0mdata\u001b[0m\u001b[1;33m)\u001b[0m\u001b[1;33m\u001b[0m\u001b[0m\n\u001b[0m\u001b[0;32m    125\u001b[0m \u001b[1;33m\u001b[0m\u001b[0m\n\u001b[0;32m    126\u001b[0m         \u001b[1;32mreturn\u001b[0m \u001b[0mouts\u001b[0m\u001b[1;33m\u001b[0m\u001b[0m\n",
      "\u001b[1;32mC:\\ProgramData\\Anaconda3\\lib\\site-packages\\graphviz\\backend.py\u001b[0m in \u001b[0;36mpipe\u001b[1;34m(engine, format, data, quiet)\u001b[0m\n\u001b[0;32m    155\u001b[0m     \u001b[1;32mexcept\u001b[0m \u001b[0mOSError\u001b[0m \u001b[1;32mas\u001b[0m \u001b[0me\u001b[0m\u001b[1;33m:\u001b[0m\u001b[1;33m\u001b[0m\u001b[0m\n\u001b[0;32m    156\u001b[0m         \u001b[1;32mif\u001b[0m \u001b[0me\u001b[0m\u001b[1;33m.\u001b[0m\u001b[0merrno\u001b[0m \u001b[1;33m==\u001b[0m \u001b[0merrno\u001b[0m\u001b[1;33m.\u001b[0m\u001b[0mENOENT\u001b[0m\u001b[1;33m:\u001b[0m\u001b[1;33m\u001b[0m\u001b[0m\n\u001b[1;32m--> 157\u001b[1;33m             \u001b[1;32mraise\u001b[0m \u001b[0mExecutableNotFound\u001b[0m\u001b[1;33m(\u001b[0m\u001b[0margs\u001b[0m\u001b[1;33m)\u001b[0m\u001b[1;33m\u001b[0m\u001b[0m\n\u001b[0m\u001b[0;32m    158\u001b[0m         \u001b[1;32melse\u001b[0m\u001b[1;33m:\u001b[0m  \u001b[1;31m# pragma: no cover\u001b[0m\u001b[1;33m\u001b[0m\u001b[0m\n\u001b[0;32m    159\u001b[0m             \u001b[1;32mraise\u001b[0m\u001b[1;33m\u001b[0m\u001b[0m\n",
      "\u001b[1;31mExecutableNotFound\u001b[0m: failed to execute ['dot', '-Tpng'], make sure the Graphviz executables are on your systems' PATH"
     ]
    },
    {
     "data": {
      "image/png": "[encoded data removed]",
      "text/plain": [
       "<matplotlib.figure.Figure at 0x1c46f5ce5c0>"
      ]
     },
     "metadata": {},
     "output_type": "display_data"
    }
   ],
   "source": [
    "# plot the tree\n",
    "plot_tree(xgb_reg)"
   ]
  },
  {
   "cell_type": "code",
   "execution_count": null,
   "metadata": {
    "collapsed": true
   },
   "outputs": [],
   "source": []
  },
  {
   "cell_type": "code",
   "execution_count": null,
   "metadata": {
    "collapsed": true
   },
   "outputs": [],
   "source": []
  },
  {
   "cell_type": "code",
   "execution_count": 35,
   "metadata": {
    "collapsed": true
   },
   "outputs": [],
   "source": [
    "# make predictions on the test set\n",
    "df_test = pd.read_csv('../inputs/test.csv')\n",
    "\n",
    "df_test['indicator_code'] = df_test['indicator_code'].isnull().apply(lambda x: int(x))\n",
    "df_test['hedge_value'] = df_test['hedge_value'].apply(lambda x: hedge_value_dict[x] if x in hedge_value_dict else 2)\n",
    "\n",
    "df_test['has_desk_id'] = df_test['desk_id'].isnull().apply(lambda x: int(x))\n",
    "df_test['has_hedge_value'] = df_test['hedge_value'].apply(lambda x: 0 if x != 2 else 2)\n",
    "df_test['status'] = df_test['status'].apply(lambda x: 1 if x == True else 0)\n",
    "\n",
    "df_test['sell_year'] = df_test['sell_date'].apply(lambda x: x//10000)\n",
    "df_test['sell_month'] = df_test['sell_date'].apply(lambda x: (x//100)%100)\n",
    "df_test['sold_bought'] = df_test['sold'] - df_test['bought']\n",
    "\n",
    "df_test['euribor_rate'].fillna(df['euribor_rate'].median(), inplace = True)\n",
    "df_test['libor_rate'].fillna(df['libor_rate'].median(), inplace = True)\n",
    "df_test['desk_id'].fillna('NA', inplace = True)"
   ]
  },
  {
   "cell_type": "code",
   "execution_count": 36,
   "metadata": {},
   "outputs": [
    {
     "data": {
      "text/plain": [
       "1948"
      ]
     },
     "execution_count": 36,
     "metadata": {},
     "output_type": "execute_result"
    }
   ],
   "source": [
    "(df_test['desk_id'] == 'NA').sum()"
   ]
  },
  {
   "cell_type": "code",
   "execution_count": 37,
   "metadata": {
    "collapsed": true
   },
   "outputs": [],
   "source": [
    "if ['desk_id'] in input_cols_xgb_encode:\n",
    "    desk_id_list = set(label_enc[input_cols_xgb_encode.index('desk_id')].classes_.tolist())\n",
    "    df_test['desk_id'] = df_test['desk_id'].apply(lambda x: 'NA' if x not in desk_id_list else x)"
   ]
  },
  {
   "cell_type": "code",
   "execution_count": 38,
   "metadata": {},
   "outputs": [
    {
     "data": {
      "text/plain": [
       "1948"
      ]
     },
     "execution_count": 38,
     "metadata": {},
     "output_type": "execute_result"
    }
   ],
   "source": [
    "(df_test['desk_id'] == 'NA').sum()"
   ]
  },
  {
   "cell_type": "code",
   "execution_count": 39,
   "metadata": {},
   "outputs": [],
   "source": [
    "for var_to_group in df_grouping.keys():\n",
    "    df_test = pd.merge(left = df_test, right = df_grouping[var_to_group], on = var_to_group, how = 'left')"
   ]
  },
  {
   "cell_type": "code",
   "execution_count": 40,
   "metadata": {},
   "outputs": [
    {
     "name": "stdout",
     "output_type": "stream",
     "text": [
      "Index(['portfolio_id', 'desk_id', 'office_id', 'pf_category', 'start_date',\n",
      "       'sold', 'country_code', 'euribor_rate', 'currency', 'libor_rate',\n",
      "       'bought', 'creation_date', 'indicator_code', 'sell_date', 'type',\n",
      "       'hedge_value', 'status', 'has_desk_id', 'has_hedge_value', 'sell_year',\n",
      "       'sell_month', 'sold_bought', 'pf_category_return_mean',\n",
      "       'pf_category_return_median', 'pf_category_return_amax',\n",
      "       'pf_category_return_amin', 'pf_category_return_count',\n",
      "       'country_code_return_mean', 'country_code_return_median',\n",
      "       'country_code_return_amax', 'country_code_return_amin',\n",
      "       'country_code_return_count', 'type_return_mean', 'type_return_median',\n",
      "       'type_return_amax', 'type_return_amin', 'type_return_count',\n",
      "       'indicator_code_return_mean', 'indicator_code_return_median',\n",
      "       'indicator_code_return_amax', 'indicator_code_return_amin',\n",
      "       'indicator_code_return_count', 'hedge_value_return_mean',\n",
      "       'hedge_value_return_median', 'hedge_value_return_amax',\n",
      "       'hedge_value_return_amin', 'hedge_value_return_count',\n",
      "       'status_return_mean', 'status_return_median', 'status_return_amax',\n",
      "       'status_return_amin', 'status_return_count', 'sell_year_return_mean',\n",
      "       'sell_year_return_median', 'sell_year_return_amax',\n",
      "       'sell_year_return_amin', 'sell_year_return_count',\n",
      "       'sell_month_return_mean', 'sell_month_return_median',\n",
      "       'sell_month_return_amax', 'sell_month_return_amin',\n",
      "       'sell_month_return_count'],\n",
      "      dtype='object')\n"
     ]
    }
   ],
   "source": [
    "print (df_test.columns)"
   ]
  },
  {
   "cell_type": "code",
   "execution_count": 41,
   "metadata": {
    "collapsed": true
   },
   "outputs": [],
   "source": [
    "# make predictions on the test set with the optimum parameters\n",
    "X_xgb_test = df_test[input_cols_xgb_encode + input_cols_xgb_numeric].as_matrix()\n",
    "\n",
    "for i in range(len(label_enc)):\n",
    "    X_xgb_test[:, i] = label_enc[i].transform(X_xgb_test[:, i])\n",
    "\n",
    "df_submit = pd.DataFrame(df_test['portfolio_id'])\n",
    "df_submit['return'] = xgb_reg.predict(X_xgb_test)\n",
    "\n",
    "df_submit.to_csv('../submissions/submit_20171217_1940_xgb.csv', index=False)\n"
   ]
  },
  {
   "cell_type": "code",
   "execution_count": null,
   "metadata": {
    "collapsed": true
   },
   "outputs": [],
   "source": []
  }
 ],
 "metadata": {
  "kernelspec": {
   "display_name": "Python 3",
   "language": "python",
   "name": "python3"
  },
  "language_info": {
   "codemirror_mode": {
    "name": "ipython",
    "version": 3
   },
   "file_extension": ".py",
   "mimetype": "text/x-python",
   "name": "python",
   "nbconvert_exporter": "python",
   "pygments_lexer": "ipython3",
   "version": "3.6.1"
  }
 },
 "nbformat": 4,
 "nbformat_minor": 2
}
