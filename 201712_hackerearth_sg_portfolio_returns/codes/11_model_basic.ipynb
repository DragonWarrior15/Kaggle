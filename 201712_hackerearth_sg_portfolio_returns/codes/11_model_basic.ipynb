{
 "cells": [
  {
   "cell_type": "code",
   "execution_count": 1,
   "metadata": {
    "collapsed": true
   },
   "outputs": [],
   "source": [
    "import pandas as pd\n",
    "import numpy as np\n",
    "from datetime import datetime\n",
    "import matplotlib.pyplot as plt\n",
    "import seaborn as sns\n",
    "\n",
    "%matplotlib inline"
   ]
  },
  {
   "cell_type": "code",
   "execution_count": 83,
   "metadata": {
    "collapsed": true
   },
   "outputs": [],
   "source": [
    "from sklearn.linear_model import LinearRegression\n",
    "from sklearn.preprocessing import StandardScaler\n",
    "from sklearn.preprocessing import LabelEncoder\n",
    "\n",
    "from sklearn.ensemble import RandomForestRegressor\n",
    "from sklearn.ensemble import GradientBoostingClassifier\n",
    "\n",
    "from xgboost import XGBRegressor\n",
    "\n",
    "from sklearn.metrics import r2_score\n",
    "from sklearn.model_selection import GridSearchCV"
   ]
  },
  {
   "cell_type": "code",
   "execution_count": 6,
   "metadata": {},
   "outputs": [],
   "source": [
    "df = pd.read_csv('../inputs/train.csv')"
   ]
  },
  {
   "cell_type": "code",
   "execution_count": 7,
   "metadata": {
    "collapsed": true
   },
   "outputs": [],
   "source": [
    "global_filter = (df['return'] < 0.1) & (df['pf_category'] != 'E') & (df['type'] != 'G') & (df['bought'] < 1e10)"
   ]
  },
  {
   "cell_type": "code",
   "execution_count": 8,
   "metadata": {
    "collapsed": true
   },
   "outputs": [],
   "source": [
    "df = df.loc[global_filter, :]"
   ]
  },
  {
   "cell_type": "code",
   "execution_count": 9,
   "metadata": {
    "collapsed": true
   },
   "outputs": [],
   "source": [
    "df['indicator_code'] = df['indicator_code'].isnull().apply(lambda x: int(x))\n",
    "hedge_value_dict = {True:1, False:0}\n",
    "df['hedge_value'] = df['hedge_value'].apply(lambda x: hedge_value_dict[x] if x in hedge_value_dict else 2)"
   ]
  },
  {
   "cell_type": "code",
   "execution_count": 10,
   "metadata": {
    "collapsed": true
   },
   "outputs": [],
   "source": [
    "df['has_desk_id'] = df['desk_id'].isnull().apply(lambda x: int(x))\n",
    "df['has_hedge_value'] = df['hedge_value'].apply(lambda x: 0 if x != 2 else 2)\n",
    "df['status'] = df['status'].apply(lambda x: 1 if x == True else 0)"
   ]
  },
  {
   "cell_type": "code",
   "execution_count": 11,
   "metadata": {
    "collapsed": true
   },
   "outputs": [],
   "source": [
    "df['sell_year'] = df['sell_date'].apply(lambda x: x//10000)"
   ]
  },
  {
   "cell_type": "code",
   "execution_count": 12,
   "metadata": {
    "collapsed": true
   },
   "outputs": [],
   "source": [
    "df_pf_cat = df.groupby(['pf_category']).mean()['return'].reset_index().rename(columns = {'return':'pf_cat_mean'})\n",
    "df = pd.merge(left = df, right = df_pf_cat, on = 'pf_category', how = 'left')"
   ]
  },
  {
   "cell_type": "code",
   "execution_count": 13,
   "metadata": {
    "collapsed": true
   },
   "outputs": [],
   "source": [
    "df_country = df.groupby(['country_code']).mean()['return'].reset_index().rename(columns = {'return':'country_mean'})\n",
    "df = pd.merge(left = df, right = df_country, on = 'country_code', how = 'left')"
   ]
  },
  {
   "cell_type": "code",
   "execution_count": 14,
   "metadata": {
    "collapsed": true
   },
   "outputs": [],
   "source": [
    "df_type = df.groupby(['type']).mean()['return'].reset_index().rename(columns = {'return':'type_mean'})\n",
    "df = pd.merge(left = df, right = df_type, on = 'type', how = 'left')"
   ]
  },
  {
   "cell_type": "code",
   "execution_count": 15,
   "metadata": {
    "collapsed": true
   },
   "outputs": [],
   "source": [
    "df_office = df.groupby(['office_id']).mean()['return'].reset_index().rename(columns = {'return':'office_mean'})\n",
    "df = pd.merge(left = df, right = df_office, on = 'office_id', how = 'left')"
   ]
  },
  {
   "cell_type": "code",
   "execution_count": 80,
   "metadata": {},
   "outputs": [
    {
     "name": "stdout",
     "output_type": "stream",
     "text": [
      "portfolio_id        object\n",
      "desk_id             object\n",
      "office_id           object\n",
      "pf_category         object\n",
      "start_date           int64\n",
      "sold               float64\n",
      "country_code        object\n",
      "euribor_rate       float64\n",
      "currency            object\n",
      "libor_rate         float64\n",
      "bought             float64\n",
      "creation_date        int64\n",
      "indicator_code       int64\n",
      "sell_date            int64\n",
      "type                object\n",
      "hedge_value          int64\n",
      "status               int64\n",
      "return             float64\n",
      "has_desk_id          int64\n",
      "has_hedge_value      int64\n",
      "sell_year            int64\n",
      "pf_cat_mean        float64\n",
      "country_mean       float64\n",
      "type_mean          float64\n",
      "office_mean        float64\n",
      "dtype: object\n"
     ]
    }
   ],
   "source": [
    "print (df.dtypes)"
   ]
  },
  {
   "cell_type": "code",
   "execution_count": 17,
   "metadata": {},
   "outputs": [],
   "source": [
    "df['euribor_rate'].fillna(df['euribor_rate'].median(), inplace = True)\n",
    "df['libor_rate'].fillna(df['libor_rate'].median(), inplace = True)"
   ]
  },
  {
   "cell_type": "code",
   "execution_count": 62,
   "metadata": {
    "collapsed": true
   },
   "outputs": [],
   "source": [
    "input_scale_cols = ['euribor_rate', 'libor_rate', 'pf_cat_mean', 'type_mean', 'country_mean', 'office_mean', 'sell_year']\n",
    "input_other_cols = ['indicator_code', 'status']\n",
    "target_col = ['return']"
   ]
  },
  {
   "cell_type": "code",
   "execution_count": 75,
   "metadata": {},
   "outputs": [],
   "source": [
    "X = df[input_scale_cols + input_other_cols].as_matrix()\n",
    "# scaler = StandardScaler()\n",
    "# scaler.fit(X[:, 0:len(input_scale_cols)])\n",
    "# X[:, 0:len(input_scale_cols)] = scaler.transform(X[:, 0:len(input_scale_cols)])\n",
    "\n",
    "y = df[target_col].as_matrix()"
   ]
  },
  {
   "cell_type": "code",
   "execution_count": 31,
   "metadata": {
    "collapsed": true
   },
   "outputs": [
    {
     "data": {
      "text/plain": [
       "<matplotlib.axes._subplots.AxesSubplot at 0x15b651f0390>"
      ]
     },
     "execution_count": 31,
     "metadata": {},
     "output_type": "execute_result"
    },
    {
     "data": {
      "image/png": "[encoded data removed]",
      "text/plain": [
       "<matplotlib.figure.Figure at 0x15b656a4828>"
      ]
     },
     "metadata": {},
     "output_type": "display_data"
    }
   ],
   "source": [
    "# fig, axs = plt.subplots(ncols = 3, figsize=(15, 6), gridspec_kw = {'width_ratios':[2, 1, 1]})\n",
    "fig, axs = plt.subplots(ncols = 1, figsize=(15, 6))\n",
    "sns.heatmap(df[input_scale_cols + input_other_cols].corr(), annot = True)"
   ]
  },
  {
   "cell_type": "code",
   "execution_count": 68,
   "metadata": {},
   "outputs": [
    {
     "data": {
      "text/plain": [
       "<matplotlib.axes._subplots.AxesSubplot at 0x15b665d8ef0>"
      ]
     },
     "execution_count": 68,
     "metadata": {},
     "output_type": "execute_result"
    },
    {
     "data": {
      "image/png": "[encoded data removed]",
      "text/plain": [
       "<matplotlib.figure.Figure at 0x15b660b89b0>"
      ]
     },
     "metadata": {},
     "output_type": "display_data"
    }
   ],
   "source": [
    "# fig, axs = plt.subplots(ncols = 3, figsize=(15, 6), gridspec_kw = {'width_ratios':[2, 1, 1]})\n",
    "fig, axs = plt.subplots(ncols = 1, figsize=(15, 6))\n",
    "sns.heatmap(df[input_scale_cols + input_other_cols].corr(), annot = True)"
   ]
  },
  {
   "cell_type": "code",
   "execution_count": 76,
   "metadata": {},
   "outputs": [
    {
     "data": {
      "text/plain": [
       "LinearRegression(copy_X=True, fit_intercept=True, n_jobs=1, normalize=False)"
      ]
     },
     "execution_count": 76,
     "metadata": {},
     "output_type": "execute_result"
    }
   ],
   "source": [
    "model = LinearRegression()\n",
    "model.fit(X, y)"
   ]
  },
  {
   "cell_type": "code",
   "execution_count": 77,
   "metadata": {},
   "outputs": [
    {
     "name": "stdout",
     "output_type": "stream",
     "text": [
      "0.881339783631\n"
     ]
    }
   ],
   "source": [
    "y_pred = model.predict(X)\n",
    "print (r2_score(y, y_pred))"
   ]
  },
  {
   "cell_type": "code",
   "execution_count": 58,
   "metadata": {},
   "outputs": [
    {
     "name": "stdout",
     "output_type": "stream",
     "text": [
      "   euribor_rate,   0.012214\n",
      "     libor_rate,   0.002242\n",
      "    pf_cat_mean,   0.017423\n",
      "      type_mean,   0.001630\n",
      "   country_mean,   0.000430\n",
      "    office_mean,  -0.010418\n",
      "      sell_year,   0.001606\n",
      " indicator_code,   0.003162\n",
      "has_hedge_value,  -0.003830\n",
      "         status,  -0.003557\n"
     ]
    }
   ],
   "source": [
    "for i in range(len(input_scale_cols) + len(input_other_cols)):\n",
    "    if i < len(input_scale_cols):\n",
    "        print (('%15s, %10f') % (input_scale_cols[i], model.coef_[0][i]))\n",
    "    else:\n",
    "        print (('%15s, %10f') % (input_other_cols[i-len(input_scale_cols)], model.coef_[0][i]))"
   ]
  },
  {
   "cell_type": "code",
   "execution_count": null,
   "metadata": {
    "collapsed": true
   },
   "outputs": [],
   "source": []
  },
  {
   "cell_type": "code",
   "execution_count": 108,
   "metadata": {},
   "outputs": [
    {
     "name": "stderr",
     "output_type": "stream",
     "text": [
      "C:\\ProgramData\\Anaconda3\\lib\\site-packages\\ipykernel_launcher.py:3: DataConversionWarning: A column-vector y was passed when a 1d array was expected. Please change the shape of y to (n_samples,), for example using ravel().\n",
      "  This is separate from the ipykernel package so we can avoid doing imports until\n"
     ]
    },
    {
     "data": {
      "text/plain": [
       "RandomForestRegressor(bootstrap=True, criterion='mse', max_depth=5,\n",
       "           max_features='auto', max_leaf_nodes=None,\n",
       "           min_impurity_decrease=0.0, min_impurity_split=None,\n",
       "           min_samples_leaf=1, min_samples_split=2,\n",
       "           min_weight_fraction_leaf=0.0, n_estimators=20, n_jobs=1,\n",
       "           oob_score=False, random_state=42, verbose=0, warm_start=False)"
      ]
     },
     "execution_count": 108,
     "metadata": {},
     "output_type": "execute_result"
    }
   ],
   "source": [
    "model2 = RandomForestRegressor(n_estimators = 20, max_depth = 5, min_samples_split = 2, min_samples_leaf = 1,\n",
    "                               random_state = 42)\n",
    "model2.fit(X, y)"
   ]
  },
  {
   "cell_type": "code",
   "execution_count": 109,
   "metadata": {},
   "outputs": [
    {
     "name": "stdout",
     "output_type": "stream",
     "text": [
      "0.953209310257\n"
     ]
    }
   ],
   "source": [
    "y_pred2 = model2.predict(X)\n",
    "print (r2_score(y, y_pred2))"
   ]
  },
  {
   "cell_type": "code",
   "execution_count": 106,
   "metadata": {},
   "outputs": [
    {
     "name": "stdout",
     "output_type": "stream",
     "text": [
      "   euribor_rate,   0.267645\n",
      "     libor_rate,   0.033016\n",
      "    pf_cat_mean,   0.018038\n",
      "      type_mean,   0.005938\n",
      "   country_mean,   0.159927\n",
      "    office_mean,   0.009513\n",
      "      sell_year,   0.016085\n",
      " indicator_code,   0.000010\n",
      "         status,   0.489830\n"
     ]
    }
   ],
   "source": [
    "for i in range(len(input_scale_cols) + len(input_other_cols)):\n",
    "    if i < len(input_scale_cols):\n",
    "        print (('%15s, %10f') % (input_scale_cols[i], model2.feature_importances_[i]))\n",
    "    else:\n",
    "        print (('%15s, %10f') % (input_other_cols[i-len(input_scale_cols)], model2.feature_importances_[i]))"
   ]
  },
  {
   "cell_type": "code",
   "execution_count": null,
   "metadata": {
    "collapsed": true
   },
   "outputs": [],
   "source": []
  },
  {
   "cell_type": "code",
   "execution_count": null,
   "metadata": {
    "collapsed": true
   },
   "outputs": [],
   "source": [
    "# xgboost parameter tuning"
   ]
  },
  {
   "cell_type": "code",
   "execution_count": 82,
   "metadata": {
    "collapsed": true
   },
   "outputs": [],
   "source": [
    "input_cols_xgb_encode = ['pf_category', 'country_code', 'type'] \n",
    "input_cols_xgb_numeric = ['sold', 'euribor_rate', 'libor_rate', 'indicator_code',\\\n",
    "                          'hedge_value', 'status', 'has_desk_id', 'has_hedge_value', \\\n",
    "                          'sell_year', 'pf_cat_mean', 'country_mean', 'type_mean', 'office_mean']\n",
    "target_cols_xgb = ['return']"
   ]
  },
  {
   "cell_type": "code",
   "execution_count": 91,
   "metadata": {},
   "outputs": [],
   "source": [
    "X_xgb = df[input_cols_xgb_encode + input_cols_xgb_numeric].as_matrix()\n",
    "label_enc = [LabelEncoder() for i in range(len(input_cols_xgb_encode))]\n",
    "\n",
    "for i in range(len(label_enc)):\n",
    "    label_enc[i].fit(X_xgb[:, i])\n",
    "    X_xgb[:, i] = label_enc[i].transform(X_xgb[:, i])\n",
    "\n",
    "y_xgb = df[target_cols_xgb].as_matrix()"
   ]
  },
  {
   "cell_type": "code",
   "execution_count": 112,
   "metadata": {},
   "outputs": [
    {
     "name": "stdout",
     "output_type": "stream",
     "text": [
      "{'n_estimators': 500}\n"
     ]
    }
   ],
   "source": [
    "# get the optimum no of trees for learning rate of 0.1\n",
    "parameters = {'n_estimators' : [50, 100, 250, 500]}\n",
    "xgb_reg = XGBRegressor(random_state=42)\n",
    "clf = GridSearchCV(xgb_reg, parameters, cv = 3, scoring = 'r2')\n",
    "clf.fit(X_xgb, y_xgb)\n",
    "print (clf.best_params_)"
   ]
  },
  {
   "cell_type": "code",
   "execution_count": 111,
   "metadata": {
    "collapsed": true
   },
   "outputs": [
    {
     "data": {
      "text/html": [
       "<div>\n",
       "<style>\n",
       "    .dataframe thead tr:only-child th {\n",
       "        text-align: right;\n",
       "    }\n",
       "\n",
       "    .dataframe thead th {\n",
       "        text-align: left;\n",
       "    }\n",
       "\n",
       "    .dataframe tbody tr th {\n",
       "        vertical-align: top;\n",
       "    }\n",
       "</style>\n",
       "<table border=\"1\" class=\"dataframe\">\n",
       "  <thead>\n",
       "    <tr style=\"text-align: right;\">\n",
       "      <th></th>\n",
       "      <th>mean_fit_time</th>\n",
       "      <th>mean_score_time</th>\n",
       "      <th>mean_test_score</th>\n",
       "      <th>mean_train_score</th>\n",
       "      <th>param_n_estimators</th>\n",
       "      <th>params</th>\n",
       "      <th>rank_test_score</th>\n",
       "      <th>split0_test_score</th>\n",
       "      <th>split0_train_score</th>\n",
       "      <th>split1_test_score</th>\n",
       "      <th>split1_train_score</th>\n",
       "      <th>split2_test_score</th>\n",
       "      <th>split2_train_score</th>\n",
       "      <th>std_fit_time</th>\n",
       "      <th>std_score_time</th>\n",
       "      <th>std_test_score</th>\n",
       "      <th>std_train_score</th>\n",
       "    </tr>\n",
       "  </thead>\n",
       "  <tbody>\n",
       "    <tr>\n",
       "      <th>0</th>\n",
       "      <td>0.141556</td>\n",
       "      <td>0.003664</td>\n",
       "      <td>0.309532</td>\n",
       "      <td>0.941986</td>\n",
       "      <td>50</td>\n",
       "      <td>{'n_estimators': 50}</td>\n",
       "      <td>4</td>\n",
       "      <td>-0.082359</td>\n",
       "      <td>0.941056</td>\n",
       "      <td>0.929445</td>\n",
       "      <td>0.935847</td>\n",
       "      <td>0.081437</td>\n",
       "      <td>0.949056</td>\n",
       "      <td>0.020516</td>\n",
       "      <td>0.000246</td>\n",
       "      <td>0.443450</td>\n",
       "      <td>0.005432</td>\n",
       "    </tr>\n",
       "    <tr>\n",
       "      <th>1</th>\n",
       "      <td>0.239019</td>\n",
       "      <td>0.007005</td>\n",
       "      <td>0.442048</td>\n",
       "      <td>0.970463</td>\n",
       "      <td>100</td>\n",
       "      <td>{'n_estimators': 100}</td>\n",
       "      <td>3</td>\n",
       "      <td>0.204032</td>\n",
       "      <td>0.982977</td>\n",
       "      <td>0.960509</td>\n",
       "      <td>0.961487</td>\n",
       "      <td>0.161512</td>\n",
       "      <td>0.966925</td>\n",
       "      <td>0.006079</td>\n",
       "      <td>0.000819</td>\n",
       "      <td>0.367048</td>\n",
       "      <td>0.009123</td>\n",
       "    </tr>\n",
       "    <tr>\n",
       "      <th>2</th>\n",
       "      <td>0.597740</td>\n",
       "      <td>0.021222</td>\n",
       "      <td>0.502388</td>\n",
       "      <td>0.976403</td>\n",
       "      <td>250</td>\n",
       "      <td>{'n_estimators': 250}</td>\n",
       "      <td>2</td>\n",
       "      <td>0.280265</td>\n",
       "      <td>0.987873</td>\n",
       "      <td>0.960400</td>\n",
       "      <td>0.968225</td>\n",
       "      <td>0.266424</td>\n",
       "      <td>0.973112</td>\n",
       "      <td>0.012579</td>\n",
       "      <td>0.004511</td>\n",
       "      <td>0.323938</td>\n",
       "      <td>0.008352</td>\n",
       "    </tr>\n",
       "    <tr>\n",
       "      <th>3</th>\n",
       "      <td>1.037266</td>\n",
       "      <td>0.032705</td>\n",
       "      <td>0.504913</td>\n",
       "      <td>0.979928</td>\n",
       "      <td>500</td>\n",
       "      <td>{'n_estimators': 500}</td>\n",
       "      <td>1</td>\n",
       "      <td>0.280331</td>\n",
       "      <td>0.987883</td>\n",
       "      <td>0.961434</td>\n",
       "      <td>0.973530</td>\n",
       "      <td>0.272900</td>\n",
       "      <td>0.978371</td>\n",
       "      <td>0.173010</td>\n",
       "      <td>0.006969</td>\n",
       "      <td>0.322849</td>\n",
       "      <td>0.005962</td>\n",
       "    </tr>\n",
       "  </tbody>\n",
       "</table>\n",
       "</div>"
      ],
      "text/plain": [
       "   mean_fit_time  mean_score_time  mean_test_score  mean_train_score  \\\n",
       "0       0.141556         0.003664         0.309532          0.941986   \n",
       "1       0.239019         0.007005         0.442048          0.970463   \n",
       "2       0.597740         0.021222         0.502388          0.976403   \n",
       "3       1.037266         0.032705         0.504913          0.979928   \n",
       "\n",
       "  param_n_estimators                 params  rank_test_score  \\\n",
       "0                 50   {'n_estimators': 50}                4   \n",
       "1                100  {'n_estimators': 100}                3   \n",
       "2                250  {'n_estimators': 250}                2   \n",
       "3                500  {'n_estimators': 500}                1   \n",
       "\n",
       "   split0_test_score  split0_train_score  split1_test_score  \\\n",
       "0          -0.082359            0.941056           0.929445   \n",
       "1           0.204032            0.982977           0.960509   \n",
       "2           0.280265            0.987873           0.960400   \n",
       "3           0.280331            0.987883           0.961434   \n",
       "\n",
       "   split1_train_score  split2_test_score  split2_train_score  std_fit_time  \\\n",
       "0            0.935847           0.081437            0.949056      0.020516   \n",
       "1            0.961487           0.161512            0.966925      0.006079   \n",
       "2            0.968225           0.266424            0.973112      0.012579   \n",
       "3            0.973530           0.272900            0.978371      0.173010   \n",
       "\n",
       "   std_score_time  std_test_score  std_train_score  \n",
       "0        0.000246        0.443450         0.005432  \n",
       "1        0.000819        0.367048         0.009123  \n",
       "2        0.004511        0.323938         0.008352  \n",
       "3        0.006969        0.322849         0.005962  "
      ]
     },
     "execution_count": 111,
     "metadata": {},
     "output_type": "execute_result"
    }
   ],
   "source": [
    "pd.DataFrame(clf.cv_results_)\n",
    "# take 500 trees as the optimum number for now"
   ]
  },
  {
   "cell_type": "code",
   "execution_count": 114,
   "metadata": {},
   "outputs": [
    {
     "name": "stdout",
     "output_type": "stream",
     "text": [
      "{'max_depth': 5, 'min_child_weight': 1}\n"
     ]
    }
   ],
   "source": [
    "# now tune the max_depth and min_child_weight\n",
    "parameters = {\n",
    " 'max_depth':range(3,10,2),\n",
    " 'min_child_weight':range(1,6,2)\n",
    "}\n",
    "xgb_reg = XGBRegressor(random_state=42, learning_rate = 0.1, n_estimators = 500)\n",
    "clf = GridSearchCV(xgb_reg, parameters, cv = 3, scoring = 'r2')\n",
    "clf.fit(X_xgb, y_xgb)\n",
    "print (clf.best_params_)"
   ]
  },
  {
   "cell_type": "code",
   "execution_count": 115,
   "metadata": {
    "collapsed": true
   },
   "outputs": [
    {
     "data": {
      "text/html": [
       "<div>\n",
       "<style>\n",
       "    .dataframe thead tr:only-child th {\n",
       "        text-align: right;\n",
       "    }\n",
       "\n",
       "    .dataframe thead th {\n",
       "        text-align: left;\n",
       "    }\n",
       "\n",
       "    .dataframe tbody tr th {\n",
       "        vertical-align: top;\n",
       "    }\n",
       "</style>\n",
       "<table border=\"1\" class=\"dataframe\">\n",
       "  <thead>\n",
       "    <tr style=\"text-align: right;\">\n",
       "      <th></th>\n",
       "      <th>mean_fit_time</th>\n",
       "      <th>mean_score_time</th>\n",
       "      <th>mean_test_score</th>\n",
       "      <th>mean_train_score</th>\n",
       "      <th>param_max_depth</th>\n",
       "      <th>param_min_child_weight</th>\n",
       "      <th>params</th>\n",
       "      <th>rank_test_score</th>\n",
       "      <th>split0_test_score</th>\n",
       "      <th>split0_train_score</th>\n",
       "      <th>split1_test_score</th>\n",
       "      <th>split1_train_score</th>\n",
       "      <th>split2_test_score</th>\n",
       "      <th>split2_train_score</th>\n",
       "      <th>std_fit_time</th>\n",
       "      <th>std_score_time</th>\n",
       "      <th>std_test_score</th>\n",
       "      <th>std_train_score</th>\n",
       "    </tr>\n",
       "  </thead>\n",
       "  <tbody>\n",
       "    <tr>\n",
       "      <th>0</th>\n",
       "      <td>1.074245</td>\n",
       "      <td>0.032755</td>\n",
       "      <td>0.504913</td>\n",
       "      <td>0.979928</td>\n",
       "      <td>3</td>\n",
       "      <td>1</td>\n",
       "      <td>{'max_depth': 3, 'min_child_weight': 1}</td>\n",
       "      <td>2</td>\n",
       "      <td>0.280331</td>\n",
       "      <td>0.987883</td>\n",
       "      <td>0.961434</td>\n",
       "      <td>0.973530</td>\n",
       "      <td>0.272900</td>\n",
       "      <td>0.978371</td>\n",
       "      <td>0.164475</td>\n",
       "      <td>0.008259</td>\n",
       "      <td>0.322849</td>\n",
       "      <td>0.005962</td>\n",
       "    </tr>\n",
       "    <tr>\n",
       "      <th>1</th>\n",
       "      <td>1.139825</td>\n",
       "      <td>0.032083</td>\n",
       "      <td>0.446633</td>\n",
       "      <td>0.978943</td>\n",
       "      <td>3</td>\n",
       "      <td>3</td>\n",
       "      <td>{'max_depth': 3, 'min_child_weight': 3}</td>\n",
       "      <td>7</td>\n",
       "      <td>0.119070</td>\n",
       "      <td>0.987398</td>\n",
       "      <td>0.958779</td>\n",
       "      <td>0.972838</td>\n",
       "      <td>0.261992</td>\n",
       "      <td>0.976594</td>\n",
       "      <td>0.165892</td>\n",
       "      <td>0.007785</td>\n",
       "      <td>0.366840</td>\n",
       "      <td>0.006172</td>\n",
       "    </tr>\n",
       "    <tr>\n",
       "      <th>2</th>\n",
       "      <td>1.096967</td>\n",
       "      <td>0.031909</td>\n",
       "      <td>0.449753</td>\n",
       "      <td>0.978069</td>\n",
       "      <td>3</td>\n",
       "      <td>5</td>\n",
       "      <td>{'max_depth': 3, 'min_child_weight': 5}</td>\n",
       "      <td>6</td>\n",
       "      <td>0.127411</td>\n",
       "      <td>0.986431</td>\n",
       "      <td>0.959370</td>\n",
       "      <td>0.972307</td>\n",
       "      <td>0.262418</td>\n",
       "      <td>0.975467</td>\n",
       "      <td>0.181554</td>\n",
       "      <td>0.008001</td>\n",
       "      <td>0.364573</td>\n",
       "      <td>0.006052</td>\n",
       "    </tr>\n",
       "    <tr>\n",
       "      <th>3</th>\n",
       "      <td>1.031875</td>\n",
       "      <td>0.030595</td>\n",
       "      <td>0.544650</td>\n",
       "      <td>0.983731</td>\n",
       "      <td>5</td>\n",
       "      <td>1</td>\n",
       "      <td>{'max_depth': 5, 'min_child_weight': 1}</td>\n",
       "      <td>1</td>\n",
       "      <td>0.428079</td>\n",
       "      <td>0.990975</td>\n",
       "      <td>0.957681</td>\n",
       "      <td>0.978131</td>\n",
       "      <td>0.248095</td>\n",
       "      <td>0.982086</td>\n",
       "      <td>0.142822</td>\n",
       "      <td>0.012042</td>\n",
       "      <td>0.301181</td>\n",
       "      <td>0.005371</td>\n",
       "    </tr>\n",
       "    <tr>\n",
       "      <th>4</th>\n",
       "      <td>1.046716</td>\n",
       "      <td>0.023887</td>\n",
       "      <td>0.463073</td>\n",
       "      <td>0.982232</td>\n",
       "      <td>5</td>\n",
       "      <td>3</td>\n",
       "      <td>{'max_depth': 5, 'min_child_weight': 3}</td>\n",
       "      <td>5</td>\n",
       "      <td>0.179763</td>\n",
       "      <td>0.988862</td>\n",
       "      <td>0.957795</td>\n",
       "      <td>0.977449</td>\n",
       "      <td>0.251592</td>\n",
       "      <td>0.980387</td>\n",
       "      <td>0.158754</td>\n",
       "      <td>0.007809</td>\n",
       "      <td>0.351076</td>\n",
       "      <td>0.004839</td>\n",
       "    </tr>\n",
       "    <tr>\n",
       "      <th>5</th>\n",
       "      <td>1.162114</td>\n",
       "      <td>0.028429</td>\n",
       "      <td>0.464412</td>\n",
       "      <td>0.980418</td>\n",
       "      <td>5</td>\n",
       "      <td>5</td>\n",
       "      <td>{'max_depth': 5, 'min_child_weight': 5}</td>\n",
       "      <td>4</td>\n",
       "      <td>0.191479</td>\n",
       "      <td>0.987817</td>\n",
       "      <td>0.953541</td>\n",
       "      <td>0.974855</td>\n",
       "      <td>0.248147</td>\n",
       "      <td>0.978582</td>\n",
       "      <td>0.313595</td>\n",
       "      <td>0.009503</td>\n",
       "      <td>0.346667</td>\n",
       "      <td>0.005449</td>\n",
       "    </tr>\n",
       "    <tr>\n",
       "      <th>6</th>\n",
       "      <td>1.049984</td>\n",
       "      <td>0.020398</td>\n",
       "      <td>0.465373</td>\n",
       "      <td>0.985931</td>\n",
       "      <td>7</td>\n",
       "      <td>1</td>\n",
       "      <td>{'max_depth': 7, 'min_child_weight': 1}</td>\n",
       "      <td>3</td>\n",
       "      <td>0.160015</td>\n",
       "      <td>0.993235</td>\n",
       "      <td>0.954319</td>\n",
       "      <td>0.980492</td>\n",
       "      <td>0.281725</td>\n",
       "      <td>0.984067</td>\n",
       "      <td>0.042233</td>\n",
       "      <td>0.005105</td>\n",
       "      <td>0.349317</td>\n",
       "      <td>0.005367</td>\n",
       "    </tr>\n",
       "    <tr>\n",
       "      <th>7</th>\n",
       "      <td>1.001414</td>\n",
       "      <td>0.024079</td>\n",
       "      <td>0.354743</td>\n",
       "      <td>0.983902</td>\n",
       "      <td>7</td>\n",
       "      <td>3</td>\n",
       "      <td>{'max_depth': 7, 'min_child_weight': 3}</td>\n",
       "      <td>8</td>\n",
       "      <td>-0.114273</td>\n",
       "      <td>0.990656</td>\n",
       "      <td>0.953616</td>\n",
       "      <td>0.979376</td>\n",
       "      <td>0.224844</td>\n",
       "      <td>0.981675</td>\n",
       "      <td>0.117621</td>\n",
       "      <td>0.010846</td>\n",
       "      <td>0.445555</td>\n",
       "      <td>0.004867</td>\n",
       "    </tr>\n",
       "    <tr>\n",
       "      <th>8</th>\n",
       "      <td>1.123686</td>\n",
       "      <td>0.021201</td>\n",
       "      <td>0.341524</td>\n",
       "      <td>0.982809</td>\n",
       "      <td>7</td>\n",
       "      <td>5</td>\n",
       "      <td>{'max_depth': 7, 'min_child_weight': 5}</td>\n",
       "      <td>10</td>\n",
       "      <td>-0.156643</td>\n",
       "      <td>0.990304</td>\n",
       "      <td>0.956231</td>\n",
       "      <td>0.977926</td>\n",
       "      <td>0.224947</td>\n",
       "      <td>0.980196</td>\n",
       "      <td>0.134694</td>\n",
       "      <td>0.006143</td>\n",
       "      <td>0.461768</td>\n",
       "      <td>0.005381</td>\n",
       "    </tr>\n",
       "    <tr>\n",
       "      <th>9</th>\n",
       "      <td>1.038783</td>\n",
       "      <td>0.017716</td>\n",
       "      <td>0.342614</td>\n",
       "      <td>0.987119</td>\n",
       "      <td>9</td>\n",
       "      <td>1</td>\n",
       "      <td>{'max_depth': 9, 'min_child_weight': 1}</td>\n",
       "      <td>9</td>\n",
       "      <td>-0.175712</td>\n",
       "      <td>0.994050</td>\n",
       "      <td>0.956006</td>\n",
       "      <td>0.982282</td>\n",
       "      <td>0.247518</td>\n",
       "      <td>0.985023</td>\n",
       "      <td>0.026972</td>\n",
       "      <td>0.003893</td>\n",
       "      <td>0.466913</td>\n",
       "      <td>0.005027</td>\n",
       "    </tr>\n",
       "    <tr>\n",
       "      <th>10</th>\n",
       "      <td>1.275233</td>\n",
       "      <td>0.021558</td>\n",
       "      <td>0.332974</td>\n",
       "      <td>0.985132</td>\n",
       "      <td>9</td>\n",
       "      <td>3</td>\n",
       "      <td>{'max_depth': 9, 'min_child_weight': 3}</td>\n",
       "      <td>11</td>\n",
       "      <td>-0.220354</td>\n",
       "      <td>0.992214</td>\n",
       "      <td>0.959499</td>\n",
       "      <td>0.979579</td>\n",
       "      <td>0.259755</td>\n",
       "      <td>0.983603</td>\n",
       "      <td>0.396837</td>\n",
       "      <td>0.006434</td>\n",
       "      <td>0.484472</td>\n",
       "      <td>0.005270</td>\n",
       "    </tr>\n",
       "    <tr>\n",
       "      <th>11</th>\n",
       "      <td>1.274421</td>\n",
       "      <td>0.024754</td>\n",
       "      <td>0.319398</td>\n",
       "      <td>0.984052</td>\n",
       "      <td>9</td>\n",
       "      <td>5</td>\n",
       "      <td>{'max_depth': 9, 'min_child_weight': 5}</td>\n",
       "      <td>12</td>\n",
       "      <td>-0.271738</td>\n",
       "      <td>0.991074</td>\n",
       "      <td>0.956133</td>\n",
       "      <td>0.979585</td>\n",
       "      <td>0.273784</td>\n",
       "      <td>0.981498</td>\n",
       "      <td>0.166643</td>\n",
       "      <td>0.008834</td>\n",
       "      <td>0.502339</td>\n",
       "      <td>0.005026</td>\n",
       "    </tr>\n",
       "  </tbody>\n",
       "</table>\n",
       "</div>"
      ],
      "text/plain": [
       "    mean_fit_time  mean_score_time  mean_test_score  mean_train_score  \\\n",
       "0        1.074245         0.032755         0.504913          0.979928   \n",
       "1        1.139825         0.032083         0.446633          0.978943   \n",
       "2        1.096967         0.031909         0.449753          0.978069   \n",
       "3        1.031875         0.030595         0.544650          0.983731   \n",
       "4        1.046716         0.023887         0.463073          0.982232   \n",
       "5        1.162114         0.028429         0.464412          0.980418   \n",
       "6        1.049984         0.020398         0.465373          0.985931   \n",
       "7        1.001414         0.024079         0.354743          0.983902   \n",
       "8        1.123686         0.021201         0.341524          0.982809   \n",
       "9        1.038783         0.017716         0.342614          0.987119   \n",
       "10       1.275233         0.021558         0.332974          0.985132   \n",
       "11       1.274421         0.024754         0.319398          0.984052   \n",
       "\n",
       "   param_max_depth param_min_child_weight  \\\n",
       "0                3                      1   \n",
       "1                3                      3   \n",
       "2                3                      5   \n",
       "3                5                      1   \n",
       "4                5                      3   \n",
       "5                5                      5   \n",
       "6                7                      1   \n",
       "7                7                      3   \n",
       "8                7                      5   \n",
       "9                9                      1   \n",
       "10               9                      3   \n",
       "11               9                      5   \n",
       "\n",
       "                                     params  rank_test_score  \\\n",
       "0   {'max_depth': 3, 'min_child_weight': 1}                2   \n",
       "1   {'max_depth': 3, 'min_child_weight': 3}                7   \n",
       "2   {'max_depth': 3, 'min_child_weight': 5}                6   \n",
       "3   {'max_depth': 5, 'min_child_weight': 1}                1   \n",
       "4   {'max_depth': 5, 'min_child_weight': 3}                5   \n",
       "5   {'max_depth': 5, 'min_child_weight': 5}                4   \n",
       "6   {'max_depth': 7, 'min_child_weight': 1}                3   \n",
       "7   {'max_depth': 7, 'min_child_weight': 3}                8   \n",
       "8   {'max_depth': 7, 'min_child_weight': 5}               10   \n",
       "9   {'max_depth': 9, 'min_child_weight': 1}                9   \n",
       "10  {'max_depth': 9, 'min_child_weight': 3}               11   \n",
       "11  {'max_depth': 9, 'min_child_weight': 5}               12   \n",
       "\n",
       "    split0_test_score  split0_train_score  split1_test_score  \\\n",
       "0            0.280331            0.987883           0.961434   \n",
       "1            0.119070            0.987398           0.958779   \n",
       "2            0.127411            0.986431           0.959370   \n",
       "3            0.428079            0.990975           0.957681   \n",
       "4            0.179763            0.988862           0.957795   \n",
       "5            0.191479            0.987817           0.953541   \n",
       "6            0.160015            0.993235           0.954319   \n",
       "7           -0.114273            0.990656           0.953616   \n",
       "8           -0.156643            0.990304           0.956231   \n",
       "9           -0.175712            0.994050           0.956006   \n",
       "10          -0.220354            0.992214           0.959499   \n",
       "11          -0.271738            0.991074           0.956133   \n",
       "\n",
       "    split1_train_score  split2_test_score  split2_train_score  std_fit_time  \\\n",
       "0             0.973530           0.272900            0.978371      0.164475   \n",
       "1             0.972838           0.261992            0.976594      0.165892   \n",
       "2             0.972307           0.262418            0.975467      0.181554   \n",
       "3             0.978131           0.248095            0.982086      0.142822   \n",
       "4             0.977449           0.251592            0.980387      0.158754   \n",
       "5             0.974855           0.248147            0.978582      0.313595   \n",
       "6             0.980492           0.281725            0.984067      0.042233   \n",
       "7             0.979376           0.224844            0.981675      0.117621   \n",
       "8             0.977926           0.224947            0.980196      0.134694   \n",
       "9             0.982282           0.247518            0.985023      0.026972   \n",
       "10            0.979579           0.259755            0.983603      0.396837   \n",
       "11            0.979585           0.273784            0.981498      0.166643   \n",
       "\n",
       "    std_score_time  std_test_score  std_train_score  \n",
       "0         0.008259        0.322849         0.005962  \n",
       "1         0.007785        0.366840         0.006172  \n",
       "2         0.008001        0.364573         0.006052  \n",
       "3         0.012042        0.301181         0.005371  \n",
       "4         0.007809        0.351076         0.004839  \n",
       "5         0.009503        0.346667         0.005449  \n",
       "6         0.005105        0.349317         0.005367  \n",
       "7         0.010846        0.445555         0.004867  \n",
       "8         0.006143        0.461768         0.005381  \n",
       "9         0.003893        0.466913         0.005027  \n",
       "10        0.006434        0.484472         0.005270  \n",
       "11        0.008834        0.502339         0.005026  "
      ]
     },
     "execution_count": 115,
     "metadata": {},
     "output_type": "execute_result"
    }
   ],
   "source": [
    "pd.DataFrame(clf.cv_results_)"
   ]
  },
  {
   "cell_type": "code",
   "execution_count": 116,
   "metadata": {},
   "outputs": [
    {
     "name": "stdout",
     "output_type": "stream",
     "text": [
      "{'max_depth': 5, 'min_child_weight': 1}\n"
     ]
    }
   ],
   "source": [
    "# check the values in the neighbourhood of the above values\n",
    "parameters = {\n",
    " 'max_depth':[4, 5, 6],\n",
    " 'min_child_weight':[1,2]\n",
    "}\n",
    "xgb_reg = XGBRegressor(random_state=42, learning_rate = 0.1, n_estimators = 500)\n",
    "clf = GridSearchCV(xgb_reg, parameters, cv = 3, scoring = 'r2')\n",
    "clf.fit(X_xgb, y_xgb)\n",
    "print (clf.best_params_)"
   ]
  },
  {
   "cell_type": "code",
   "execution_count": 117,
   "metadata": {},
   "outputs": [
    {
     "name": "stdout",
     "output_type": "stream",
     "text": [
      "{'gamma': 0.0}\n"
     ]
    }
   ],
   "source": [
    "# tune the value of gamma\n",
    "parameters = {\n",
    " 'gamma':[x/10.0 for x in range(6)]\n",
    "}\n",
    "xgb_reg = XGBRegressor(random_state=42, learning_rate = 0.1, n_estimators = 500, \\\n",
    "                       max_depth = 5, min_child_weight = 1)\n",
    "clf = GridSearchCV(xgb_reg, parameters, cv = 3, scoring = 'r2')\n",
    "clf.fit(X_xgb, y_xgb)\n",
    "print (clf.best_params_)"
   ]
  },
  {
   "cell_type": "code",
   "execution_count": 119,
   "metadata": {},
   "outputs": [
    {
     "name": "stdout",
     "output_type": "stream",
     "text": [
      "{'colsample_bytree': 0.8, 'subsample': 0.9}\n"
     ]
    }
   ],
   "source": [
    "# tune the value of subsample and colsample_bytree\n",
    "parameters = {\n",
    " 'subsample':[x/10.0 for x in range(6,11)],\n",
    " 'colsample_bytree':[x/10.0 for x in range(6,11)]\n",
    "}\n",
    "xgb_reg = XGBRegressor(random_state=42, learning_rate = 0.1, n_estimators = 500, \\\n",
    "                       max_depth = 5, min_child_weight = 1, gamma = 0)\n",
    "clf = GridSearchCV(xgb_reg, parameters, cv = 3, scoring = 'r2')\n",
    "clf.fit(X_xgb, y_xgb)\n",
    "print (clf.best_params_)"
   ]
  },
  {
   "cell_type": "code",
   "execution_count": 120,
   "metadata": {},
   "outputs": [
    {
     "name": "stdout",
     "output_type": "stream",
     "text": [
      "{'colsample_bytree': 0.85, 'subsample': 0.95}\n"
     ]
    }
   ],
   "source": [
    "# tune the value of subsample and colsample_bytree with more tight intervals\n",
    "parameters = {\n",
    " 'subsample':[0.85, 0.9, 0.95],\n",
    " 'colsample_bytree':[0.75, 0.8, 0.85]\n",
    "}\n",
    "xgb_reg = XGBRegressor(random_state=42, learning_rate = 0.1, n_estimators = 500, \\\n",
    "                       max_depth = 5, min_child_weight = 1, gamma = 0)\n",
    "clf = GridSearchCV(xgb_reg, parameters, cv = 3, scoring = 'r2')\n",
    "clf.fit(X_xgb, y_xgb)\n",
    "print (clf.best_params_)"
   ]
  },
  {
   "cell_type": "code",
   "execution_count": 122,
   "metadata": {},
   "outputs": [
    {
     "name": "stdout",
     "output_type": "stream",
     "text": [
      "{'reg_alpha': 1e-05}\n"
     ]
    }
   ],
   "source": [
    "# tune regularization value alpha\n",
    "parameters = {\n",
    " 'reg_alpha':[0, 1e-5, 1e-2, 0.1, 1, 100]\n",
    "}\n",
    "xgb_reg = XGBRegressor(random_state=42, learning_rate = 0.1, n_estimators = 500, \\\n",
    "                       max_depth = 5, min_child_weight = 1, gamma = 0, \\\n",
    "                       colsample_bytree = 0.85, subsample = 0.95)\n",
    "clf = GridSearchCV(xgb_reg, parameters, cv = 3, scoring = 'r2')\n",
    "clf.fit(X_xgb, y_xgb)\n",
    "print (clf.best_params_)"
   ]
  },
  {
   "cell_type": "code",
   "execution_count": 130,
   "metadata": {},
   "outputs": [
    {
     "name": "stdout",
     "output_type": "stream",
     "text": [
      "{'learning_rate': 0.1}\n"
     ]
    }
   ],
   "source": [
    "# tune the learning rate\n",
    "parameters = {\n",
    " 'learning_rate':[0.001, 0.01, 0.05, 0.1, 0.3]\n",
    "}\n",
    "xgb_reg = XGBRegressor(random_state=42, n_estimators = 1000, \\\n",
    "                       max_depth = 5, min_child_weight = 1, gamma = 0, \\\n",
    "                       colsample_bytree = 0.85, subsample = 0.95)\n",
    "clf = GridSearchCV(xgb_reg, parameters, cv = 3, scoring = 'r2')\n",
    "clf.fit(X_xgb, y_xgb)\n",
    "print (clf.best_params_)"
   ]
  },
  {
   "cell_type": "code",
   "execution_count": 134,
   "metadata": {},
   "outputs": [
    {
     "data": {
      "text/plain": [
       "XGBRegressor(base_score=0.5, booster='gbtree', colsample_bylevel=1,\n",
       "       colsample_bytree=0.85, gamma=0, learning_rate=0.1, max_delta_step=0,\n",
       "       max_depth=5, min_child_weight=1, missing=None, n_estimators=500,\n",
       "       n_jobs=1, nthread=None, objective='reg:linear', random_state=42,\n",
       "       reg_alpha=0, reg_lambda=1, scale_pos_weight=1, seed=None,\n",
       "       silent=True, subsample=0.95)"
      ]
     },
     "execution_count": 134,
     "metadata": {},
     "output_type": "execute_result"
    }
   ],
   "source": [
    "# train the final classifier\n",
    "xgb_reg = XGBRegressor(random_state=42, learning_rate = 0.1, n_estimators = 500, \\\n",
    "                       max_depth = 5, min_child_weight = 1, gamma = 0, \\\n",
    "                       colsample_bytree = 0.85, subsample = 0.95)\n",
    "xgb_reg.fit(X_xgb, y_xgb)"
   ]
  },
  {
   "cell_type": "code",
   "execution_count": 135,
   "metadata": {},
   "outputs": [
    {
     "name": "stdout",
     "output_type": "stream",
     "text": [
      "0.987682344643\n"
     ]
    }
   ],
   "source": [
    "y_xgb_pred = xgb_reg.predict(X_xgb)\n",
    "print (r2_score(y, y_xgb_pred))"
   ]
  },
  {
   "cell_type": "code",
   "execution_count": 133,
   "metadata": {
    "collapsed": true
   },
   "outputs": [],
   "source": [
    "# make predictions on the test set with the optimum parameters\n",
    "X_xgb_test = df_test[input_cols_xgb_encode + input_cols_xgb_numeric].as_matrix()\n",
    "\n",
    "for i in range(len(label_enc)):\n",
    "    X_xgb_test[:, i] = label_enc[i].transform(X_xgb_test[:, i])\n",
    "\n",
    "\n",
    "df_submit = pd.DataFrame(df_test['portfolio_id'])\n",
    "df_submit['return'] = xgb_reg.predict(X_xgb_test)\n",
    "\n",
    "df_submit.to_csv('../submissions/submit_20171216_1729_xgb.csv', index=False)\n"
   ]
  },
  {
   "cell_type": "code",
   "execution_count": null,
   "metadata": {
    "collapsed": true
   },
   "outputs": [],
   "source": []
  },
  {
   "cell_type": "code",
   "execution_count": null,
   "metadata": {
    "collapsed": true
   },
   "outputs": [],
   "source": []
  },
  {
   "cell_type": "code",
   "execution_count": 27,
   "metadata": {
    "collapsed": true
   },
   "outputs": [],
   "source": [
    "# make predictions on the test set\n",
    "df_test = pd.read_csv('../inputs/test.csv')\n",
    "\n",
    "df_test['indicator_code'] = df_test['indicator_code'].isnull().apply(lambda x: int(x))\n",
    "df_test['hedge_value'] = df_test['hedge_value'].apply(lambda x: hedge_value_dict[x] if x in hedge_value_dict else 2)\n",
    "\n",
    "df_test['has_desk_id'] = df_test['desk_id'].isnull().apply(lambda x: int(x))\n",
    "df_test['has_hedge_value'] = df_test['hedge_value'].apply(lambda x: 0 if x != 2 else 2)\n",
    "df_test['status'] = df_test['status'].apply(lambda x: 1 if x == True else 0)\n",
    "\n",
    "df_test['sell_year'] = df_test['sell_date'].apply(lambda x: x//10000)\n",
    "\n",
    "df_test['euribor_rate'].fillna(df['euribor_rate'].median(), inplace = True)\n",
    "df_test['libor_rate'].fillna(df['libor_rate'].median(), inplace = True)\n",
    "\n",
    "df_test = pd.merge(left = df_test, right = df_pf_cat, on = 'pf_category', how = 'left')\n",
    "df_test = pd.merge(left = df_test, right = df_country, on = 'country_code', how = 'left')\n",
    "df_test = pd.merge(left = df_test, right = df_type, on = 'type', how = 'left')\n",
    "df_test = pd.merge(left = df_test, right = df_office, on = 'office_id', how = 'left')"
   ]
  },
  {
   "cell_type": "code",
   "execution_count": 28,
   "metadata": {},
   "outputs": [
    {
     "name": "stdout",
     "output_type": "stream",
     "text": [
      "Index(['portfolio_id', 'desk_id', 'office_id', 'pf_category', 'start_date',\n",
      "       'sold', 'country_code', 'euribor_rate', 'currency', 'libor_rate',\n",
      "       'bought', 'creation_date', 'indicator_code', 'sell_date', 'type',\n",
      "       'hedge_value', 'status', 'has_desk_id', 'has_hedge_value', 'sell_year',\n",
      "       'pf_cat_mean', 'country_mean', 'type_mean', 'office_mean'],\n",
      "      dtype='object')\n"
     ]
    }
   ],
   "source": [
    "print (df_test.columns)"
   ]
  },
  {
   "cell_type": "code",
   "execution_count": 107,
   "metadata": {},
   "outputs": [],
   "source": [
    "X_test = df_test[input_scale_cols + input_other_cols].as_matrix()\n",
    "X_test[:, 0:len(input_scale_cols)] = scaler.transform(X_test[:, 0:len(input_scale_cols)])\n",
    "\n",
    "df_submit = pd.DataFrame(df_test['portfolio_id'])\n",
    "df_submit['return'] = model.predict(X_test)\n",
    "\n",
    "df_submit.to_csv('../submissions/submit_20171216_1632_rf.csv', index=False)"
   ]
  },
  {
   "cell_type": "code",
   "execution_count": null,
   "metadata": {
    "collapsed": true
   },
   "outputs": [],
   "source": []
  }
 ],
 "metadata": {
  "kernelspec": {
   "display_name": "Python 3",
   "language": "python",
   "name": "python3"
  }
 },
 "nbformat": 4,
 "nbformat_minor": 2
}
