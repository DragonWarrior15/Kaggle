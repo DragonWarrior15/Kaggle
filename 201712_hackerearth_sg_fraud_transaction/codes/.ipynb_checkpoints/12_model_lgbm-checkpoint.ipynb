{
 "cells": [
  {
   "cell_type": "code",
   "execution_count": 1,
   "metadata": {
    "collapsed": true
   },
   "outputs": [],
   "source": [
    "import pandas as pd\n",
    "import numpy as np\n",
    "from datetime import datetime\n",
    "import matplotlib.pyplot as plt\n",
    "import seaborn as sns\n",
    "\n",
    "%matplotlib inline"
   ]
  },
  {
   "cell_type": "code",
   "execution_count": 2,
   "metadata": {
    "collapsed": true
   },
   "outputs": [],
   "source": [
    "from sklearn.linear_model import LinearRegression\n",
    "from sklearn.preprocessing import StandardScaler\n",
    "from sklearn.preprocessing import LabelEncoder\n",
    "\n",
    "from sklearn.ensemble import RandomForestClassifier\n",
    "from sklearn.ensemble import GradientBoostingClassifier\n",
    "\n",
    "from xgboost import XGBClassifier\n",
    "\n",
    "import lightgbm as lgb\n",
    "\n",
    "from sklearn.metrics import r2_score\n",
    "from sklearn.model_selection import GridSearchCV\n",
    "from sklearn.model_selection import train_test_split"
   ]
  },
  {
   "cell_type": "code",
   "execution_count": 3,
   "metadata": {
    "collapsed": true
   },
   "outputs": [],
   "source": [
    "df = pd.read_csv('../inputs/train.csv')"
   ]
  },
  {
   "cell_type": "code",
   "execution_count": 4,
   "metadata": {
    "collapsed": true
   },
   "outputs": [],
   "source": [
    "# remove unnecesary columns\n",
    "single_uniq_value_cols = ['cat_var_31', 'cat_var_35', 'cat_var_36', 'cat_var_37', 'cat_var_38', 'cat_var_40', 'cat_var_42']\n",
    "single_majority_value_cols = ['cat_var_23', 'cat_var_24', 'cat_var_25', 'cat_var_26',\\\n",
    "                              'cat_var_27', 'cat_var_28', 'cat_var_29', 'cat_var_30',\\\n",
    "                              'cat_var_32', 'cat_var_33', 'cat_var_34', 'cat_var_39',\\\n",
    "                              'cat_var_41']"
   ]
  },
  {
   "cell_type": "code",
   "execution_count": 5,
   "metadata": {
    "collapsed": true
   },
   "outputs": [],
   "source": [
    "df.drop(single_uniq_value_cols, axis = 1, inplace = True)\n",
    "df.drop(single_majority_value_cols, axis = 1, inplace = True)"
   ]
  },
  {
   "cell_type": "code",
   "execution_count": 6,
   "metadata": {
    "collapsed": true
   },
   "outputs": [],
   "source": [
    "df.fillna('NA', inplace = True)"
   ]
  },
  {
   "cell_type": "code",
   "execution_count": 7,
   "metadata": {
    "collapsed": true
   },
   "outputs": [
    {
     "name": "stdout",
     "output_type": "stream",
     "text": [
      "transaction_id     object\n",
      "num_var_1         float64\n",
      "num_var_2         float64\n",
      "num_var_3         float64\n",
      "num_var_4         float64\n",
      "num_var_5         float64\n",
      "num_var_6         float64\n",
      "num_var_7         float64\n",
      "cat_var_1          object\n",
      "cat_var_2          object\n",
      "cat_var_3          object\n",
      "cat_var_4          object\n",
      "cat_var_5          object\n",
      "cat_var_6          object\n",
      "cat_var_7          object\n",
      "cat_var_8          object\n",
      "cat_var_9          object\n",
      "cat_var_10         object\n",
      "cat_var_11         object\n",
      "cat_var_12         object\n",
      "cat_var_13         object\n",
      "cat_var_14         object\n",
      "cat_var_15         object\n",
      "cat_var_16         object\n",
      "cat_var_17         object\n",
      "cat_var_18         object\n",
      "cat_var_19          int64\n",
      "cat_var_20          int64\n",
      "cat_var_21          int64\n",
      "cat_var_22          int64\n",
      "target              int64\n",
      "dtype: object\n"
     ]
    }
   ],
   "source": [
    "print (df.dtypes)"
   ]
  },
  {
   "cell_type": "code",
   "execution_count": 14,
   "metadata": {},
   "outputs": [
    {
     "name": "stdout",
     "output_type": "stream",
     "text": [
      "['transaction_id', 'cat_var_1', 'cat_var_2', 'cat_var_3', 'cat_var_4', 'cat_var_5', 'cat_var_6', 'cat_var_7', 'cat_var_8', 'cat_var_9', 'cat_var_10', 'cat_var_11', 'cat_var_12', 'cat_var_13', 'cat_var_14', 'cat_var_15', 'cat_var_16', 'cat_var_17', 'cat_var_18']\n",
      "['num_var_1', 'num_var_2', 'num_var_3', 'num_var_4', 'num_var_5', 'num_var_6', 'num_var_7', 'cat_var_19', 'cat_var_20', 'cat_var_21', 'cat_var_22', 'target']\n"
     ]
    }
   ],
   "source": [
    "input_cols_lgb_encode = df.dtypes[~df.dtypes.isin([np.int64, np.float64])].index.tolist()\n",
    "print (input_cols_lgb_encode)\n",
    "input_cols_lgb_encode.remove('transaction_id')\n",
    "input_cols_lgb_numeric = df.dtypes[df.dtypes.isin([np.int64, np.float64])].index.tolist()\n",
    "print (input_cols_lgb_numeric)\n",
    "input_cols_lgb_numeric.remove('target')\n",
    "target_cols_lgb = ['target']"
   ]
  },
  {
   "cell_type": "code",
   "execution_count": 15,
   "metadata": {},
   "outputs": [
    {
     "name": "stdout",
     "output_type": "stream",
     "text": [
      "cat_var_1\n",
      "cat_var_2\n",
      "cat_var_3\n",
      "cat_var_4\n",
      "cat_var_5\n",
      "cat_var_6\n",
      "cat_var_7\n",
      "cat_var_8\n",
      "cat_var_9\n",
      "cat_var_10\n",
      "cat_var_11\n",
      "cat_var_12\n",
      "cat_var_13\n",
      "cat_var_14\n",
      "cat_var_15\n",
      "cat_var_16\n",
      "cat_var_17\n",
      "cat_var_18\n"
     ]
    }
   ],
   "source": [
    "X_lgb = df[input_cols_lgb_encode + input_cols_lgb_numeric].as_matrix()\n",
    "label_enc = [LabelEncoder() for i in range(len(input_cols_lgb_encode))]\n",
    "\n",
    "for i in range(len(label_enc)):\n",
    "    print (input_cols_lgb_encode[i])\n",
    "    label_enc[i].fit(X_lgb[:, i])\n",
    "    X_lgb[:, i] = label_enc[i].transform(X_lgb[:, i])\n",
    "\n",
    "y_lgb = df['target']"
   ]
  },
  {
   "cell_type": "code",
   "execution_count": 16,
   "metadata": {
    "collapsed": true
   },
   "outputs": [],
   "source": [
    "# do stratified splitting as training time is too large otherwise\n",
    "X_lgb_train, X_lgb_test, y_lgb_train, y_lgb_test = train_test_split(X_lgb, y_lgb, test_size = 0.4, \\\n",
    "                                                                    stratify = y_lgb, random_state = 42)"
   ]
  },
  {
   "cell_type": "code",
   "execution_count": null,
   "metadata": {
    "collapsed": true
   },
   "outputs": [],
   "source": [
    "# get the optimum no of trees for learning rate of 0.3\n",
    "parameters = {'n_estimators' : [10, 50, 100]}\n",
    "lgb_clf = XGBClassifier(random_state=42, n_jobs = -1,learning_rate = 0.3)\n",
    "clf = GridSearchCV(xgb_clf, parameters, cv = 4, scoring = 'roc_auc')\n",
    "clf.fit(X_xgb_train, y_xgb_train)\n",
    "print (clf.best_params_)"
   ]
  }
 ],
 "metadata": {
  "kernelspec": {
   "display_name": "Python 3",
   "language": "python",
   "name": "python3"
  },
  "language_info": {
   "codemirror_mode": {
    "name": "ipython",
    "version": 3
   },
   "file_extension": ".py",
   "mimetype": "text/x-python",
   "name": "python",
   "nbconvert_exporter": "python",
   "pygments_lexer": "ipython3",
   "version": "3.6.1"
  }
 },
 "nbformat": 4,
 "nbformat_minor": 2
}
