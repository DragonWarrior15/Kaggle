{
 "cells": [
  {
   "cell_type": "code",
   "execution_count": 1,
   "metadata": {
    "collapsed": true
   },
   "outputs": [],
   "source": [
    "import pandas as pd\n",
    "import numpy as np\n",
    "from datetime import datetime\n",
    "import matplotlib.pyplot as plt\n",
    "import seaborn as sns\n",
    "\n",
    "%matplotlib inline"
   ]
  },
  {
   "cell_type": "code",
   "execution_count": 2,
   "metadata": {
    "collapsed": true
   },
   "outputs": [],
   "source": [
    "df = pd.read_csv('../inputs/train.csv')"
   ]
  },
  {
   "cell_type": "code",
   "execution_count": 3,
   "metadata": {},
   "outputs": [
    {
     "data": {
      "text/html": [
       "<div>\n",
       "<style>\n",
       "    .dataframe thead tr:only-child th {\n",
       "        text-align: right;\n",
       "    }\n",
       "\n",
       "    .dataframe thead th {\n",
       "        text-align: left;\n",
       "    }\n",
       "\n",
       "    .dataframe tbody tr th {\n",
       "        vertical-align: top;\n",
       "    }\n",
       "</style>\n",
       "<table border=\"1\" class=\"dataframe\">\n",
       "  <thead>\n",
       "    <tr style=\"text-align: right;\">\n",
       "      <th></th>\n",
       "      <th>transaction_id</th>\n",
       "      <th>num_var_1</th>\n",
       "      <th>num_var_2</th>\n",
       "      <th>num_var_3</th>\n",
       "      <th>num_var_4</th>\n",
       "      <th>num_var_5</th>\n",
       "      <th>num_var_6</th>\n",
       "      <th>num_var_7</th>\n",
       "      <th>cat_var_1</th>\n",
       "      <th>cat_var_2</th>\n",
       "      <th>...</th>\n",
       "      <th>cat_var_34</th>\n",
       "      <th>cat_var_35</th>\n",
       "      <th>cat_var_36</th>\n",
       "      <th>cat_var_37</th>\n",
       "      <th>cat_var_38</th>\n",
       "      <th>cat_var_39</th>\n",
       "      <th>cat_var_40</th>\n",
       "      <th>cat_var_41</th>\n",
       "      <th>cat_var_42</th>\n",
       "      <th>target</th>\n",
       "    </tr>\n",
       "  </thead>\n",
       "  <tbody>\n",
       "    <tr>\n",
       "      <th>0</th>\n",
       "      <td>id_11</td>\n",
       "      <td>2.302632e-08</td>\n",
       "      <td>0.040182</td>\n",
       "      <td>0.0</td>\n",
       "      <td>1.800000e-07</td>\n",
       "      <td>2.302632e-08</td>\n",
       "      <td>2.368421e-08</td>\n",
       "      <td>1.115205e-08</td>\n",
       "      <td>NaN</td>\n",
       "      <td>ce</td>\n",
       "      <td>...</td>\n",
       "      <td>0</td>\n",
       "      <td>0</td>\n",
       "      <td>0</td>\n",
       "      <td>0</td>\n",
       "      <td>0</td>\n",
       "      <td>0</td>\n",
       "      <td>0</td>\n",
       "      <td>0</td>\n",
       "      <td>0</td>\n",
       "      <td>0</td>\n",
       "    </tr>\n",
       "    <tr>\n",
       "      <th>1</th>\n",
       "      <td>id_33</td>\n",
       "      <td>7.965789e-06</td>\n",
       "      <td>0.157872</td>\n",
       "      <td>0.0</td>\n",
       "      <td>2.105000e-06</td>\n",
       "      <td>2.769737e-07</td>\n",
       "      <td>7.965789e-06</td>\n",
       "      <td>2.433058e-06</td>\n",
       "      <td>da</td>\n",
       "      <td>tn</td>\n",
       "      <td>...</td>\n",
       "      <td>0</td>\n",
       "      <td>0</td>\n",
       "      <td>0</td>\n",
       "      <td>0</td>\n",
       "      <td>0</td>\n",
       "      <td>0</td>\n",
       "      <td>0</td>\n",
       "      <td>0</td>\n",
       "      <td>0</td>\n",
       "      <td>0</td>\n",
       "    </tr>\n",
       "    <tr>\n",
       "      <th>2</th>\n",
       "      <td>id_51</td>\n",
       "      <td>7.828947e-08</td>\n",
       "      <td>0.089140</td>\n",
       "      <td>0.0</td>\n",
       "      <td>3.550000e-07</td>\n",
       "      <td>4.671053e-08</td>\n",
       "      <td>1.052632e-07</td>\n",
       "      <td>4.276014e-07</td>\n",
       "      <td>gf</td>\n",
       "      <td>ce</td>\n",
       "      <td>...</td>\n",
       "      <td>0</td>\n",
       "      <td>0</td>\n",
       "      <td>0</td>\n",
       "      <td>0</td>\n",
       "      <td>0</td>\n",
       "      <td>0</td>\n",
       "      <td>0</td>\n",
       "      <td>0</td>\n",
       "      <td>0</td>\n",
       "      <td>0</td>\n",
       "    </tr>\n",
       "    <tr>\n",
       "      <th>3</th>\n",
       "      <td>id_54</td>\n",
       "      <td>7.894737e-08</td>\n",
       "      <td>0.227239</td>\n",
       "      <td>0.0</td>\n",
       "      <td>1.050000e-06</td>\n",
       "      <td>1.381579e-07</td>\n",
       "      <td>2.190789e-07</td>\n",
       "      <td>1.848054e-08</td>\n",
       "      <td>NaN</td>\n",
       "      <td>ce</td>\n",
       "      <td>...</td>\n",
       "      <td>0</td>\n",
       "      <td>0</td>\n",
       "      <td>0</td>\n",
       "      <td>0</td>\n",
       "      <td>0</td>\n",
       "      <td>0</td>\n",
       "      <td>0</td>\n",
       "      <td>0</td>\n",
       "      <td>0</td>\n",
       "      <td>0</td>\n",
       "    </tr>\n",
       "    <tr>\n",
       "      <th>4</th>\n",
       "      <td>id_62</td>\n",
       "      <td>3.321053e-06</td>\n",
       "      <td>0.160410</td>\n",
       "      <td>0.0</td>\n",
       "      <td>2.105000e-06</td>\n",
       "      <td>2.769737e-07</td>\n",
       "      <td>3.340789e-06</td>\n",
       "      <td>2.152983e-06</td>\n",
       "      <td>da</td>\n",
       "      <td>tn</td>\n",
       "      <td>...</td>\n",
       "      <td>0</td>\n",
       "      <td>0</td>\n",
       "      <td>0</td>\n",
       "      <td>0</td>\n",
       "      <td>0</td>\n",
       "      <td>0</td>\n",
       "      <td>0</td>\n",
       "      <td>0</td>\n",
       "      <td>0</td>\n",
       "      <td>0</td>\n",
       "    </tr>\n",
       "  </tbody>\n",
       "</table>\n",
       "<p>5 rows × 51 columns</p>\n",
       "</div>"
      ],
      "text/plain": [
       "  transaction_id     num_var_1  num_var_2  num_var_3     num_var_4  \\\n",
       "0          id_11  2.302632e-08   0.040182        0.0  1.800000e-07   \n",
       "1          id_33  7.965789e-06   0.157872        0.0  2.105000e-06   \n",
       "2          id_51  7.828947e-08   0.089140        0.0  3.550000e-07   \n",
       "3          id_54  7.894737e-08   0.227239        0.0  1.050000e-06   \n",
       "4          id_62  3.321053e-06   0.160410        0.0  2.105000e-06   \n",
       "\n",
       "      num_var_5     num_var_6     num_var_7 cat_var_1 cat_var_2  ...    \\\n",
       "0  2.302632e-08  2.368421e-08  1.115205e-08       NaN        ce  ...     \n",
       "1  2.769737e-07  7.965789e-06  2.433058e-06        da        tn  ...     \n",
       "2  4.671053e-08  1.052632e-07  4.276014e-07        gf        ce  ...     \n",
       "3  1.381579e-07  2.190789e-07  1.848054e-08       NaN        ce  ...     \n",
       "4  2.769737e-07  3.340789e-06  2.152983e-06        da        tn  ...     \n",
       "\n",
       "  cat_var_34 cat_var_35 cat_var_36 cat_var_37 cat_var_38 cat_var_39  \\\n",
       "0          0          0          0          0          0          0   \n",
       "1          0          0          0          0          0          0   \n",
       "2          0          0          0          0          0          0   \n",
       "3          0          0          0          0          0          0   \n",
       "4          0          0          0          0          0          0   \n",
       "\n",
       "  cat_var_40 cat_var_41 cat_var_42 target  \n",
       "0          0          0          0      0  \n",
       "1          0          0          0      0  \n",
       "2          0          0          0      0  \n",
       "3          0          0          0      0  \n",
       "4          0          0          0      0  \n",
       "\n",
       "[5 rows x 51 columns]"
      ]
     },
     "execution_count": 3,
     "metadata": {},
     "output_type": "execute_result"
    }
   ],
   "source": [
    "df.head(5)"
   ]
  },
  {
   "cell_type": "code",
   "execution_count": 6,
   "metadata": {},
   "outputs": [
    {
     "name": "stdout",
     "output_type": "stream",
     "text": [
      "              column,   rows,   uniq,    nan,   dtype\n",
      "      transaction_id, 348978, 348978,      0,  object\n",
      "           num_var_1, 348978,  13385,      0, float64\n",
      "           num_var_2, 348978,   5550,      0, float64\n",
      "           num_var_3, 348978,      8,      0, float64\n",
      "           num_var_4, 348978,   1006,      0, float64\n",
      "           num_var_5, 348978,   4622,      0, float64\n",
      "           num_var_6, 348978,  11827,      0, float64\n",
      "           num_var_7, 348978,  26213,      0, float64\n",
      "           cat_var_1, 348978,    535,  15782,  object\n",
      "           cat_var_2, 348978,     60,      0,  object\n",
      "           cat_var_3, 348978,    617,  43853,  object\n",
      "           cat_var_4, 348978,      2,      0,  object\n",
      "           cat_var_5, 348978,      2,      0,  object\n",
      "           cat_var_6, 348978,    518,      0,  object\n",
      "           cat_var_7, 348978,     20,      0,  object\n",
      "           cat_var_8, 348978,    463, 109738,  object\n",
      "           cat_var_9, 348978,      5,      0,  object\n",
      "          cat_var_10, 348978,     23,      0,  object\n",
      "          cat_var_11, 348978,      5,      0,  object\n",
      "          cat_var_12, 348978,      5,      0,  object\n",
      "          cat_var_13, 348978,     52,      0,  object\n",
      "          cat_var_14, 348978,     12,      0,  object\n",
      "          cat_var_15, 348978,      2,      0,  object\n",
      "          cat_var_16, 348978,      2,      0,  object\n",
      "          cat_var_17, 348978,      2,      0,  object\n",
      "          cat_var_18, 348978,      2,      0,  object\n",
      "          cat_var_19, 348978,      2,      0,   int64\n",
      "          cat_var_20, 348978,      2,      0,   int64\n",
      "          cat_var_21, 348978,      2,      0,   int64\n",
      "          cat_var_22, 348978,      2,      0,   int64\n",
      "          cat_var_23, 348978,      2,      0,   int64\n",
      "          cat_var_24, 348978,      2,      0,   int64\n",
      "          cat_var_25, 348978,      2,      0,   int64\n",
      "          cat_var_26, 348978,      2,      0,   int64\n",
      "          cat_var_27, 348978,      2,      0,   int64\n",
      "          cat_var_28, 348978,      2,      0,   int64\n",
      "          cat_var_29, 348978,      2,      0,   int64\n",
      "          cat_var_30, 348978,      2,      0,   int64\n",
      "          cat_var_31, 348978,      1,      0,   int64\n",
      "          cat_var_32, 348978,      2,      0,   int64\n",
      "          cat_var_33, 348978,      2,      0,   int64\n",
      "          cat_var_34, 348978,      2,      0,   int64\n",
      "          cat_var_35, 348978,      1,      0,   int64\n",
      "          cat_var_36, 348978,      1,      0,   int64\n",
      "          cat_var_37, 348978,      1,      0,   int64\n",
      "          cat_var_38, 348978,      1,      0,   int64\n",
      "          cat_var_39, 348978,      2,      0,   int64\n",
      "          cat_var_40, 348978,      1,      0,   int64\n",
      "          cat_var_41, 348978,      2,      0,   int64\n",
      "          cat_var_42, 348978,      1,      0,   int64\n",
      "              target, 348978,      2,      0,   int64\n"
     ]
    }
   ],
   "source": [
    "print (('%20s, %6s, %6s, %6s, %7s') % ('column', 'rows', 'uniq', 'nan', 'dtype'))\n",
    "for col in df.columns.values.tolist():\n",
    "    try:\n",
    "        print (('%20s, %6d, %6d, %6d, %7s') % \\\n",
    "           (col, len(df), len(df[col].unique()), df[col].isnull().sum(), df.dtypes[col]))\n",
    "    except KeyError:\n",
    "        pass"
   ]
  },
  {
   "cell_type": "code",
   "execution_count": 10,
   "metadata": {
    "collapsed": true
   },
   "outputs": [
    {
     "name": "stdout",
     "output_type": "stream",
     "text": [
      "              column,   rows,   uniq,    nan,   dtype\n",
      "      transaction_id, 523466, 523466,      0,  object\n",
      "           num_var_1, 523466,  15184,      0, float64\n",
      "           num_var_2, 523466,   5809,      0, float64\n",
      "           num_var_3, 523466,     11,      0, float64\n",
      "           num_var_4, 523466,   1061,      0, float64\n",
      "           num_var_5, 523466,   5321,      0, float64\n",
      "           num_var_6, 523466,  13539,      0, float64\n",
      "           num_var_7, 523466,  33188,      0, float64\n",
      "           cat_var_1, 523466,    535,  18692,  object\n",
      "           cat_var_2, 523466,     62,      0,  object\n",
      "           cat_var_3, 523466,    618,  53362,  object\n",
      "           cat_var_4, 523466,      2,      0,  object\n",
      "           cat_var_5, 523466,      2,      0,  object\n",
      "           cat_var_6, 523466,    516,  21943,  object\n",
      "           cat_var_7, 523466,     22,      0,  object\n",
      "           cat_var_8, 523466,    464,   8138,  object\n",
      "           cat_var_9, 523466,      5,      0,  object\n",
      "          cat_var_10, 523466,     23,      0,  object\n",
      "          cat_var_11, 523466,      5,      0,  object\n",
      "          cat_var_12, 523466,      5,      0,  object\n",
      "          cat_var_13, 523466,     52,      0,  object\n",
      "          cat_var_14, 523466,     12,      0,  object\n",
      "          cat_var_15, 523466,      2,      0,  object\n",
      "          cat_var_16, 523466,      2,      0,  object\n",
      "          cat_var_17, 523466,      2,      0,  object\n",
      "          cat_var_18, 523466,      2,      0,  object\n",
      "          cat_var_19, 523466,      2,      0,   int64\n",
      "          cat_var_20, 523466,      2,      0,   int64\n",
      "          cat_var_21, 523466,      2,      0,   int64\n",
      "          cat_var_22, 523466,      2,      0,   int64\n",
      "          cat_var_23, 523466,      2,      0,   int64\n",
      "          cat_var_24, 523466,      2,      0,   int64\n",
      "          cat_var_25, 523466,      2,      0,   int64\n",
      "          cat_var_26, 523466,      2,      0,   int64\n",
      "          cat_var_27, 523466,      2,      0,   int64\n",
      "          cat_var_28, 523466,      2,      0,   int64\n",
      "          cat_var_29, 523466,      2,      0,   int64\n",
      "          cat_var_30, 523466,      2,      0,   int64\n",
      "          cat_var_31, 523466,      2,      0,   int64\n",
      "          cat_var_32, 523466,      2,      0,   int64\n",
      "          cat_var_33, 523466,      2,      0,   int64\n",
      "          cat_var_34, 523466,      2,      0,   int64\n",
      "          cat_var_35, 523466,      2,      0,   int64\n",
      "          cat_var_36, 523466,      2,      0,   int64\n",
      "          cat_var_37, 523466,      2,      0,   int64\n",
      "          cat_var_38, 523466,      1,      0,   int64\n",
      "          cat_var_39, 523466,      2,      0,   int64\n",
      "          cat_var_40, 523466,      2,      0,   int64\n",
      "          cat_var_41, 523466,      1,      0,   int64\n",
      "          cat_var_42, 523466,      1,      0,   int64\n"
     ]
    }
   ],
   "source": [
    "# get the above table for test as well\n",
    "df2 = pd.read_csv('../inputs/test.csv')\n",
    "print (('%20s, %6s, %6s, %6s, %7s') % ('column', 'rows', 'uniq', 'nan', 'dtype'))\n",
    "for col in df2.columns.values.tolist():\n",
    "    try:\n",
    "        print (('%20s, %6d, %6d, %6d, %7s') % \\\n",
    "           (col, len(df2), len(df2[col].unique()), df2[col].isnull().sum(), df2.dtypes[col]))\n",
    "    except KeyError:\n",
    "        pass\n",
    "del df2"
   ]
  },
  {
   "cell_type": "code",
   "execution_count": 11,
   "metadata": {},
   "outputs": [],
   "source": [
    "# remove the variables with a single unique value\n",
    "single_uniq_value_cols = ['cat_var_31', 'cat_var_35', 'cat_var_36', 'cat_var_37', 'cat_var_38', 'cat_var_40', 'cat_var_42']\n",
    "df.drop(single_uniq_value_cols, axis = 1, inplace = True)"
   ]
  },
  {
   "cell_type": "code",
   "execution_count": 40,
   "metadata": {
    "collapsed": true
   },
   "outputs": [
    {
     "name": "stdout",
     "output_type": "stream",
     "text": [
      "cat_var_23 346903 348978 0.9940540664454492\n",
      "cat_var_24 315 348978 0.999097364303767\n",
      "cat_var_25 348935 348978 0.9998767830636889\n",
      "cat_var_26 348785 348978 0.9994469565416731\n",
      "cat_var_27 348977 348978 0.9999971344898533\n",
      "cat_var_28 348969 348978 0.9999742104086791\n",
      "cat_var_29 348959 348978 0.9999455553072113\n",
      "cat_var_30 348937 348978 0.9998825140839823\n",
      "cat_var_32 348976 348978 0.9999942689797064\n",
      "cat_var_33 348976 348978 0.9999942689797064\n",
      "cat_var_34 348977 348978 0.9999971344898533\n",
      "cat_var_39 348975 348978 0.9999914034695597\n",
      "cat_var_41 348977 348978 0.9999971344898533\n"
     ]
    }
   ],
   "source": [
    "# remove the variables with 99% same values\n",
    "single_majority_value_cols = ['cat_var_23', 'cat_var_24', 'cat_var_25', 'cat_var_26',\\\n",
    "                              'cat_var_27', 'cat_var_28', 'cat_var_29', 'cat_var_30',\\\n",
    "                              'cat_var_32', 'cat_var_33', 'cat_var_34', 'cat_var_39',\\\n",
    "                              'cat_var_41']\n",
    "for col in single_majority_value_cols:\n",
    "    print (col, len(df) - df[col].sum(), len(df), max(len(df) - df[col].sum(), df[col].sum())/(1.0 * len(df)))\n",
    "df.drop(single_majority_value_cols, axis = 1, inplace = True)"
   ]
  },
  {
   "cell_type": "code",
   "execution_count": 12,
   "metadata": {},
   "outputs": [
    {
     "name": "stdout",
     "output_type": "stream",
     "text": [
      "37368 348978 0.10707838316455479\n"
     ]
    }
   ],
   "source": [
    "# ratio of fraud to non fraud transactions\n",
    "print (df['target'].sum(), len(df['target']), df['target'].sum()/(1.0 * len(df['target'])))"
   ]
  },
  {
   "cell_type": "code",
   "execution_count": 41,
   "metadata": {
    "scrolled": false
   },
   "outputs": [
    {
     "data": {
      "image/png": "[encoded data removed]",
      "text/plain": [
       "<matplotlib.figure.Figure at 0x2128ad2c6d8>"
      ]
     },
     "metadata": {},
     "output_type": "display_data"
    }
   ],
   "source": [
    "# cat_var_2\n",
    "vars_to_plot = ['cat_var_' + str(i) for i in range(15,43) if 'cat_var_' + str(i) in df.columns.values]\n",
    "ncols = 3\n",
    "nrows = len(vars_to_plot)//3 + int(bool(len(vars_to_plot)%3))\n",
    "fig, axs = plt.subplots(nrows = nrows, ncols = 3, figsize=(17 , 6 * nrows))\n",
    "for i in range(len(vars_to_plot)):\n",
    "    sns.countplot(x = vars_to_plot[i], data = df, hue = 'target', ax = axs[i//3][i%3])"
   ]
  },
  {
   "cell_type": "code",
   "execution_count": 43,
   "metadata": {},
   "outputs": [
    {
     "data": {
      "text/plain": [
       "<matplotlib.axes._subplots.AxesSubplot at 0x21292e25518>"
      ]
     },
     "execution_count": 43,
     "metadata": {},
     "output_type": "execute_result"
    },
    {
     "data": {
      "image/png": "[encoded data removed]",
      "text/plain": [
       "<matplotlib.figure.Figure at 0x2128b1da550>"
      ]
     },
     "metadata": {},
     "output_type": "display_data"
    }
   ],
   "source": [
    "# cat_var_2\n",
    "vars_to_plot = 'cat_var_14'\n",
    "# ncols = 3\n",
    "# nrows = len(vars_to_plot)//3 + int(bool(len(vars_to_plot)%3))\n",
    "fig, axs = plt.subplots(nrows = 1, ncols = 1, figsize=(17 , 8))\n",
    "# for i in range(len(vars_to_plot)):\n",
    "sns.countplot(x = vars_to_plot, data = df, hue = 'target')"
   ]
  },
  {
   "cell_type": "code",
   "execution_count": null,
   "metadata": {
    "collapsed": true
   },
   "outputs": [],
   "source": []
  }
 ],
 "metadata": {
  "kernelspec": {
   "display_name": "Python 3",
   "language": "python",
   "name": "python3"
  },
  "language_info": {
   "codemirror_mode": {
    "name": "ipython",
    "version": 3
   },
   "file_extension": ".py",
   "mimetype": "text/x-python",
   "name": "python",
   "nbconvert_exporter": "python",
   "pygments_lexer": "ipython3",
   "version": "3.6.1"
  }
 },
 "nbformat": 4,
 "nbformat_minor": 2
}
