{
 "cells": [
  {
   "cell_type": "code",
   "execution_count": 1,
   "metadata": {
    "collapsed": true
   },
   "outputs": [],
   "source": [
    "import pandas as pd\n",
    "import numpy as np\n",
    "from datetime import datetime\n",
    "import matplotlib.pyplot as plt\n",
    "import seaborn as sns\n",
    "\n",
    "%matplotlib inline"
   ]
  },
  {
   "cell_type": "code",
   "execution_count": 3,
   "metadata": {},
   "outputs": [],
   "source": [
    "df = pd.read_csv('../inputs/train.csv')"
   ]
  },
  {
   "cell_type": "code",
   "execution_count": 4,
   "metadata": {},
   "outputs": [
    {
     "data": {
      "text/html": [
       "<div>\n",
       "<style>\n",
       "    .dataframe thead tr:only-child th {\n",
       "        text-align: right;\n",
       "    }\n",
       "\n",
       "    .dataframe thead th {\n",
       "        text-align: left;\n",
       "    }\n",
       "\n",
       "    .dataframe tbody tr th {\n",
       "        vertical-align: top;\n",
       "    }\n",
       "</style>\n",
       "<table border=\"1\" class=\"dataframe\">\n",
       "  <thead>\n",
       "    <tr style=\"text-align: right;\">\n",
       "      <th></th>\n",
       "      <th>id</th>\n",
       "      <th>perc_premium_paid_by_cash_credit</th>\n",
       "      <th>age_in_days</th>\n",
       "      <th>Income</th>\n",
       "      <th>Count_3-6_months_late</th>\n",
       "      <th>Count_6-12_months_late</th>\n",
       "      <th>Count_more_than_12_months_late</th>\n",
       "      <th>application_underwriting_score</th>\n",
       "      <th>no_of_premiums_paid</th>\n",
       "      <th>sourcing_channel</th>\n",
       "      <th>residence_area_type</th>\n",
       "      <th>premium</th>\n",
       "      <th>renewal</th>\n",
       "    </tr>\n",
       "  </thead>\n",
       "  <tbody>\n",
       "    <tr>\n",
       "      <th>0</th>\n",
       "      <td>110936</td>\n",
       "      <td>0.429</td>\n",
       "      <td>12058</td>\n",
       "      <td>355060</td>\n",
       "      <td>0.0</td>\n",
       "      <td>0.0</td>\n",
       "      <td>0.0</td>\n",
       "      <td>99.02</td>\n",
       "      <td>13</td>\n",
       "      <td>C</td>\n",
       "      <td>Urban</td>\n",
       "      <td>3300</td>\n",
       "      <td>1</td>\n",
       "    </tr>\n",
       "    <tr>\n",
       "      <th>1</th>\n",
       "      <td>41492</td>\n",
       "      <td>0.010</td>\n",
       "      <td>21546</td>\n",
       "      <td>315150</td>\n",
       "      <td>0.0</td>\n",
       "      <td>0.0</td>\n",
       "      <td>0.0</td>\n",
       "      <td>99.89</td>\n",
       "      <td>21</td>\n",
       "      <td>A</td>\n",
       "      <td>Urban</td>\n",
       "      <td>18000</td>\n",
       "      <td>1</td>\n",
       "    </tr>\n",
       "    <tr>\n",
       "      <th>2</th>\n",
       "      <td>31300</td>\n",
       "      <td>0.917</td>\n",
       "      <td>17531</td>\n",
       "      <td>84140</td>\n",
       "      <td>2.0</td>\n",
       "      <td>3.0</td>\n",
       "      <td>1.0</td>\n",
       "      <td>98.69</td>\n",
       "      <td>7</td>\n",
       "      <td>C</td>\n",
       "      <td>Rural</td>\n",
       "      <td>3300</td>\n",
       "      <td>0</td>\n",
       "    </tr>\n",
       "    <tr>\n",
       "      <th>3</th>\n",
       "      <td>19415</td>\n",
       "      <td>0.049</td>\n",
       "      <td>15341</td>\n",
       "      <td>250510</td>\n",
       "      <td>0.0</td>\n",
       "      <td>0.0</td>\n",
       "      <td>0.0</td>\n",
       "      <td>99.57</td>\n",
       "      <td>9</td>\n",
       "      <td>A</td>\n",
       "      <td>Urban</td>\n",
       "      <td>9600</td>\n",
       "      <td>1</td>\n",
       "    </tr>\n",
       "    <tr>\n",
       "      <th>4</th>\n",
       "      <td>99379</td>\n",
       "      <td>0.052</td>\n",
       "      <td>31400</td>\n",
       "      <td>198680</td>\n",
       "      <td>0.0</td>\n",
       "      <td>0.0</td>\n",
       "      <td>0.0</td>\n",
       "      <td>99.87</td>\n",
       "      <td>12</td>\n",
       "      <td>B</td>\n",
       "      <td>Urban</td>\n",
       "      <td>9600</td>\n",
       "      <td>1</td>\n",
       "    </tr>\n",
       "  </tbody>\n",
       "</table>\n",
       "</div>"
      ],
      "text/plain": [
       "       id  perc_premium_paid_by_cash_credit  age_in_days  Income  \\\n",
       "0  110936                             0.429        12058  355060   \n",
       "1   41492                             0.010        21546  315150   \n",
       "2   31300                             0.917        17531   84140   \n",
       "3   19415                             0.049        15341  250510   \n",
       "4   99379                             0.052        31400  198680   \n",
       "\n",
       "   Count_3-6_months_late  Count_6-12_months_late  \\\n",
       "0                    0.0                     0.0   \n",
       "1                    0.0                     0.0   \n",
       "2                    2.0                     3.0   \n",
       "3                    0.0                     0.0   \n",
       "4                    0.0                     0.0   \n",
       "\n",
       "   Count_more_than_12_months_late  application_underwriting_score  \\\n",
       "0                             0.0                           99.02   \n",
       "1                             0.0                           99.89   \n",
       "2                             1.0                           98.69   \n",
       "3                             0.0                           99.57   \n",
       "4                             0.0                           99.87   \n",
       "\n",
       "   no_of_premiums_paid sourcing_channel residence_area_type  premium  renewal  \n",
       "0                   13                C               Urban     3300        1  \n",
       "1                   21                A               Urban    18000        1  \n",
       "2                    7                C               Rural     3300        0  \n",
       "3                    9                A               Urban     9600        1  \n",
       "4                   12                B               Urban     9600        1  "
      ]
     },
     "execution_count": 4,
     "metadata": {},
     "output_type": "execute_result"
    }
   ],
   "source": [
    "df.head(5)"
   ]
  },
  {
   "cell_type": "code",
   "execution_count": 6,
   "metadata": {},
   "outputs": [
    {
     "name": "stdout",
     "output_type": "stream",
     "text": [
      "                                  column,   rows,   uniq,    nan,   dtype\n",
      "                                      id,  79853,  79853,      0,   int64\n",
      "        perc_premium_paid_by_cash_credit,  79853,   1001,      0, float64\n",
      "                             age_in_days,  79853,    833,      0,   int64\n",
      "                                  Income,  79853,  24165,      0,   int64\n",
      "                   Count_3-6_months_late,  79853,     15,     97, float64\n",
      "                  Count_6-12_months_late,  79853,     18,     97, float64\n",
      "          Count_more_than_12_months_late,  79853,     11,     97, float64\n",
      "          application_underwriting_score,  79853,    673,   2974, float64\n",
      "                     no_of_premiums_paid,  79853,     57,      0,   int64\n",
      "                        sourcing_channel,  79853,      5,      0,  object\n",
      "                     residence_area_type,  79853,      2,      0,  object\n",
      "                                 premium,  79853,     30,      0,   int64\n",
      "                                 renewal,  79853,      2,      0,   int64\n"
     ]
    }
   ],
   "source": [
    "print (('%40s, %6s, %6s, %6s, %7s') % ('column', 'rows', 'uniq', 'nan', 'dtype'))\n",
    "for col in df.columns.values.tolist():\n",
    "    try:\n",
    "        print (('%40s, %6d, %6d, %6d, %7s') % \\\n",
    "           (col, len(df), len(df[col].unique()), df[col].isnull().sum(), df.dtypes[col]))\n",
    "    except KeyError:\n",
    "        pass"
   ]
  },
  {
   "cell_type": "code",
   "execution_count": 7,
   "metadata": {},
   "outputs": [
    {
     "name": "stdout",
     "output_type": "stream",
     "text": [
      "                                  column,   rows,   uniq,    nan,   dtype\n",
      "                                      id,  34224,  34224,      0,   int64\n",
      "        perc_premium_paid_by_cash_credit,  34224,   1001,      0, float64\n",
      "                             age_in_days,  34224,    809,      0,   int64\n",
      "                                  Income,  34224,  14402,      0,   int64\n",
      "                   Count_3-6_months_late,  34224,     13,     31, float64\n",
      "                  Count_6-12_months_late,  34224,     12,     31, float64\n",
      "          Count_more_than_12_months_late,  34224,      9,     31, float64\n",
      "          application_underwriting_score,  34224,    565,   1323, float64\n",
      "                     no_of_premiums_paid,  34224,     52,      0,   int64\n",
      "                        sourcing_channel,  34224,      5,      0,  object\n",
      "                     residence_area_type,  34224,      2,      0,  object\n",
      "                                 premium,  34224,     30,      0,   int64\n"
     ]
    }
   ],
   "source": [
    "# get the above table for test as well\n",
    "df2 = pd.read_csv('../inputs/test.csv')\n",
    "print (('%40s, %6s, %6s, %6s, %7s') % ('column', 'rows', 'uniq', 'nan', 'dtype'))\n",
    "for col in df2.columns.values.tolist():\n",
    "    try:\n",
    "        print (('%40s, %6d, %6d, %6d, %7s') % \\\n",
    "           (col, len(df2), len(df2[col].unique()), df2[col].isnull().sum(), df2.dtypes[col]))\n",
    "    except KeyError:\n",
    "        pass\n",
    "del df2"
   ]
  },
  {
   "cell_type": "code",
   "execution_count": 8,
   "metadata": {},
   "outputs": [
    {
     "name": "stdout",
     "output_type": "stream",
     "text": [
      "74855 93.74099908582019\n"
     ]
    }
   ],
   "source": [
    "# target rate\n",
    "print (df['renewal'].sum(), (100.0 * df['renewal'].sum())/len(df))"
   ]
  },
  {
   "cell_type": "code",
   "execution_count": 9,
   "metadata": {},
   "outputs": [
    {
     "data": {
      "text/plain": [
       "<matplotlib.axes._subplots.AxesSubplot at 0x1966c83de10>"
      ]
     },
     "execution_count": 9,
     "metadata": {},
     "output_type": "execute_result"
    },
    {
     "data": {
      "image/png": "[encoded data removed]",
      "text/plain": [
       "<matplotlib.figure.Figure at 0x1966c8518d0>"
      ]
     },
     "metadata": {},
     "output_type": "display_data"
    }
   ],
   "source": [
    "# gender\n",
    "vars_to_plot = 'premium'\n",
    "# ncols = 3\n",
    "fig, axs = plt.subplots(nrows = 1, ncols = 1, figsize=(17 , 8))\n",
    "# for i in range(len(vars_to_plot)):\n",
    "sns.countplot(x = vars_to_plot, data = df, hue = 'renewal')"
   ]
  },
  {
   "cell_type": "code",
   "execution_count": 10,
   "metadata": {},
   "outputs": [
    {
     "data": {
      "text/plain": [
       "<matplotlib.axes._subplots.AxesSubplot at 0x1966cbc6630>"
      ]
     },
     "execution_count": 10,
     "metadata": {},
     "output_type": "execute_result"
    },
    {
     "data": {
      "image/png": "[encoded data removed]",
      "text/plain": [
       "<matplotlib.figure.Figure at 0x1966cb69cc0>"
      ]
     },
     "metadata": {},
     "output_type": "display_data"
    }
   ],
   "source": [
    "# gender\n",
    "vars_to_plot = 'residence_area_type'\n",
    "# ncols = 3\n",
    "fig, axs = plt.subplots(nrows = 1, ncols = 1, figsize=(17 , 8))\n",
    "# for i in range(len(vars_to_plot)):\n",
    "sns.countplot(x = vars_to_plot, data = df, hue = 'renewal')"
   ]
  },
  {
   "cell_type": "code",
   "execution_count": 11,
   "metadata": {},
   "outputs": [
    {
     "data": {
      "text/plain": [
       "<matplotlib.axes._subplots.AxesSubplot at 0x1966cc41b38>"
      ]
     },
     "execution_count": 11,
     "metadata": {},
     "output_type": "execute_result"
    },
    {
     "data": {
      "image/png": "[encoded data removed]",
      "text/plain": [
       "<matplotlib.figure.Figure at 0x1966d1c1438>"
      ]
     },
     "metadata": {},
     "output_type": "display_data"
    }
   ],
   "source": [
    "# gender\n",
    "vars_to_plot = 'sourcing_channel'\n",
    "# ncols = 3\n",
    "fig, axs = plt.subplots(nrows = 1, ncols = 1, figsize=(17 , 8))\n",
    "# for i in range(len(vars_to_plot)):\n",
    "sns.countplot(x = vars_to_plot, data = df, hue = 'renewal')"
   ]
  },
  {
   "cell_type": "code",
   "execution_count": 13,
   "metadata": {},
   "outputs": [
    {
     "name": "stdout",
     "output_type": "stream",
     "text": [
      "application_underwriting_score  renewal\n",
      "-1.00                           0           200\n",
      "                                1          2774\n",
      " 91.90                          1             1\n",
      " 91.96                          1             3\n",
      " 91.98                          1             1\n",
      " 92.03                          1             2\n",
      " 92.07                          1             1\n",
      " 92.13                          1             2\n",
      " 92.15                          1             1\n",
      " 92.16                          1             1\n",
      " 92.17                          1             1\n",
      " 92.20                          1             1\n",
      " 92.21                          1             1\n",
      " 92.23                          1             1\n",
      " 92.24                          0             1\n",
      " 92.26                          1             1\n",
      " 92.27                          1             1\n",
      " 92.30                          1             2\n",
      " 92.35                          1             2\n",
      " 92.36                          1             1\n",
      " 92.37                          1             1\n",
      " 92.38                          1             1\n",
      " 92.40                          0             1\n",
      " 92.41                          1             1\n",
      " 92.42                          1             1\n",
      " 92.44                          1             1\n",
      " 92.47                          1             1\n",
      " 92.50                          1             1\n",
      " 92.54                          1             1\n",
      " 92.56                          1             1\n",
      "                                           ... \n",
      " 99.75                          0            26\n",
      "                                1           358\n",
      " 99.76                          0            23\n",
      "                                1           372\n",
      " 99.77                          0            24\n",
      "                                1           359\n",
      " 99.78                          0            15\n",
      "                                1           343\n",
      " 99.79                          0            15\n",
      "                                1           313\n",
      " 99.80                          0            24\n",
      "                                1           355\n",
      " 99.81                          0            23\n",
      "                                1           349\n",
      " 99.82                          0            16\n",
      "                                1           342\n",
      " 99.83                          0            24\n",
      "                                1           389\n",
      " 99.84                          0            28\n",
      "                                1           435\n",
      " 99.85                          0            43\n",
      "                                1           507\n",
      " 99.86                          0            32\n",
      "                                1           661\n",
      " 99.87                          0            45\n",
      "                                1           811\n",
      " 99.88                          0            57\n",
      "                                1          1286\n",
      " 99.89                          0            60\n",
      "                                1          1912\n",
      "Name: id, Length: 1079, dtype: int64\n"
     ]
    }
   ],
   "source": [
    "print(df.fillna({'application_underwriting_score' : -1}).groupby(['application_underwriting_score', 'renewal']).count()['id'])"
   ]
  },
  {
   "cell_type": "code",
   "execution_count": 14,
   "metadata": {},
   "outputs": [
    {
     "data": {
      "text/plain": [
       "count    7.985300e+04\n",
       "mean     2.088472e+05\n",
       "std      4.965826e+05\n",
       "min      2.403000e+04\n",
       "25%      1.080100e+05\n",
       "50%      1.665600e+05\n",
       "75%      2.520900e+05\n",
       "max      9.026260e+07\n",
       "Name: Income, dtype: float64"
      ]
     },
     "execution_count": 14,
     "metadata": {},
     "output_type": "execute_result"
    }
   ],
   "source": [
    "df['Income'].describe()"
   ]
  },
  {
   "cell_type": "code",
   "execution_count": 21,
   "metadata": {},
   "outputs": [
    {
     "data": {
      "text/plain": [
       "164"
      ]
     },
     "execution_count": 21,
     "metadata": {},
     "output_type": "execute_result"
    }
   ],
   "source": [
    "(df['premium'] > 0.2 * df['Income']).sum()"
   ]
  },
  {
   "cell_type": "code",
   "execution_count": null,
   "metadata": {
    "collapsed": true
   },
   "outputs": [],
   "source": []
  }
 ],
 "metadata": {
  "kernelspec": {
   "display_name": "Python 3",
   "language": "python",
   "name": "python3"
  },
  "language_info": {
   "codemirror_mode": {
    "name": "ipython",
    "version": 3
   },
   "file_extension": ".py",
   "mimetype": "text/x-python",
   "name": "python",
   "nbconvert_exporter": "python",
   "pygments_lexer": "ipython3",
   "version": "3.6.1"
  }
 },
 "nbformat": 4,
 "nbformat_minor": 2
}
