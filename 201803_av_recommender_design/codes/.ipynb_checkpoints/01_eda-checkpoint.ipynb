{
 "cells": [
  {
   "cell_type": "code",
   "execution_count": 1,
   "metadata": {
    "collapsed": true
   },
   "outputs": [],
   "source": [
    "import pandas as pd\n",
    "import numpy as np\n",
    "from datetime import datetime\n",
    "import matplotlib.pyplot as plt\n",
    "import seaborn as sns\n",
    "\n",
    "%matplotlib inline"
   ]
  },
  {
   "cell_type": "code",
   "execution_count": 2,
   "metadata": {
    "collapsed": true
   },
   "outputs": [],
   "source": [
    "# read the data\n",
    "df = pd.read_csv('../inputs/train.csv')\n",
    "df_challenge = pd.read_csv('../inputs/challenge_data.csv')"
   ]
  },
  {
   "cell_type": "code",
   "execution_count": 3,
   "metadata": {},
   "outputs": [
    {
     "data": {
      "text/html": [
       "<div>\n",
       "<style>\n",
       "    .dataframe thead tr:only-child th {\n",
       "        text-align: right;\n",
       "    }\n",
       "\n",
       "    .dataframe thead th {\n",
       "        text-align: left;\n",
       "    }\n",
       "\n",
       "    .dataframe tbody tr th {\n",
       "        vertical-align: top;\n",
       "    }\n",
       "</style>\n",
       "<table border=\"1\" class=\"dataframe\">\n",
       "  <thead>\n",
       "    <tr style=\"text-align: right;\">\n",
       "      <th></th>\n",
       "      <th>user_sequence</th>\n",
       "      <th>user_id</th>\n",
       "      <th>challenge_sequence</th>\n",
       "      <th>challenge</th>\n",
       "    </tr>\n",
       "  </thead>\n",
       "  <tbody>\n",
       "    <tr>\n",
       "      <th>0</th>\n",
       "      <td>4576_1</td>\n",
       "      <td>4576</td>\n",
       "      <td>1</td>\n",
       "      <td>CI23714</td>\n",
       "    </tr>\n",
       "    <tr>\n",
       "      <th>1</th>\n",
       "      <td>4576_2</td>\n",
       "      <td>4576</td>\n",
       "      <td>2</td>\n",
       "      <td>CI23855</td>\n",
       "    </tr>\n",
       "    <tr>\n",
       "      <th>2</th>\n",
       "      <td>4576_3</td>\n",
       "      <td>4576</td>\n",
       "      <td>3</td>\n",
       "      <td>CI24917</td>\n",
       "    </tr>\n",
       "    <tr>\n",
       "      <th>3</th>\n",
       "      <td>4576_4</td>\n",
       "      <td>4576</td>\n",
       "      <td>4</td>\n",
       "      <td>CI23663</td>\n",
       "    </tr>\n",
       "    <tr>\n",
       "      <th>4</th>\n",
       "      <td>4576_5</td>\n",
       "      <td>4576</td>\n",
       "      <td>5</td>\n",
       "      <td>CI23933</td>\n",
       "    </tr>\n",
       "  </tbody>\n",
       "</table>\n",
       "</div>"
      ],
      "text/plain": [
       "  user_sequence  user_id  challenge_sequence challenge\n",
       "0        4576_1     4576                   1   CI23714\n",
       "1        4576_2     4576                   2   CI23855\n",
       "2        4576_3     4576                   3   CI24917\n",
       "3        4576_4     4576                   4   CI23663\n",
       "4        4576_5     4576                   5   CI23933"
      ]
     },
     "execution_count": 3,
     "metadata": {},
     "output_type": "execute_result"
    }
   ],
   "source": [
    "df.head(5)"
   ]
  },
  {
   "cell_type": "code",
   "execution_count": 4,
   "metadata": {},
   "outputs": [
    {
     "data": {
      "text/html": [
       "<div>\n",
       "<style>\n",
       "    .dataframe thead tr:only-child th {\n",
       "        text-align: right;\n",
       "    }\n",
       "\n",
       "    .dataframe thead th {\n",
       "        text-align: left;\n",
       "    }\n",
       "\n",
       "    .dataframe tbody tr th {\n",
       "        vertical-align: top;\n",
       "    }\n",
       "</style>\n",
       "<table border=\"1\" class=\"dataframe\">\n",
       "  <thead>\n",
       "    <tr style=\"text-align: right;\">\n",
       "      <th></th>\n",
       "      <th>challenge_ID</th>\n",
       "      <th>programming_language</th>\n",
       "      <th>challenge_series_ID</th>\n",
       "      <th>total_submissions</th>\n",
       "      <th>publish_date</th>\n",
       "      <th>author_ID</th>\n",
       "      <th>author_gender</th>\n",
       "      <th>author_org_ID</th>\n",
       "      <th>category_id</th>\n",
       "    </tr>\n",
       "  </thead>\n",
       "  <tbody>\n",
       "    <tr>\n",
       "      <th>0</th>\n",
       "      <td>CI23478</td>\n",
       "      <td>2</td>\n",
       "      <td>SI2445</td>\n",
       "      <td>37.0</td>\n",
       "      <td>06-05-2006</td>\n",
       "      <td>AI563576</td>\n",
       "      <td>M</td>\n",
       "      <td>AOI100001</td>\n",
       "      <td>NaN</td>\n",
       "    </tr>\n",
       "    <tr>\n",
       "      <th>1</th>\n",
       "      <td>CI23479</td>\n",
       "      <td>2</td>\n",
       "      <td>SI2435</td>\n",
       "      <td>48.0</td>\n",
       "      <td>17-10-2002</td>\n",
       "      <td>AI563577</td>\n",
       "      <td>M</td>\n",
       "      <td>AOI100002</td>\n",
       "      <td>32.0</td>\n",
       "    </tr>\n",
       "    <tr>\n",
       "      <th>2</th>\n",
       "      <td>CI23480</td>\n",
       "      <td>1</td>\n",
       "      <td>SI2435</td>\n",
       "      <td>15.0</td>\n",
       "      <td>16-10-2002</td>\n",
       "      <td>AI563578</td>\n",
       "      <td>M</td>\n",
       "      <td>AOI100003</td>\n",
       "      <td>NaN</td>\n",
       "    </tr>\n",
       "    <tr>\n",
       "      <th>3</th>\n",
       "      <td>CI23481</td>\n",
       "      <td>1</td>\n",
       "      <td>SI2710</td>\n",
       "      <td>236.0</td>\n",
       "      <td>19-09-2003</td>\n",
       "      <td>AI563579</td>\n",
       "      <td>M</td>\n",
       "      <td>AOI100004</td>\n",
       "      <td>70.0</td>\n",
       "    </tr>\n",
       "    <tr>\n",
       "      <th>4</th>\n",
       "      <td>CI23482</td>\n",
       "      <td>2</td>\n",
       "      <td>SI2440</td>\n",
       "      <td>137.0</td>\n",
       "      <td>21-03-2002</td>\n",
       "      <td>AI563580</td>\n",
       "      <td>M</td>\n",
       "      <td>AOI100005</td>\n",
       "      <td>NaN</td>\n",
       "    </tr>\n",
       "  </tbody>\n",
       "</table>\n",
       "</div>"
      ],
      "text/plain": [
       "  challenge_ID  programming_language challenge_series_ID  total_submissions  \\\n",
       "0      CI23478                     2              SI2445               37.0   \n",
       "1      CI23479                     2              SI2435               48.0   \n",
       "2      CI23480                     1              SI2435               15.0   \n",
       "3      CI23481                     1              SI2710              236.0   \n",
       "4      CI23482                     2              SI2440              137.0   \n",
       "\n",
       "  publish_date author_ID author_gender author_org_ID  category_id  \n",
       "0   06-05-2006  AI563576             M     AOI100001          NaN  \n",
       "1   17-10-2002  AI563577             M     AOI100002         32.0  \n",
       "2   16-10-2002  AI563578             M     AOI100003          NaN  \n",
       "3   19-09-2003  AI563579             M     AOI100004         70.0  \n",
       "4   21-03-2002  AI563580             M     AOI100005          NaN  "
      ]
     },
     "execution_count": 4,
     "metadata": {},
     "output_type": "execute_result"
    }
   ],
   "source": [
    "df_challenge.head(5)"
   ]
  },
  {
   "cell_type": "code",
   "execution_count": 8,
   "metadata": {},
   "outputs": [
    {
     "name": "stdout",
     "output_type": "stream",
     "text": [
      "unique users in train 69532\n",
      "unique challenges in train 5348\n",
      "\n",
      "unique challenges in challenge data 5606\n",
      "unique series in challenge data 436\n",
      "unique programming languages 3\n"
     ]
    }
   ],
   "source": [
    "# unique users in train data\n",
    "print ('unique users in train', len(df['user_id'].unique()))\n",
    "\n",
    "# unique challenges in train\n",
    "print ('unique challenges in train', len(df['challenge'].unique()))\n",
    "\n",
    "print ()\n",
    "# unique challenges in challenge data\n",
    "print ('unique challenges in challenge data', len(df_challenge['challenge_ID'].unique()))\n",
    "\n",
    "# unique series in challenge dataq\n",
    "print ('unique series in challenge data', len(df_challenge['challenge_series_ID'].unique()))\n",
    "\n",
    "# unique programming languages\n",
    "print ('unique programming languages', len(df_challenge['programming_language'].unique()))"
   ]
  },
  {
   "cell_type": "code",
   "execution_count": 10,
   "metadata": {
    "collapsed": true
   },
   "outputs": [],
   "source": [
    "df_challenge['publish_date'] = df_challenge['publish_date'].apply(lambda x: x[6:] + '-' + x[3:5] + '-' + x[0:2])"
   ]
  },
  {
   "cell_type": "code",
   "execution_count": 11,
   "metadata": {},
   "outputs": [
    {
     "name": "stdout",
     "output_type": "stream",
     "text": [
      "max of publish date 2010-06-25\n",
      "max of publish date 1999-08-26\n",
      "max of submissions 43409.0\n",
      "min of submissions 2.0\n"
     ]
    }
   ],
   "source": [
    "# max of publish date\n",
    "print ('max of publish date', max(df_challenge['publish_date']))\n",
    "\n",
    "# min of publish date\n",
    "print ('max of publish date', min(df_challenge['publish_date']))\n",
    "\n",
    "# max no of submissions\n",
    "print ('max of submissions', max(df_challenge['total_submissions']))\n",
    "\n",
    "# min no of submissions\n",
    "print ('min of submissions', min(df_challenge['total_submissions']))"
   ]
  },
  {
   "cell_type": "code",
   "execution_count": 12,
   "metadata": {
    "collapsed": true
   },
   "outputs": [],
   "source": [
    "## merge the dataframes\n",
    "df_train = pd.merge(left = df, right = df_challenge, how = 'left', left_on = ['challenge'], right_on = ['challenge_ID'])"
   ]
  },
  {
   "cell_type": "code",
   "execution_count": 13,
   "metadata": {},
   "outputs": [
    {
     "data": {
      "text/html": [
       "<div>\n",
       "<style>\n",
       "    .dataframe thead tr:only-child th {\n",
       "        text-align: right;\n",
       "    }\n",
       "\n",
       "    .dataframe thead th {\n",
       "        text-align: left;\n",
       "    }\n",
       "\n",
       "    .dataframe tbody tr th {\n",
       "        vertical-align: top;\n",
       "    }\n",
       "</style>\n",
       "<table border=\"1\" class=\"dataframe\">\n",
       "  <thead>\n",
       "    <tr style=\"text-align: right;\">\n",
       "      <th></th>\n",
       "      <th>user_sequence</th>\n",
       "      <th>user_id</th>\n",
       "      <th>challenge_sequence</th>\n",
       "      <th>challenge</th>\n",
       "      <th>challenge_ID</th>\n",
       "      <th>programming_language</th>\n",
       "      <th>challenge_series_ID</th>\n",
       "      <th>total_submissions</th>\n",
       "      <th>publish_date</th>\n",
       "      <th>author_ID</th>\n",
       "      <th>author_gender</th>\n",
       "      <th>author_org_ID</th>\n",
       "      <th>category_id</th>\n",
       "    </tr>\n",
       "  </thead>\n",
       "  <tbody>\n",
       "    <tr>\n",
       "      <th>0</th>\n",
       "      <td>4576_1</td>\n",
       "      <td>4576</td>\n",
       "      <td>1</td>\n",
       "      <td>CI23714</td>\n",
       "      <td>CI23714</td>\n",
       "      <td>1</td>\n",
       "      <td>SI2477</td>\n",
       "      <td>14723.0</td>\n",
       "      <td>2006-06-12</td>\n",
       "      <td>AI563766</td>\n",
       "      <td>M</td>\n",
       "      <td>AOI100129</td>\n",
       "      <td>29.0</td>\n",
       "    </tr>\n",
       "    <tr>\n",
       "      <th>1</th>\n",
       "      <td>4576_2</td>\n",
       "      <td>4576</td>\n",
       "      <td>2</td>\n",
       "      <td>CI23855</td>\n",
       "      <td>CI23855</td>\n",
       "      <td>1</td>\n",
       "      <td>SI2468</td>\n",
       "      <td>20993.0</td>\n",
       "      <td>2006-07-24</td>\n",
       "      <td>AI563823</td>\n",
       "      <td>M</td>\n",
       "      <td>NaN</td>\n",
       "      <td>29.0</td>\n",
       "    </tr>\n",
       "    <tr>\n",
       "      <th>2</th>\n",
       "      <td>4576_3</td>\n",
       "      <td>4576</td>\n",
       "      <td>3</td>\n",
       "      <td>CI24917</td>\n",
       "      <td>CI24917</td>\n",
       "      <td>1</td>\n",
       "      <td>SI2545</td>\n",
       "      <td>43409.0</td>\n",
       "      <td>2007-07-02</td>\n",
       "      <td>AI564588</td>\n",
       "      <td>F</td>\n",
       "      <td>AOI100581</td>\n",
       "      <td>66.0</td>\n",
       "    </tr>\n",
       "    <tr>\n",
       "      <th>3</th>\n",
       "      <td>4576_4</td>\n",
       "      <td>4576</td>\n",
       "      <td>4</td>\n",
       "      <td>CI23663</td>\n",
       "      <td>CI23663</td>\n",
       "      <td>1</td>\n",
       "      <td>SI2472</td>\n",
       "      <td>8897.0</td>\n",
       "      <td>2004-09-15</td>\n",
       "      <td>AI563724</td>\n",
       "      <td>M</td>\n",
       "      <td>AOI100098</td>\n",
       "      <td>45.0</td>\n",
       "    </tr>\n",
       "    <tr>\n",
       "      <th>4</th>\n",
       "      <td>4576_5</td>\n",
       "      <td>4576</td>\n",
       "      <td>5</td>\n",
       "      <td>CI23933</td>\n",
       "      <td>CI23933</td>\n",
       "      <td>1</td>\n",
       "      <td>SI2468</td>\n",
       "      <td>15086.0</td>\n",
       "      <td>2006-07-27</td>\n",
       "      <td>AI563783</td>\n",
       "      <td>M</td>\n",
       "      <td>AOI100149</td>\n",
       "      <td>31.0</td>\n",
       "    </tr>\n",
       "  </tbody>\n",
       "</table>\n",
       "</div>"
      ],
      "text/plain": [
       "  user_sequence  user_id  challenge_sequence challenge challenge_ID  \\\n",
       "0        4576_1     4576                   1   CI23714      CI23714   \n",
       "1        4576_2     4576                   2   CI23855      CI23855   \n",
       "2        4576_3     4576                   3   CI24917      CI24917   \n",
       "3        4576_4     4576                   4   CI23663      CI23663   \n",
       "4        4576_5     4576                   5   CI23933      CI23933   \n",
       "\n",
       "   programming_language challenge_series_ID  total_submissions publish_date  \\\n",
       "0                     1              SI2477            14723.0   2006-06-12   \n",
       "1                     1              SI2468            20993.0   2006-07-24   \n",
       "2                     1              SI2545            43409.0   2007-07-02   \n",
       "3                     1              SI2472             8897.0   2004-09-15   \n",
       "4                     1              SI2468            15086.0   2006-07-27   \n",
       "\n",
       "  author_ID author_gender author_org_ID  category_id  \n",
       "0  AI563766             M     AOI100129         29.0  \n",
       "1  AI563823             M           NaN         29.0  \n",
       "2  AI564588             F     AOI100581         66.0  \n",
       "3  AI563724             M     AOI100098         45.0  \n",
       "4  AI563783             M     AOI100149         31.0  "
      ]
     },
     "execution_count": 13,
     "metadata": {},
     "output_type": "execute_result"
    }
   ],
   "source": [
    "df_train.head(5)"
   ]
  },
  {
   "cell_type": "code",
   "execution_count": 21,
   "metadata": {},
   "outputs": [
    {
     "name": "stdout",
     "output_type": "stream",
     "text": [
      "   programming_language  user_id\n",
      "0                     1    68104\n",
      "1                     2       24\n",
      "2                     3      998\n",
      "3                     4       22\n",
      "4                     5      343\n",
      "5                     6        2\n",
      "6                     7       39\n"
     ]
    }
   ],
   "source": [
    "## get user preferance for programming language\n",
    "program_dict = {1:1, 2:2, 3:4} # for binary conversion\n",
    "df_temp = df_train.groupby(['user_id', 'programming_language']).count()['user_sequence'].reset_index()\n",
    "df_temp = df_temp.sort_values(by = ['user_id', 'programming_language'])\n",
    "df_temp['programming_language'] = df_temp['programming_language'].apply(lambda x: program_dict[x])\n",
    "df_temp = df_temp.groupby(['user_id']).sum()['programming_language'].reset_index()\n",
    "df_temp = df_temp.groupby(['programming_language']).count()['user_id'].reset_index()\n",
    "print (df_temp)\n",
    "\n",
    "## majority of the users prefer language no 1"
   ]
  },
  {
   "cell_type": "code",
   "execution_count": 27,
   "metadata": {},
   "outputs": [
    {
     "name": "stdout",
     "output_type": "stream",
     "text": [
      "    challenge_sequence challenge challenge_series_ID publish_date\n",
      "0                    1   CI23714              SI2477   2006-06-12\n",
      "1                    2   CI23855              SI2468   2006-07-24\n",
      "2                    3   CI24917              SI2545   2007-07-02\n",
      "3                    4   CI23663              SI2472   2004-09-15\n",
      "4                    5   CI23933              SI2468   2006-07-27\n",
      "5                    6   CI25135              SI2556   2007-08-25\n",
      "6                    7   CI23975              SI2462   2005-01-24\n",
      "7                    8   CI25126              SI2556   2007-08-21\n",
      "8                    9   CI24915              SI2545   2007-07-02\n",
      "9                   10   CI24957              SI2545   2007-07-06\n",
      "10                  11   CI24958              SI2545   2007-07-09\n",
      "11                  12   CI23667              SI2463   2003-08-06\n",
      "12                  13   CI23691              SI2469   2005-05-25\n",
      "       challenge_sequence challenge challenge_series_ID publish_date\n",
      "16549                   1   CI26164              SI2634   1999-10-01\n",
      "16550                   2   CI26174              SI2634   1999-10-29\n",
      "16551                   3   CI26208              SI2634   1999-11-03\n",
      "16552                   4   CI26211              SI2634   1999-11-10\n",
      "16553                   5   CI26210              SI2634   1999-11-08\n",
      "16554                   6   CI26209              SI2634   1999-11-05\n",
      "16555                   7   CI26213              SI2634   1999-11-15\n",
      "16556                   8   CI26214              SI2634   1999-11-17\n",
      "16557                   9   CI26216              SI2634   1999-11-24\n",
      "16558                  10   CI26212              SI2634   1999-11-12\n",
      "16559                  11   CI26218              SI2634   1999-12-01\n",
      "16560                  12   CI26219              SI2634   1999-12-03\n",
      "16561                  13   CI26221              SI2634   1999-12-08\n"
     ]
    }
   ],
   "source": [
    "## check the time duration between the challenges solved by users\n",
    "## first check if the challenges are in increasing time order for some random users\n",
    "print (df_train.loc[df_train['user_id'] == 4576, ['challenge_sequence', 'challenge', 'challenge_series_ID', 'publish_date']])\n",
    "print (df_train.loc[df_train['user_id'] == 6576, ['challenge_sequence', 'challenge', 'challenge_series_ID', 'publish_date']])"
   ]
  },
  {
   "cell_type": "code",
   "execution_count": 28,
   "metadata": {},
   "outputs": [
    {
     "name": "stdout",
     "output_type": "stream",
     "text": [
      "    year  user_id\n",
      "0   1999    10124\n",
      "1   2000        4\n",
      "2   2001      799\n",
      "3   2002     2282\n",
      "4   2003     6216\n",
      "5   2004    10624\n",
      "6   2005     9854\n",
      "7   2006    18502\n",
      "8   2007     7767\n",
      "9   2008     1938\n",
      "10  2009     1422\n"
     ]
    }
   ],
   "source": [
    "## check what is the first year of when the user solved a challenge\n",
    "df_train['year'] = df_train['publish_date'].apply(lambda x: int(x[:4]))\n",
    "print (df_train.loc[df_train['challenge_sequence'] == 1, :].groupby(['year']).count()['user_id'].reset_index())"
   ]
  },
  {
   "cell_type": "code",
   "execution_count": 50,
   "metadata": {},
   "outputs": [
    {
     "name": "stdout",
     "output_type": "stream",
     "text": [
      "   challenge_sequence  user_id\n",
      "0                   1     6994\n",
      "1                  13     1223\n",
      "2                  14     3130\n"
     ]
    }
   ],
   "source": [
    "## checkd if the users with first challenge in 1999, have last challenge also in 1999\n",
    "print (df_train.loc[(df_train['year'] == 1999) & (df_train['challenge_sequence'].isin([1, 13])), :].\\\n",
    "       groupby(['user_id']).sum()['challenge_sequence'].reset_index().\\\n",
    "       groupby(['challenge_sequence']).count()['user_id'].reset_index())"
   ]
  },
  {
   "cell_type": "code",
   "execution_count": null,
   "metadata": {
    "collapsed": true
   },
   "outputs": [],
   "source": []
  },
  {
   "cell_type": "code",
   "execution_count": null,
   "metadata": {
    "collapsed": true
   },
   "outputs": [],
   "source": []
  }
 ],
 "metadata": {
  "kernelspec": {
   "display_name": "Python 3",
   "language": "python",
   "name": "python3"
  },
  "language_info": {
   "codemirror_mode": {
    "name": "ipython",
    "version": 3
   },
   "file_extension": ".py",
   "mimetype": "text/x-python",
   "name": "python",
   "nbconvert_exporter": "python",
   "pygments_lexer": "ipython3",
   "version": "3.6.1"
  }
 },
 "nbformat": 4,
 "nbformat_minor": 2
}
